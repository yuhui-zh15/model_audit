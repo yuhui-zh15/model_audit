{
 "cells": [
  {
   "cell_type": "code",
   "execution_count": 1,
   "metadata": {},
   "outputs": [
    {
     "data": {
      "text/plain": [
       "<All keys matched successfully>"
      ]
     },
     "execution_count": 1,
     "metadata": {},
     "output_type": "execute_result"
    }
   ],
   "source": [
    "import sys\n",
    "\n",
    "sys.path.append(\"/pastuer/u/yuhuiz/develop/mmdebug\")\n",
    "\n",
    "import itertools\n",
    "import json\n",
    "from pprint import pprint\n",
    "from typing import List\n",
    "\n",
    "import clip  # type: ignore\n",
    "import torch\n",
    "import torch.nn.functional as F\n",
    "import numpy as np\n",
    "from scipy.stats import spearmanr, pearsonr\n",
    "\n",
    "from datasets import AttributeDataset, ImageDataset, TextDataset, create_dataloader\n",
    "from models import Linear\n",
    "from trainer import run_one_epoch\n",
    "from utils import computing_subgroup_metrics, subgrouping\n",
    "from matplotlib import pyplot as plt\n",
    "from utils import openai_imagenet_template, openai_imagenet_classes\n",
    "from collections import defaultdict\n",
    "\n",
    "\n",
    "CLIP_MODEL = \"ViT-B/32\"\n",
    "LINEAR_MODEL = \"dspites_linear_model.pt\"\n",
    "N_CLASS = 2\n",
    "clip_model, transform = clip.load(name=CLIP_MODEL, device=\"cuda\")\n",
    "clip_model = clip_model.float()\n",
    "model = Linear(clip_model.visual.output_dim, N_CLASS).cuda()\n",
    "state_dict = torch.load(LINEAR_MODEL)\n",
    "model.load_state_dict(state_dict)"
   ]
  },
  {
   "cell_type": "markdown",
   "metadata": {},
   "source": [
    "# Slice Analysis"
   ]
  },
  {
   "cell_type": "markdown",
   "metadata": {},
   "source": [
    "## [Preparation] Ground-truth image dataset and text cross-product performance"
   ]
  },
  {
   "cell_type": "code",
   "execution_count": 104,
   "metadata": {},
   "outputs": [
    {
     "name": "stderr",
     "output_type": "stream",
     "text": [
      "Epoch -1, Eval True: 100%|███████████████████████████████████████████████████████████████████████████████| 267/267 [00:10<00:00, 25.01it/s]\n",
      "Epoch -1, Eval True: 100%|███████████████████████████████████████████████████████████████████████████████████| 2/2 [00:00<00:00,  7.30it/s]\n"
     ]
    }
   ],
   "source": [
    "image_data = [\n",
    "    json.loads(line)\n",
    "    for line in open(\n",
    "        \"/pasteur/u/yuhuiz/data/TriangleSquare/processed_attribute_dataset/attributes.jsonl\"\n",
    "    )\n",
    "]\n",
    "train_idxs, val_idxs = json.load(\n",
    "    open(\"/pasteur/u/yuhuiz/mmdebug/src/train_val_idxs.json\")\n",
    ")\n",
    "image_data = [x for i, x in enumerate(image_data) if i in val_idxs]\n",
    "\n",
    "for item in image_data:\n",
    "    item[\"label\"] = item[\"attributes\"][\"label\"]\n",
    "    if item[\"attributes\"][\"scale\"] < 0.9:\n",
    "        item[\"attributes\"][\"concrete_scale\"] = 0\n",
    "    elif item[\"attributes\"][\"scale\"] > 1.1:\n",
    "        item[\"attributes\"][\"concrete_scale\"] = 2\n",
    "    else:\n",
    "        item[\"attributes\"][\"concrete_scale\"] = 1\n",
    "\n",
    "image_dataset = ImageDataset(data=image_data)\n",
    "image_dataloader = create_dataloader(\n",
    "    dataset=image_dataset, modality=\"image\", transform=transform\n",
    ")\n",
    "image_metrics = run_one_epoch(\n",
    "    dataloader=image_dataloader,\n",
    "    model=model,\n",
    "    clip_model=clip_model,\n",
    "    modality=\"image\",\n",
    "    opt=None,\n",
    "    epoch_idx=-1,\n",
    "    eval=True,\n",
    "    verbose=True,\n",
    ")\n",
    "\n",
    "# Dataset attributes\n",
    "attributes = {\n",
    "    \"color\": set([x[\"attributes\"][\"color\"] for x in image_data]),\n",
    "    # \"position\": set([x[\"attributes\"][\"position\"] for x in image_data]),\n",
    "    \"label\": set([x[\"attributes\"][\"label\"] for x in image_data]),\n",
    "    \"concrete_scale\": set([x[\"attributes\"][\"concrete_scale\"] for x in image_data]),\n",
    "}\n",
    "attributes_combinations = [\n",
    "    dict(zip(attributes, x)) for x in itertools.product(*attributes.values())\n",
    "]\n",
    "\n",
    "\n",
    "################################ Raw ################################\n",
    "# text_data = [\n",
    "#     {\n",
    "#         \"text\": f\"{['small', 'medium', 'large'][x['concrete_scale']]}, {x['color']}, {['square', 'triangle'][x['label']]}.\", # , {['upper left', 'lower left', 'upper right', 'lower right'][x['position']]}.\",\n",
    "#         \"label\": x[\"label\"],\n",
    "#         \"attributes\": {\n",
    "#             \"color\": x[\"color\"],\n",
    "#             # \"position\": x[\"position\"],\n",
    "#             \"label\": x[\"label\"],\n",
    "#             \"concrete_scale\": x[\"concrete_scale\"],\n",
    "#         },\n",
    "#     }\n",
    "#     for x in attributes_combinations\n",
    "# ]\n",
    "\n",
    "################################ Prompt Engineering ################################\n",
    "text_data = [\n",
    "    {\n",
    "        \"text\": f\"{['small', 'medium', 'large'][x['concrete_scale']]} {x['color']} {['square', 'triangle'][x['label']]}.\",  # {['upper left', 'lower left', 'upper right', 'lower right'][x['position']]}.\",\n",
    "        \"label\": x[\"label\"],\n",
    "        \"attributes\": {\n",
    "            \"color\": x[\"color\"],\n",
    "            # \"position\": x[\"position\"],\n",
    "            \"label\": x[\"label\"],\n",
    "            \"concrete_scale\": x[\"concrete_scale\"],\n",
    "        },\n",
    "    }\n",
    "    for x in attributes_combinations\n",
    "]\n",
    "\n",
    "################################ Prompt Ensemble ################################\n",
    "# text_data = [\n",
    "#     {\n",
    "#         \"text\": prompt(f\"{['small', 'medium', 'large'][x['concrete_scale']]} {x['color']} {['square', 'triangle'][x['label']]}\"), # {['upper left', 'lower left', 'upper right', 'lower right'][x['position']]}.\",\n",
    "#         \"label\": x[\"label\"],\n",
    "#         \"attributes\": {\n",
    "#             \"color\": x[\"color\"],\n",
    "#             # \"position\": x[\"position\"],\n",
    "#             \"label\": x[\"label\"],\n",
    "#             \"concrete_scale\": x[\"concrete_scale\"],\n",
    "#         },\n",
    "#     }\n",
    "#     for x in attributes_combinations\n",
    "#     for prompt in openai_imagenet_template\n",
    "# ]\n",
    "\n",
    "# TODO: select one from above\n",
    "\n",
    "text_dataset = TextDataset(data=text_data)\n",
    "text_dataloader = create_dataloader(dataset=text_dataset, modality=\"text\")\n",
    "text_metrics = run_one_epoch(\n",
    "    dataloader=text_dataloader,\n",
    "    model=model,\n",
    "    clip_model=clip_model,\n",
    "    modality=\"text\",\n",
    "    opt=None,\n",
    "    epoch_idx=-1,\n",
    "    eval=True,\n",
    "    verbose=True,\n",
    ")"
   ]
  },
  {
   "cell_type": "markdown",
   "metadata": {},
   "source": [
    "## Larger slice discovery"
   ]
  },
  {
   "cell_type": "code",
   "execution_count": 103,
   "metadata": {},
   "outputs": [
    {
     "name": "stdout",
     "output_type": "stream",
     "text": [
      "[((('color', 'orange'), ('label', 0)), 0.033734939759036145),\n",
      " ((('color', 'green'), ('label', 1)), 0.06165228113440197),\n",
      " ((('color', 'blue'), ('label', 1)), 0.6575342465753424),\n",
      " ((('color', 'cyan'), ('label', 0)), 0.9761904761904762),\n",
      " ((('color', 'pink'), ('label', 1)), 0.9861431870669746),\n",
      " ((('color', 'red'), ('label', 0)), 0.9939759036144579),\n",
      " ((('color', 'red'), ('label', 1)), 0.9954337899543378),\n",
      " ((('color', 'blue'), ('label', 0)), 1.0),\n",
      " ((('color', 'cyan'), ('label', 1)), 1.0),\n",
      " ((('color', 'green'), ('label', 0)), 1.0),\n",
      " ((('color', 'orange'), ('label', 1)), 1.0),\n",
      " ((('color', 'pink'), ('label', 0)), 1.0)]\n",
      "\n",
      "[((('color', 'green'), ('label', 1)), 0.0),\n",
      " ((('color', 'orange'), ('label', 0)), 0.020833333333333332),\n",
      " ((('color', 'pink'), ('label', 1)), 0.5541666666666667),\n",
      " ((('color', 'cyan'), ('label', 1)), 0.775),\n",
      " ((('color', 'red'), ('label', 1)), 0.775),\n",
      " ((('color', 'blue'), ('label', 1)), 0.7791666666666667),\n",
      " ((('color', 'red'), ('label', 0)), 0.9833333333333333),\n",
      " ((('color', 'blue'), ('label', 0)), 1.0),\n",
      " ((('color', 'cyan'), ('label', 0)), 1.0),\n",
      " ((('color', 'green'), ('label', 0)), 1.0),\n",
      " ((('color', 'orange'), ('label', 1)), 1.0),\n",
      " ((('color', 'pink'), ('label', 0)), 1.0)]\n",
      "\n",
      "[((('color', 'green'), ('label', 1)), 0.1640774577235182),\n",
      " ((('color', 'orange'), ('label', 0)), 0.29899699591721096),\n",
      " ((('color', 'pink'), ('label', 1)), 0.5043878796199958),\n",
      " ((('color', 'red'), ('label', 1)), 0.565069725488623),\n",
      " ((('color', 'cyan'), ('label', 1)), 0.5658887955049674),\n",
      " ((('color', 'blue'), ('label', 1)), 0.5671478483825922),\n",
      " ((('color', 'red'), ('label', 0)), 0.7445042771597703),\n",
      " ((('color', 'blue'), ('label', 0)), 0.8061522632837296),\n",
      " ((('color', 'cyan'), ('label', 0)), 0.8335733828445275),\n",
      " ((('color', 'pink'), ('label', 0)), 0.8625232800841331),\n",
      " ((('color', 'orange'), ('label', 1)), 0.9316345262030761),\n",
      " ((('color', 'green'), ('label', 0)), 0.9712590903043747)]\n",
      "\n"
     ]
    }
   ],
   "source": [
    "fields = [\"color\", \"label\"]\n",
    "\n",
    "image_preds, image_labels = image_metrics[\"preds\"], image_metrics[\"labels\"]\n",
    "image_subgroups = subgrouping(image_data, fields)\n",
    "image_subgroup_metrics = computing_subgroup_metrics(\n",
    "    image_preds, image_labels, image_subgroups\n",
    ")\n",
    "pprint(sorted(image_subgroup_metrics.items(), key=lambda x: x[1]))\n",
    "print()\n",
    "\n",
    "text_preds, text_labels = text_metrics[\"preds\"], text_metrics[\"labels\"]\n",
    "text_subgroups = subgrouping(text_data, fields)\n",
    "text_subgroup_metrics = computing_subgroup_metrics(\n",
    "    text_preds, text_labels, text_subgroups\n",
    ")\n",
    "pprint(sorted(text_subgroup_metrics.items(), key=lambda x: x[1]))\n",
    "print()\n",
    "\n",
    "text_logits = text_metrics[\"logits\"]\n",
    "text_probs = torch.softmax(torch.tensor(text_logits), dim=1).numpy().tolist()\n",
    "text_subgroup_probs = defaultdict(list)\n",
    "for i, x in enumerate(text_data):\n",
    "    key = ((\"color\", x[\"attributes\"][\"color\"]), (\"label\", x[\"attributes\"][\"label\"]))\n",
    "    value = text_probs[i][x[\"label\"]]\n",
    "    text_subgroup_probs[key].append(value)\n",
    "text_subgroup_probs = {k: float(np.mean(v)) for k, v in text_subgroup_probs.items()}\n",
    "pprint(sorted(text_subgroup_probs.items(), key=lambda x: x[1]))\n",
    "print()"
   ]
  },
  {
   "cell_type": "markdown",
   "metadata": {},
   "source": [
    "## Atomic slice correlation"
   ]
  },
  {
   "cell_type": "code",
   "execution_count": 16,
   "metadata": {},
   "outputs": [],
   "source": [
    "def compute_correlation(data1_list: List, data2_list: List) -> None:\n",
    "    assert len(data1_list) == len(data2_list)\n",
    "    data1 = np.array(data1_list)\n",
    "    data2 = np.array(data2_list)\n",
    "    spearmanr_corr, spearmanr_pval = spearmanr(data1, data2)\n",
    "    pearsonr_corr, pearsonr_pval = pearsonr(data1, data2)\n",
    "    print(f\"Spearman correlation: {spearmanr_corr:.4f} (p-value: {spearmanr_pval:.4f})\")\n",
    "    print(f\"Pearson correlation: {pearsonr_corr:.4f} (p-value: {pearsonr_pval:.4f})\")\n",
    "    plt.figure()\n",
    "    plt.scatter(data1, data2, alpha=0.3, s=10)\n",
    "    plt.show()"
   ]
  },
  {
   "cell_type": "code",
   "execution_count": 96,
   "metadata": {},
   "outputs": [
    {
     "name": "stdout",
     "output_type": "stream",
     "text": [
      "[((('color', 'green'), ('label', 1), ('concrete_scale', 0)),\n",
      "  0.00904977375565611),\n",
      " ((('color', 'orange'), ('label', 0), ('concrete_scale', 2)),\n",
      "  0.027906976744186046),\n",
      " ((('color', 'orange'), ('label', 0), ('concrete_scale', 1)),\n",
      "  0.029411764705882353)]\n",
      "\n",
      "[((('color', 'green'), ('label', 1), ('concrete_scale', 0)), 0.0),\n",
      " ((('color', 'green'), ('label', 1), ('concrete_scale', 1)), 0.0),\n",
      " ((('color', 'green'), ('label', 1), ('concrete_scale', 2)), 0.0)]\n",
      "\n",
      "[((('color', 'green'), ('label', 1), ('concrete_scale', 1)),\n",
      "  0.1546308876015246),\n",
      " ((('color', 'green'), ('label', 1), ('concrete_scale', 0)),\n",
      "  0.16238331096246839),\n",
      " ((('color', 'green'), ('label', 1), ('concrete_scale', 2)),\n",
      "  0.17521817460656167)]\n",
      "\n",
      "Spearman correlation: 0.6807 (p-value: 0.0000)\n",
      "Pearson correlation: 0.8897 (p-value: 0.0000)\n"
     ]
    },
    {
     "data": {
      "image/png": "[encoded data removed]",
      "text/plain": [
       "<Figure size 432x288 with 1 Axes>"
      ]
     },
     "metadata": {
      "needs_background": "light"
     },
     "output_type": "display_data"
    },
    {
     "name": "stdout",
     "output_type": "stream",
     "text": [
      "Spearman correlation: 0.7028 (p-value: 0.0000)\n",
      "Pearson correlation: 0.7918 (p-value: 0.0000)\n"
     ]
    },
    {
     "data": {
      "image/png": "[encoded data removed]",
      "text/plain": [
       "<Figure size 432x288 with 1 Axes>"
      ]
     },
     "metadata": {
      "needs_background": "light"
     },
     "output_type": "display_data"
    }
   ],
   "source": [
    "fields = [\"color\", \"label\", \"concrete_scale\"]\n",
    "\n",
    "image_preds, image_labels = image_metrics[\"preds\"], image_metrics[\"labels\"]\n",
    "image_subgroups = subgrouping(image_data, fields)\n",
    "image_subgroup_metrics = computing_subgroup_metrics(\n",
    "    image_preds, image_labels, image_subgroups\n",
    ")\n",
    "pprint(sorted(image_subgroup_metrics.items(), key=lambda x: x[1])[:3])\n",
    "print()\n",
    "\n",
    "text_preds, text_labels = text_metrics[\"preds\"], text_metrics[\"labels\"]\n",
    "text_subgroups = subgrouping(text_data, fields)\n",
    "text_subgroup_metrics = computing_subgroup_metrics(\n",
    "    text_preds, text_labels, text_subgroups\n",
    ")\n",
    "pprint(sorted(text_subgroup_metrics.items(), key=lambda x: x[1])[:3])\n",
    "print()\n",
    "\n",
    "text_logits = text_metrics[\"logits\"]\n",
    "text_probs = torch.softmax(torch.tensor(text_logits), dim=1).numpy().tolist()\n",
    "text_subgroup_probs = defaultdict(list)\n",
    "for i, x in enumerate(text_data):\n",
    "    key = (\n",
    "        (\"color\", x[\"attributes\"][\"color\"]),\n",
    "        (\"label\", x[\"attributes\"][\"label\"]),\n",
    "        # (\"position\", x[\"attributes\"][\"position\"]),\n",
    "        (\"concrete_scale\", x[\"attributes\"][\"concrete_scale\"]),\n",
    "    )\n",
    "    value = text_probs[i][x[\"label\"]]\n",
    "    text_subgroup_probs[key].append(value)\n",
    "text_subgroup_probs = {k: float(np.mean(v)) for k, v in text_subgroup_probs.items()}\n",
    "pprint(sorted(text_subgroup_probs.items(), key=lambda x: x[1])[:3])\n",
    "print()\n",
    "\n",
    "compute_correlation(\n",
    "    [text_subgroup_metrics[x] for x in image_subgroup_metrics],\n",
    "    [image_subgroup_metrics[x] for x in image_subgroup_metrics],\n",
    ")\n",
    "compute_correlation(\n",
    "    [text_subgroup_probs[x] for x in image_subgroup_metrics],\n",
    "    [image_subgroup_metrics[x] for x in image_subgroup_metrics],\n",
    ")"
   ]
  },
  {
   "cell_type": "markdown",
   "metadata": {},
   "source": [
    "## Image Correlation Analysis"
   ]
  },
  {
   "cell_type": "code",
   "execution_count": 16,
   "metadata": {},
   "outputs": [
    {
     "name": "stderr",
     "output_type": "stream",
     "text": [
      "Epoch -1, Eval True: 100%|█████████████████████████████████████████████████████████████████████████████████| 79/79 [00:09<00:00,  8.07it/s]"
     ]
    },
    {
     "name": "stdout",
     "output_type": "stream",
     "text": [
      "[((('age', '0-2'), ('race', 'Black'), ('gender', 'Female')), 0.0),\n",
      " ((('age', '0-2'), ('race', 'Middle Eastern'), ('gender', 'Female')), 0.0),\n",
      " ((('age', '3-9'), ('race', 'Black'), ('gender', 'Male')), 0.0)]\n",
      "\n",
      "[((('age', '20-29'), ('race', 'Middle Eastern'), ('gender', 'Male')),\n",
      "  0.00465531786903739),\n",
      " ((('age', '40-49'), ('race', 'East Asian'), ('gender', 'Female')),\n",
      "  0.0048574176616966724),\n",
      " ((('age', '60-69'), ('race', 'Latino_Hispanic'), ('gender', 'Female')),\n",
      "  0.006033725570887327)]\n",
      "\n",
      "Spearman correlation: 0.0954 (p-value: 0.2879)\n",
      "Pearson correlation: 0.3158 (p-value: 0.0003)\n"
     ]
    },
    {
     "name": "stderr",
     "output_type": "stream",
     "text": [
      "\n"
     ]
    },
    {
     "data": {
      "image/png": "[encoded data removed]",
      "text/plain": [
       "<Figure size 432x288 with 1 Axes>"
      ]
     },
     "metadata": {
      "needs_background": "light"
     },
     "output_type": "display_data"
    },
    {
     "name": "stdout",
     "output_type": "stream",
     "text": [
      "Spearman correlation: -0.0658 (p-value: 0.4643)\n",
      "Pearson correlation: 0.0393 (p-value: 0.6619)\n"
     ]
    },
    {
     "data": {
      "image/png": "[encoded data removed]",
      "text/plain": [
       "<Figure size 432x288 with 1 Axes>"
      ]
     },
     "metadata": {
      "needs_background": "light"
     },
     "output_type": "display_data"
    }
   ],
   "source": [
    "# fields = [\"color\", \"label\", \"concrete_scale\"]\n",
    "\n",
    "\n",
    "# image_generated_data = [\n",
    "#     json.loads(line)\n",
    "#     for line in open(\n",
    "#         \"/pasteur/u/yuhuiz/mars_develop/fairface/fairface_text_data_generated_images.jsonl\"\n",
    "#     )\n",
    "# ]\n",
    "\n",
    "# for item in image_generated_data:\n",
    "#     item[\"image\"] = item[\"image\"].replace(\n",
    "#         \"/sailhome/marshuang80/mars/\", \"/pasteur/u/yuhuiz/mars_develop/\"\n",
    "#     )\n",
    "#     if item[\"attributes\"][\"race\"] == \"Latino Hispanic\":\n",
    "#         item[\"attributes\"][\"race\"] = \"Latino_Hispanic\"\n",
    "\n",
    "\n",
    "# def filter_fn(x):\n",
    "#     return True\n",
    "\n",
    "\n",
    "# image_generated_data = [x for x in image_generated_data if filter_fn(x)]\n",
    "\n",
    "\n",
    "# def label_fn(x):\n",
    "#     return 1 if x[\"attributes\"][\"gender\"] == \"Female\" else 0\n",
    "\n",
    "\n",
    "# for item in image_generated_data:\n",
    "#     item[\"label\"] = label_fn(item)\n",
    "\n",
    "# image_generated_dataset = ImageDataset(data=image_generated_data)\n",
    "# image_generated_dataloader = create_dataloader(\n",
    "#     dataset=image_generated_dataset, modality=\"image\", transform=transform\n",
    "# )\n",
    "# image_generated_metrics = run_one_epoch(\n",
    "#     dataloader=image_generated_dataloader,\n",
    "#     model=model,\n",
    "#     clip_model=clip_model,\n",
    "#     modality=\"image\",\n",
    "#     opt=None,\n",
    "#     epoch_idx=-1,\n",
    "#     eval=True,\n",
    "#     verbose=True,\n",
    "# )\n",
    "# image_generated_preds, image_generated_labels = (\n",
    "#     image_generated_metrics[\"preds\"],\n",
    "#     image_generated_metrics[\"labels\"],\n",
    "# )\n",
    "# image_generated_subgroups = subgrouping(image_generated_data, fields)\n",
    "# image_generated_subgroup_metrics = computing_subgroup_metrics(\n",
    "#     image_generated_preds, image_generated_labels, image_generated_subgroups\n",
    "# )\n",
    "# pprint(sorted(image_generated_subgroup_metrics.items(), key=lambda x: x[1])[:3])\n",
    "# print()\n",
    "\n",
    "# image_generated_logits = image_generated_metrics[\"logits\"]\n",
    "# image_generated_probs = (\n",
    "#     torch.softmax(torch.tensor(image_generated_logits), dim=1).numpy().tolist()\n",
    "# )\n",
    "# image_generated_subgroup_probs = defaultdict(list)\n",
    "# for i, x in enumerate(image_generated_data):\n",
    "#     key = (\n",
    "#         (\"age\", x[\"attributes\"][\"age\"]),\n",
    "#         (\"race\", x[\"attributes\"][\"race\"]),\n",
    "#         (\"gender\", x[\"attributes\"][\"gender\"]),\n",
    "#     )\n",
    "#     value = text_probs[i][x[\"label\"]]\n",
    "#     image_generated_subgroup_probs[key].append(value)\n",
    "# image_generated_subgroup_probs = {\n",
    "#     # k: v[0] for k, v in image_generated_subgroup_probs.items()\n",
    "#     k: float(np.mean(v))\n",
    "#     for k, v in image_generated_subgroup_probs.items()  # 1 image correlation\n",
    "# }\n",
    "# pprint(sorted(image_generated_subgroup_probs.items(), key=lambda x: x[1])[:3])\n",
    "# print()\n",
    "\n",
    "# compute_correlation(\n",
    "#     [image_generated_subgroup_metrics[x] for x in image_subgroup_metrics],\n",
    "#     [image_subgroup_metrics[x] for x in image_subgroup_metrics],\n",
    "# )  # Accuracy-Accuracy Correlation\n",
    "# compute_correlation(\n",
    "#     [image_generated_subgroup_probs[x] for x in image_subgroup_metrics],\n",
    "#     [image_subgroup_metrics[x] for x in image_subgroup_metrics],\n",
    "# )  # Prob-Accuracy Correlation"
   ]
  },
  {
   "cell_type": "markdown",
   "metadata": {},
   "source": [
    "# Attribute-based Interpretation"
   ]
  },
  {
   "cell_type": "code",
   "execution_count": 98,
   "metadata": {},
   "outputs": [],
   "source": [
    "attributes = {\n",
    "    \"scale\": {\"small\", \"medium\", \"large\"},\n",
    "    \"color\": {\"blue\", \"cyan\", \"green\", \"orange\", \"pink\", \"red\"},\n",
    "}"
   ]
  },
  {
   "cell_type": "markdown",
   "metadata": {},
   "source": [
    "## Direct influence"
   ]
  },
  {
   "cell_type": "code",
   "execution_count": 99,
   "metadata": {},
   "outputs": [
    {
     "name": "stdout",
     "output_type": "stream",
     "text": [
      "If we care about triangle (label = 1), the most similar attributes are:\n",
      "[('orange', 0.8680298924446106), ('red', 0.4075278043746948), ('pink', 0.3324088752269745), ('cyan', 0.32082444429397583), ('blue', 0.2729652225971222), ('green', 0.06301457434892654)]\n"
     ]
    }
   ],
   "source": [
    "attribute_list = list(attributes[\"color\"])\n",
    "\n",
    "attribute_embeddings = F.normalize(\n",
    "    clip_model.encode_text(clip.tokenize(attribute_list).cuda())\n",
    ")\n",
    "probs = torch.softmax(model(attribute_embeddings), dim=1)\n",
    "\n",
    "attribute_scores = {\n",
    "    attribute_list[i]: float(probs[i, 1]) for i in range(len(attribute_list))\n",
    "}\n",
    "\n",
    "print(\"If we care about triangle (label = 1), the most similar attributes are:\")\n",
    "print(sorted(attribute_scores.items(), key=lambda x: x[1], reverse=True)[:10])"
   ]
  },
  {
   "cell_type": "markdown",
   "metadata": {},
   "source": [
    "## Aggregated Influence: Shapley Value s(a) = E_{S subset {F \\ a}} [f(S, a) - f(S)]"
   ]
  },
  {
   "cell_type": "code",
   "execution_count": 100,
   "metadata": {},
   "outputs": [
    {
     "name": "stdout",
     "output_type": "stream",
     "text": [
      "If we care about triangle (label = 1), the most influential attributes are (reported Shapley value):\n",
      "[('large', tensor(-0.0081)),\n",
      " ('small', tensor(-0.0188)),\n",
      " ('medium', tensor(-0.0250))]\n"
     ]
    }
   ],
   "source": [
    "scale_list = list(attributes[\"scale\"])\n",
    "color_list = list(attributes[\"color\"])\n",
    "\n",
    "attribute_shapley = {}\n",
    "print(\n",
    "    \"If we care about triangle (label = 1), the most influential attributes are (reported Shapley value):\"\n",
    ")\n",
    "for scale in scale_list:\n",
    "    prompts = (\n",
    "        [f\"a {color} square.\" for color in color_list]\n",
    "        + [f\"a {color} triangle.\" for color in color_list]\n",
    "        + [f\"a {scale} {color} square.\" for color in color_list]\n",
    "        + [f\"a {scale} {color} triangle.\" for color in color_list]\n",
    "    )\n",
    "    with torch.no_grad():\n",
    "        inputs = clip.tokenize(prompts).cuda()\n",
    "        embeddings = F.normalize(clip_model.encode_text(inputs))\n",
    "        probs = torch.softmax(model(embeddings), dim=1).cpu()\n",
    "\n",
    "    shapley = (probs[len(color_list) * 2 :, 1] - probs[: 2 * len(color_list), 1]).mean()\n",
    "    attribute_shapley[scale] = shapley\n",
    "\n",
    "pprint(sorted(attribute_shapley.items(), key=lambda x: x[1], reverse=True)[:10])"
   ]
  },
  {
   "cell_type": "code",
   "execution_count": 102,
   "metadata": {},
   "outputs": [
    {
     "name": "stdout",
     "output_type": "stream",
     "text": [
      "If we care about triangle (label = 1), the most influential attributes are (reported Shapley value):\n",
      "[('orange', tensor(0.3736)),\n",
      " ('red', tensor(-0.0470)),\n",
      " ('blue', tensor(-0.0784)),\n",
      " ('cyan', tensor(-0.0979)),\n",
      " ('pink', tensor(-0.1181)),\n",
      " ('green', tensor(-0.3321))]\n"
     ]
    }
   ],
   "source": [
    "scale_list = list(attributes[\"scale\"])\n",
    "color_list = list(attributes[\"color\"])\n",
    "\n",
    "attribute_shapley = {}\n",
    "print(\n",
    "    \"If we care about triangle (label = 1), the most influential attributes are (reported Shapley value):\"\n",
    ")\n",
    "for color in color_list:\n",
    "    prompts = (\n",
    "        [f\"a {scale} square.\" for scale in scale_list]\n",
    "        + [f\"a {scale} triangle.\" for scale in scale_list]\n",
    "        + [f\"a {scale} {color} square.\" for scale in scale_list]\n",
    "        + [f\"a {scale} {color} triangle.\" for scale in scale_list]\n",
    "    )\n",
    "    with torch.no_grad():\n",
    "        inputs = clip.tokenize(prompts).cuda()\n",
    "        embeddings = F.normalize(clip_model.encode_text(inputs))\n",
    "        probs = torch.softmax(model(embeddings), dim=1).cpu()\n",
    "\n",
    "    shapley = (probs[len(scale_list) * 2 :, 1] - probs[: 2 * len(scale_list), 1]).mean()\n",
    "    attribute_shapley[color] = shapley\n",
    "\n",
    "pprint(sorted(attribute_shapley.items(), key=lambda x: x[1], reverse=True)[:10])"
   ]
  },
  {
   "cell_type": "code",
   "execution_count": null,
   "metadata": {},
   "outputs": [],
   "source": []
  }
 ],
 "metadata": {
  "kernelspec": {
   "display_name": "Python 3 (ipykernel)",
   "language": "python",
   "name": "python3"
  },
  "language_info": {
   "codemirror_mode": {
    "name": "ipython",
    "version": 3
   },
   "file_extension": ".py",
   "mimetype": "text/x-python",
   "name": "python",
   "nbconvert_exporter": "python",
   "pygments_lexer": "ipython3",
   "version": "3.8.12"
  },
  "orig_nbformat": 4,
  "vscode": {
   "interpreter": {
    "hash": "bf49421d02fb18daac2fe024769d7389ca36bccb970e26253e571efb021ca22f"
   }
  }
 },
 "nbformat": 4,
 "nbformat_minor": 2
}
