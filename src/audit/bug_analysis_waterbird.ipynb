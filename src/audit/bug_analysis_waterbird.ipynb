{
 "cells": [
  {
   "cell_type": "code",
   "execution_count": 11,
   "metadata": {},
   "outputs": [
    {
     "data": {
      "text/plain": [
       "<All keys matched successfully>"
      ]
     },
     "execution_count": 11,
     "metadata": {},
     "output_type": "execute_result"
    }
   ],
   "source": [
    "import itertools\n",
    "import json\n",
    "from pprint import pprint\n",
    "from typing import List\n",
    "\n",
    "import clip  # type: ignore\n",
    "import torch\n",
    "import torch.nn.functional as F\n",
    "import numpy as np\n",
    "from scipy.stats import spearmanr, pearsonr\n",
    "\n",
    "from datasets import AttributeDataset, ImageDataset, TextDataset, create_dataloader\n",
    "from models import Linear\n",
    "from trainer import run_one_epoch\n",
    "from utils import computing_subgroup_metrics, subgrouping\n",
    "from matplotlib import pyplot as plt\n",
    "from utils import openai_imagenet_template, openai_imagenet_classes\n",
    "from collections import defaultdict\n",
    "\n",
    "\n",
    "CLIP_MODEL = \"ViT-B/32\"\n",
    "# LINEAR_MODEL = \"pytorch_cache/models/waterbird_linear_model.pt\"\n",
    "LINEAR_MODEL = \"waterbird_linear_model_gap=False.pt\"\n",
    "N_CLASS = 2\n",
    "clip_model, transform = clip.load(name=CLIP_MODEL, device=\"cuda\")\n",
    "clip_model = clip_model.float()\n",
    "model = Linear(clip_model.visual.output_dim, N_CLASS).cuda()\n",
    "state_dict = torch.load(LINEAR_MODEL)\n",
    "model.load_state_dict(state_dict)"
   ]
  },
  {
   "cell_type": "markdown",
   "metadata": {},
   "source": [
    "# Slice Analysis"
   ]
  },
  {
   "cell_type": "markdown",
   "metadata": {},
   "source": [
    "## [Preparation] Ground-truth image dataset and text cross-product performance"
   ]
  },
  {
   "cell_type": "code",
   "execution_count": 12,
   "metadata": {},
   "outputs": [
    {
     "name": "stderr",
     "output_type": "stream",
     "text": [
      "Epoch -1, Eval True: 100%|██████████████████████████████████████████████████████████████████████████████████████████████████████████████████████████████| 38/38 [00:02<00:00, 16.04it/s]\n",
      "Epoch -1, Eval True: 100%|██████████████████████████████████████████████████████████████████████████████████████████████████████████████████████████| 2000/2000 [00:59<00:00, 33.49it/s]\n"
     ]
    }
   ],
   "source": [
    "image_data = [\n",
    "    json.loads(line)\n",
    "    for line in open(\n",
    "        \"/pasteur/u/yuhuiz/data/Waterbird/processed_attribute_dataset/attributes.jsonl\"\n",
    "    )\n",
    "]\n",
    "\n",
    "\n",
    "def filter_fn(x):\n",
    "    return x[\"attributes\"][\"split\"] == \"val\"\n",
    "\n",
    "\n",
    "image_data = [x for x in image_data if filter_fn(x)]\n",
    "\n",
    "\n",
    "def label_fn(x):\n",
    "    return x[\"attributes\"][\"waterbird\"]\n",
    "\n",
    "\n",
    "for item in image_data:\n",
    "    item[\"label\"] = label_fn(item)\n",
    "\n",
    "image_dataset = ImageDataset(data=image_data)\n",
    "image_dataloader = create_dataloader(\n",
    "    dataset=image_dataset, modality=\"image\", transform=transform\n",
    ")\n",
    "image_metrics = run_one_epoch(\n",
    "    dataloader=image_dataloader,\n",
    "    model=model,\n",
    "    clip_model=clip_model,\n",
    "    modality=\"image\",\n",
    "    opt=None,\n",
    "    epoch_idx=-1,\n",
    "    eval=True,\n",
    "    verbose=True,\n",
    ")\n",
    "\n",
    "# Dataset attributes\n",
    "attributes = {\n",
    "    \"place\": set([x[\"attributes\"][\"place\"] for x in image_data]),\n",
    "    \"species\": set([x[\"attributes\"][\"species\"] for x in image_data]),\n",
    "}\n",
    "attributes_combinations = [\n",
    "    dict(zip(attributes, x)) for x in itertools.product(*attributes.values())\n",
    "]\n",
    "species_to_label = {\n",
    "    x[\"attributes\"][\"species\"]: x[\"attributes\"][\"waterbird\"] for x in image_data\n",
    "}\n",
    "places_to_label = {\n",
    "    x[\"attributes\"][\"place\"]: x[\"attributes\"][\"waterplace\"] for x in image_data\n",
    "}\n",
    "\n",
    "################################ Raw ################################\n",
    "# text_data = [\n",
    "#     {\n",
    "#         \"text\": f\"{x['species']}, {x['place']}.\",\n",
    "#         \"label\": species_to_label[x[\"species\"]],\n",
    "#         \"attributes\": {\n",
    "#             \"waterbird\": species_to_label[x[\"species\"]],\n",
    "#             \"waterplace\": places_to_label[x[\"place\"]],\n",
    "#             \"species\": x[\"species\"],\n",
    "#             \"place\": x[\"place\"],\n",
    "#         },\n",
    "#     }\n",
    "#     for x in attributes_combinations\n",
    "# ]\n",
    "\n",
    "################################ Prompt Engineering ################################\n",
    "# text_data = [\n",
    "#     {\n",
    "#         \"text\": f\"a photo of a {x['species']} in the {x['place']}.\",\n",
    "#         \"label\": species_to_label[x[\"species\"]],\n",
    "#         \"attributes\": {\n",
    "#             \"waterbird\": species_to_label[x[\"species\"]],\n",
    "#             \"waterplace\": places_to_label[x[\"place\"]],\n",
    "#             \"species\": x[\"species\"],\n",
    "#             \"place\": x[\"place\"],\n",
    "#         },\n",
    "#     }\n",
    "#     for x in attributes_combinations\n",
    "# ]\n",
    "\n",
    "################################ Prompt Ensemble ################################\n",
    "text_data = [\n",
    "    {\n",
    "        \"text\": prompt(f\"{x['species']} in the {x['place']}\"),\n",
    "        \"label\": species_to_label[x[\"species\"]],\n",
    "        \"attributes\": {\n",
    "            \"waterbird\": species_to_label[x[\"species\"]],\n",
    "            \"waterplace\": places_to_label[x[\"place\"]],\n",
    "            \"species\": x[\"species\"],\n",
    "            \"place\": x[\"place\"],\n",
    "        },\n",
    "    }\n",
    "    for x in attributes_combinations\n",
    "    for prompt in openai_imagenet_template\n",
    "]\n",
    "\n",
    "# TODO: select one from above\n",
    "\n",
    "text_dataset = TextDataset(data=text_data)\n",
    "text_dataloader = create_dataloader(dataset=text_dataset, modality=\"text\")\n",
    "text_metrics = run_one_epoch(\n",
    "    dataloader=text_dataloader,\n",
    "    model=model,\n",
    "    clip_model=clip_model,\n",
    "    modality=\"text\",\n",
    "    opt=None,\n",
    "    epoch_idx=-1,\n",
    "    eval=True,\n",
    "    verbose=True,\n",
    ")"
   ]
  },
  {
   "cell_type": "markdown",
   "metadata": {},
   "source": [
    "## Larger slice discovery"
   ]
  },
  {
   "cell_type": "code",
   "execution_count": 4,
   "metadata": {},
   "outputs": [
    {
     "name": "stdout",
     "output_type": "stream",
     "text": [
      "[((('waterbird', 1), ('waterplace', 0)), 0.3233082706766917),\n",
      " ((('waterbird', 0), ('waterplace', 1)), 0.6523605150214592),\n",
      " ((('waterbird', 1), ('waterplace', 1)), 0.9548872180451128),\n",
      " ((('waterbird', 0), ('waterplace', 0)), 0.9978586723768736)]\n",
      "\n",
      "[((('waterbird', 1), ('waterplace', 0)), 0.2403532608695652),\n",
      " ((('waterbird', 0), ('waterplace', 1)), 0.7508116883116883),\n",
      " ((('waterbird', 1), ('waterplace', 1)), 0.9490489130434783),\n",
      " ((('waterbird', 0), ('waterplace', 0)), 1.0)]\n",
      "\n",
      "[((('waterbird', 1), ('waterplace', 0)), 0.3258371420962011),\n",
      " ((('waterbird', 0), ('waterplace', 1)), 0.7029175708865462),\n",
      " ((('waterbird', 1), ('waterplace', 1)), 0.9306395012892924),\n",
      " ((('waterbird', 0), ('waterplace', 0)), 0.9957342083844078)]\n",
      "\n"
     ]
    }
   ],
   "source": [
    "fields = [\"waterbird\", \"waterplace\"]\n",
    "\n",
    "image_preds, image_labels = image_metrics[\"preds\"], image_metrics[\"labels\"]\n",
    "image_subgroups = subgrouping(image_data, fields)\n",
    "image_subgroup_metrics = computing_subgroup_metrics(\n",
    "    image_preds, image_labels, image_subgroups\n",
    ")\n",
    "pprint(sorted(image_subgroup_metrics.items(), key=lambda x: x[1]))\n",
    "print()\n",
    "\n",
    "text_preds, text_labels = text_metrics[\"preds\"], text_metrics[\"labels\"]\n",
    "text_subgroups = subgrouping(text_data, fields)\n",
    "text_subgroup_metrics = computing_subgroup_metrics(\n",
    "    text_preds, text_labels, text_subgroups\n",
    ")\n",
    "pprint(sorted(text_subgroup_metrics.items(), key=lambda x: x[1]))\n",
    "print()\n",
    "\n",
    "text_logits = text_metrics[\"logits\"]\n",
    "text_probs = torch.softmax(torch.tensor(text_logits), dim=1).numpy().tolist()\n",
    "text_subgroup_probs = defaultdict(list)\n",
    "for i, x in enumerate(text_data):\n",
    "    key = (\n",
    "        (\"waterbird\", x[\"attributes\"][\"waterbird\"]),\n",
    "        (\"waterplace\", x[\"attributes\"][\"waterplace\"]),\n",
    "    )\n",
    "    value = text_probs[i][x[\"label\"]]\n",
    "    text_subgroup_probs[key].append(value)\n",
    "text_subgroup_probs = {k: float(np.mean(v)) for k, v in text_subgroup_probs.items()}\n",
    "pprint(sorted(text_subgroup_probs.items(), key=lambda x: x[1]))\n",
    "print()"
   ]
  },
  {
   "cell_type": "markdown",
   "metadata": {},
   "source": [
    "## Atomic slice correlation"
   ]
  },
  {
   "cell_type": "code",
   "execution_count": 9,
   "metadata": {},
   "outputs": [],
   "source": [
    "def compute_correlation(data1_list: List, data2_list: List) -> None:\n",
    "    assert len(data1_list) == len(data2_list)\n",
    "    data1 = np.array(data1_list)\n",
    "    data2 = np.array(data2_list)\n",
    "    spearmanr_corr, spearmanr_pval = spearmanr(data1, data2)\n",
    "    pearsonr_corr, pearsonr_pval = pearsonr(data1, data2)\n",
    "    print(f\"Spearman correlation: {spearmanr_corr:.4f} (p-value: {spearmanr_pval:.4f})\")\n",
    "    print(f\"Pearson correlation: {pearsonr_corr:.4f} (p-value: {pearsonr_pval:.4f})\")\n",
    "    plt.figure()\n",
    "    plt.scatter(data1, data2, alpha=0.3, s=10)\n",
    "    plt.show()"
   ]
  },
  {
   "cell_type": "code",
   "execution_count": 13,
   "metadata": {},
   "outputs": [
    {
     "name": "stdout",
     "output_type": "stream",
     "text": [
      "Image accuracy: 0.7998\n",
      "Text accuracy: 0.8096\n"
     ]
    }
   ],
   "source": [
    "#################### Only run if closing gap!!! ####################\n",
    "\n",
    "image_features = F.normalize(torch.tensor(image_metrics[\"features\"]))\n",
    "text_features = F.normalize(torch.tensor(text_metrics[\"features\"]))\n",
    "\n",
    "coco_features = torch.load(\n",
    "    \"/pasteur/u/yuhuiz/mmdebug/src/pytorch_cache/features/coco_features_vitb32.pt\"\n",
    ")\n",
    "coco_image_features = F.normalize(torch.tensor(coco_features[\"image_features\"]))\n",
    "coco_text_features = F.normalize(torch.tensor(coco_features[\"text_features\"]))\n",
    "\n",
    "image_features -= coco_image_features.mean(0)\n",
    "text_features -= coco_text_features.mean(0)\n",
    "\n",
    "# all_image_features = F.normalize(torch.tensor(torch.load(\"/pasteur/u/yuhuiz/mmdebug/src/pytorch_cache/features/Waterbird_features_vitb32.pt\")))\n",
    "# image_features -= all_image_features.mean(0)\n",
    "# text_features -= text_features.mean(0)\n",
    "\n",
    "image_metrics_old = image_metrics\n",
    "text_metrics_old = text_metrics\n",
    "\n",
    "image_logits = model(image_features.cuda()).detach().cpu()\n",
    "text_logits = model(text_features.cuda()).detach().cpu()\n",
    "image_metrics = {\n",
    "    \"logits\": image_logits.numpy().tolist(),\n",
    "    \"preds\": image_logits.argmax(dim=1).numpy().tolist(),\n",
    "    \"labels\": image_metrics_old[\"labels\"],\n",
    "}\n",
    "text_metrics = {\n",
    "    \"logits\": text_logits.numpy().tolist(),\n",
    "    \"preds\": text_logits.argmax(dim=1).numpy().tolist(),\n",
    "    \"labels\": text_metrics_old[\"labels\"],\n",
    "}\n",
    "image_acc = np.mean(\n",
    "    np.array(image_metrics[\"preds\"]) == np.array(image_metrics[\"labels\"])\n",
    ")\n",
    "text_acc = np.mean(np.array(text_metrics[\"preds\"]) == np.array(text_metrics[\"labels\"]))\n",
    "print(f\"Image accuracy: {image_acc:.4f}\")\n",
    "print(f\"Text accuracy: {text_acc:.4f}\")\n",
    "\n",
    "#################### Only if closing gap!!! ####################"
   ]
  },
  {
   "cell_type": "code",
   "execution_count": 14,
   "metadata": {},
   "outputs": [
    {
     "name": "stdout",
     "output_type": "stream",
     "text": [
      "[((('species', 'American Crow'), ('place', 'ocean')), 0.0),\n",
      " ((('species', 'American Redstart'), ('place', 'ocean')), 0.0),\n",
      " ((('species', 'American Three toed Woodpecker'), ('place', 'lake natural')),\n",
      "  0.0)]\n",
      "\n",
      "[((('species', 'American Crow'), ('place', 'ocean')), 0.0),\n",
      " ((('species', 'Anna Hummingbird'), ('place', 'ocean')), 0.0),\n",
      " ((('species', 'Bank Swallow'), ('place', 'ocean')), 0.0)]\n",
      "\n",
      "[((('species', 'Western Wood Pewee'), ('place', 'bamboo forest')),\n",
      "  0.00035041730143348104),\n",
      " ((('species', 'Western Wood Pewee'), ('place', 'forest broadleaf')),\n",
      "  0.0006261923239435418),\n",
      " ((('species', 'Eastern Towhee'), ('place', 'bamboo forest')),\n",
      "  0.0011204643713426776)]\n",
      "\n",
      "Spearman correlation: 0.6337 (p-value: 0.0000)\n",
      "Pearson correlation: 0.5917 (p-value: 0.0000)\n"
     ]
    },
    {
     "data": {
      "image/png": "[encoded data removed]",
      "text/plain": [
       "<Figure size 432x288 with 1 Axes>"
      ]
     },
     "metadata": {
      "needs_background": "light"
     },
     "output_type": "display_data"
    },
    {
     "name": "stdout",
     "output_type": "stream",
     "text": [
      "Spearman correlation: 0.6266 (p-value: 0.0000)\n",
      "Pearson correlation: 0.6488 (p-value: 0.0000)\n"
     ]
    },
    {
     "data": {
      "image/png": "[encoded data removed]",
      "text/plain": [
       "<Figure size 432x288 with 1 Axes>"
      ]
     },
     "metadata": {
      "needs_background": "light"
     },
     "output_type": "display_data"
    }
   ],
   "source": [
    "fields = [\"species\", \"place\"]\n",
    "\n",
    "image_preds, image_labels = image_metrics[\"preds\"], image_metrics[\"labels\"]\n",
    "image_subgroups = subgrouping(image_data, fields)\n",
    "image_subgroup_metrics = computing_subgroup_metrics(\n",
    "    image_preds, image_labels, image_subgroups\n",
    ")\n",
    "pprint(sorted(image_subgroup_metrics.items(), key=lambda x: x[1])[:3])\n",
    "print()\n",
    "\n",
    "text_preds, text_labels = text_metrics[\"preds\"], text_metrics[\"labels\"]\n",
    "text_subgroups = subgrouping(text_data, fields)\n",
    "text_subgroup_metrics = computing_subgroup_metrics(\n",
    "    text_preds, text_labels, text_subgroups\n",
    ")\n",
    "pprint(sorted(text_subgroup_metrics.items(), key=lambda x: x[1])[:3])\n",
    "print()\n",
    "\n",
    "text_logits = text_metrics[\"logits\"]\n",
    "text_probs = torch.softmax(torch.tensor(text_logits), dim=1).numpy().tolist()\n",
    "text_subgroup_probs = defaultdict(list)\n",
    "for i, x in enumerate(text_data):\n",
    "    key = ((\"species\", x[\"attributes\"][\"species\"]), (\"place\", x[\"attributes\"][\"place\"]))\n",
    "    value = text_probs[i][x[\"attributes\"][\"waterbird\"]]\n",
    "    text_subgroup_probs[key].append(value)\n",
    "text_subgroup_probs = {k: float(np.mean(v)) for k, v in text_subgroup_probs.items()}\n",
    "pprint(sorted(text_subgroup_probs.items(), key=lambda x: x[1])[:3])\n",
    "print()\n",
    "\n",
    "compute_correlation(\n",
    "    [text_subgroup_metrics[x] for x in image_subgroup_metrics],\n",
    "    [image_subgroup_metrics[x] for x in image_subgroup_metrics],\n",
    ")\n",
    "compute_correlation(\n",
    "    [text_subgroup_probs[x] for x in image_subgroup_metrics],\n",
    "    [image_subgroup_metrics[x] for x in image_subgroup_metrics],\n",
    ")"
   ]
  },
  {
   "cell_type": "markdown",
   "metadata": {},
   "source": [
    "## Image Correlation Analysis"
   ]
  },
  {
   "cell_type": "code",
   "execution_count": 6,
   "metadata": {},
   "outputs": [
    {
     "name": "stderr",
     "output_type": "stream",
     "text": [
      "Epoch -1, Eval True: 100%|██████████████████████████████████████████████████████████████████████████████████████████████████████████████████████████████████████████████████████████| 500/500 [00:53<00:00,  9.37it/s]\n"
     ]
    },
    {
     "name": "stdout",
     "output_type": "stream",
     "text": [
      "[((('species', 'American Crow'), ('place', 'ocean')), 0.0),\n",
      " ((('species', 'American Redstart'), ('place', 'ocean')), 0.0),\n",
      " ((('species', 'Anna Hummingbird'), ('place', 'ocean')), 0.0)]\n",
      "\n",
      "[((('species', 'Parakeet Auklet'), ('place', 'forest broadleaf')),\n",
      "  0.0008562970906496048),\n",
      " ((('species', 'Frigatebird'), ('place', 'forest broadleaf')),\n",
      "  0.001073575229384005),\n",
      " ((('species', 'Scissor tailed Flycatcher'), ('place', 'ocean')),\n",
      "  0.0012265233090147376)]\n",
      "\n",
      "Spearman correlation: 0.4611 (p-value: 0.0000)\n",
      "Pearson correlation: 0.4559 (p-value: 0.0000)\n"
     ]
    },
    {
     "data": {
      "image/png": "[encoded data removed]",
      "text/plain": [
       "<Figure size 432x288 with 1 Axes>"
      ]
     },
     "metadata": {
      "needs_background": "light"
     },
     "output_type": "display_data"
    },
    {
     "name": "stdout",
     "output_type": "stream",
     "text": [
      "Spearman correlation: 0.5448 (p-value: 0.0000)\n",
      "Pearson correlation: 0.5307 (p-value: 0.0000)\n"
     ]
    },
    {
     "data": {
      "image/png": "[encoded data removed]",
      "text/plain": [
       "<Figure size 432x288 with 1 Axes>"
      ]
     },
     "metadata": {
      "needs_background": "light"
     },
     "output_type": "display_data"
    }
   ],
   "source": [
    "fields = [\"species\", \"place\"]\n",
    "\n",
    "image_generated_data = [\n",
    "    json.loads(line)\n",
    "    for line in open(\n",
    "        \"/pasteur/u/yuhuiz/data/GeneratedWaterBird/waterbird_text_data_generated_images_n=20.jsonl\"\n",
    "    )\n",
    "]\n",
    "\n",
    "\n",
    "def filter_fn(x):\n",
    "    return True\n",
    "\n",
    "\n",
    "image_generated_data = [x for x in image_generated_data if filter_fn(x)]\n",
    "\n",
    "\n",
    "def label_fn(x):\n",
    "    return x[\"attributes\"][\"waterbird\"]\n",
    "\n",
    "\n",
    "for item in image_generated_data:\n",
    "    item[\"label\"] = label_fn(item)\n",
    "\n",
    "image_generated_dataset = ImageDataset(data=image_generated_data)\n",
    "image_generated_dataloader = create_dataloader(\n",
    "    dataset=image_generated_dataset, modality=\"image\", transform=transform\n",
    ")\n",
    "image_generated_metrics = run_one_epoch(\n",
    "    dataloader=image_generated_dataloader,\n",
    "    model=model,\n",
    "    clip_model=clip_model,\n",
    "    modality=\"image\",\n",
    "    opt=None,\n",
    "    epoch_idx=-1,\n",
    "    eval=True,\n",
    "    verbose=True,\n",
    ")\n",
    "image_generated_preds, image_generated_labels = (\n",
    "    image_generated_metrics[\"preds\"],\n",
    "    image_generated_metrics[\"labels\"],\n",
    ")\n",
    "image_generated_subgroups = subgrouping(image_generated_data, fields)\n",
    "image_generated_subgroup_metrics = computing_subgroup_metrics(\n",
    "    image_generated_preds, image_generated_labels, image_generated_subgroups\n",
    ")\n",
    "pprint(sorted(image_generated_subgroup_metrics.items(), key=lambda x: x[1])[:3])\n",
    "print()\n",
    "\n",
    "image_generated_logits = image_generated_metrics[\"logits\"]\n",
    "image_generated_probs = (\n",
    "    torch.softmax(torch.tensor(image_generated_logits), dim=1).numpy().tolist()\n",
    ")\n",
    "image_generated_subgroup_probs = defaultdict(list)\n",
    "for i, x in enumerate(image_generated_data):\n",
    "    key = ((\"species\", x[\"attributes\"][\"species\"]), (\"place\", x[\"attributes\"][\"place\"]))\n",
    "    value = image_generated_probs[i][x[\"attributes\"][\"waterbird\"]]\n",
    "    image_generated_subgroup_probs[key].append(value)\n",
    "image_generated_subgroup_probs = {\n",
    "    k: float(np.mean(v)) for k, v in image_generated_subgroup_probs.items()\n",
    "}\n",
    "pprint(sorted(image_generated_subgroup_probs.items(), key=lambda x: x[1])[:3])\n",
    "print()\n",
    "\n",
    "compute_correlation(\n",
    "    [image_generated_subgroup_metrics[x] for x in image_subgroup_metrics],\n",
    "    [image_subgroup_metrics[x] for x in image_subgroup_metrics],\n",
    ")  # Accuracy-Accuracy Correlation\n",
    "compute_correlation(\n",
    "    [image_generated_subgroup_probs[x] for x in image_subgroup_metrics],\n",
    "    [image_subgroup_metrics[x] for x in image_subgroup_metrics],\n",
    ")  # Prob-Accuracy Correlation"
   ]
  },
  {
   "cell_type": "markdown",
   "metadata": {},
   "source": [
    "# Attribute-based Interpretation"
   ]
  },
  {
   "cell_type": "code",
   "execution_count": 7,
   "metadata": {},
   "outputs": [],
   "source": [
    "image_data = [\n",
    "    json.loads(line)\n",
    "    for line in open(\n",
    "        \"/pasteur/u/yuhuiz/data/Waterbird/processed_attribute_dataset/attributes.jsonl\"\n",
    "    )\n",
    "]\n",
    "\n",
    "\n",
    "def filter_fn(x):\n",
    "    return x[\"attributes\"][\"split\"] == \"val\"\n",
    "\n",
    "\n",
    "image_data = [x for x in image_data if filter_fn(x)]\n",
    "\n",
    "attributes = {\n",
    "    \"place\": set([x[\"attributes\"][\"place\"] for x in image_data]),\n",
    "    \"species\": set([x[\"attributes\"][\"species\"] for x in image_data]),\n",
    "}"
   ]
  },
  {
   "cell_type": "markdown",
   "metadata": {},
   "source": [
    "## Direct influence"
   ]
  },
  {
   "cell_type": "code",
   "execution_count": 8,
   "metadata": {},
   "outputs": [
    {
     "name": "stdout",
     "output_type": "stream",
     "text": [
      "If we care about waterbird (label = 1), the most similar attributes are:\n",
      "[('ocean', 0.5517702102661133), ('lake natural', 0.5469737648963928), ('forest broadleaf', 0.3656281530857086), ('bamboo forest', 0.3377529978752136)]\n"
     ]
    }
   ],
   "source": [
    "attribute_list = list(attributes[\"place\"])\n",
    "\n",
    "attribute_embeddings = F.normalize(\n",
    "    clip_model.encode_text(clip.tokenize(attribute_list).cuda())\n",
    ")\n",
    "probs = torch.softmax(model(attribute_embeddings), dim=1)\n",
    "\n",
    "attribute_scores = {\n",
    "    attribute_list[i]: float(probs[i, 1]) for i in range(len(attribute_list))\n",
    "}\n",
    "\n",
    "print(\"If we care about waterbird (label = 1), the most similar attributes are:\")\n",
    "print(sorted(attribute_scores.items(), key=lambda x: x[1], reverse=True)[:10])"
   ]
  },
  {
   "cell_type": "markdown",
   "metadata": {},
   "source": [
    "## Aggregated Influence: Shapley Value s(a) = E_{S subset {F \\ a}} [f(S, a) - f(S)]"
   ]
  },
  {
   "cell_type": "code",
   "execution_count": 9,
   "metadata": {},
   "outputs": [
    {
     "name": "stdout",
     "output_type": "stream",
     "text": [
      "If we care about waterbird (label = 1), the most influential attributes are (reported Shapley value):\n",
      "[('ocean', tensor(0.1020)),\n",
      " ('lake natural', tensor(0.0381)),\n",
      " ('forest broadleaf', tensor(-0.0877)),\n",
      " ('bamboo forest', tensor(-0.1029))]\n"
     ]
    }
   ],
   "source": [
    "place_list = list(attributes[\"place\"])\n",
    "species_list = list(attributes[\"species\"])\n",
    "\n",
    "attribute_shapley = {}\n",
    "print(\n",
    "    \"If we care about waterbird (label = 1), the most influential attributes are (reported Shapley value):\"\n",
    ")\n",
    "for place in place_list:\n",
    "    prompts = [f\"a photo of a {species}.\" for species in species_list] + [\n",
    "        f\"a photo of a {species} in the {place}.\" for species in species_list\n",
    "    ]\n",
    "    with torch.no_grad():\n",
    "        inputs = clip.tokenize(prompts).cuda()\n",
    "        embeddings = F.normalize(clip_model.encode_text(inputs))\n",
    "        probs = torch.softmax(model(embeddings), dim=1).cpu()\n",
    "\n",
    "    shapley = (probs[len(species_list) :, 1] - probs[: len(species_list), 1]).mean()\n",
    "    attribute_shapley[place] = shapley\n",
    "\n",
    "pprint(sorted(attribute_shapley.items(), key=lambda x: x[1], reverse=True)[:10])"
   ]
  },
  {
   "cell_type": "code",
   "execution_count": 10,
   "metadata": {},
   "outputs": [
    {
     "name": "stdout",
     "output_type": "stream",
     "text": [
      "If we care about waterbird (label = 1), the most influential attributes are (reported Shapley value):\n",
      "[('Glaucous winged Gull', tensor(0.1992)),\n",
      " ('Sooty Albatross', tensor(0.1895)),\n",
      " ('Caspian Tern', tensor(0.1849)),\n",
      " ('Black footed Albatross', tensor(0.1793)),\n",
      " ('California Gull', tensor(0.1644)),\n",
      " ('Laysan Albatross', tensor(0.1617)),\n",
      " ('Ring billed Gull', tensor(0.1616)),\n",
      " ('Slaty backed Gull', tensor(0.1560)),\n",
      " ('Western Grebe', tensor(0.1548)),\n",
      " ('Herring Gull', tensor(0.1537))]\n"
     ]
    }
   ],
   "source": [
    "place_list = list(attributes[\"place\"])\n",
    "species_list = list(attributes[\"species\"])\n",
    "\n",
    "attribute_shapley = {}\n",
    "print(\n",
    "    \"If we care about waterbird (label = 1), the most influential attributes are (reported Shapley value):\"\n",
    ")\n",
    "for species in species_list:\n",
    "    prompts = [f\"a photo of the {place}.\" for place in place_list] + [\n",
    "        f\"a photo of a {species} in the {place}.\" for place in place_list\n",
    "    ]\n",
    "    with torch.no_grad():\n",
    "        inputs = clip.tokenize(prompts).cuda()\n",
    "        embeddings = F.normalize(clip_model.encode_text(inputs))\n",
    "        probs = torch.softmax(model(embeddings), dim=1).cpu()\n",
    "\n",
    "    shapley = (probs[len(place_list) :, 1] - probs[: len(place_list), 1]).mean()\n",
    "    attribute_shapley[species] = shapley\n",
    "\n",
    "pprint(sorted(attribute_shapley.items(), key=lambda x: x[1], reverse=True)[:10])"
   ]
  },
  {
   "cell_type": "markdown",
   "metadata": {},
   "source": [
    "# Rectifying by Continue Learning"
   ]
  },
  {
   "cell_type": "code",
   "execution_count": 12,
   "metadata": {},
   "outputs": [
    {
     "name": "stdout",
     "output_type": "stream",
     "text": [
      "64000\n",
      "32000\n"
     ]
    },
    {
     "name": "stderr",
     "output_type": "stream",
     "text": [
      "Epoch -1, Eval True: 100%|████████████████████████████████████████████████████████████████████████████████████████████████████████████████████| 1000/1000 [00:29<00:00, 33.61it/s]\n"
     ]
    }
   ],
   "source": [
    "text_data = [\n",
    "    {\n",
    "        \"text\": prompt(f\"{x['species']} in the {x['place']}\"),\n",
    "        \"label\": species_to_label[x[\"species\"]],\n",
    "        \"attributes\": {\n",
    "            \"waterbird\": species_to_label[x[\"species\"]],\n",
    "            \"waterplace\": places_to_label[x[\"place\"]],\n",
    "            \"species\": x[\"species\"],\n",
    "            \"place\": x[\"place\"],\n",
    "        },\n",
    "    }\n",
    "    for x in attributes_combinations\n",
    "    for prompt in openai_imagenet_template\n",
    "]\n",
    "print(len(text_data))\n",
    "text_data = [\n",
    "    item\n",
    "    for item in text_data\n",
    "    if (item[\"attributes\"][\"waterbird\"] == 1 and item[\"attributes\"][\"waterplace\"] == 0)\n",
    "    or (item[\"attributes\"][\"waterbird\"] == 0 and item[\"attributes\"][\"waterplace\"] == 1)\n",
    "]\n",
    "print(len(text_data))\n",
    "\n",
    "text_dataset = TextDataset(data=text_data)\n",
    "text_dataloader = create_dataloader(dataset=text_dataset, modality=\"text\")\n",
    "text_metrics = run_one_epoch(\n",
    "    dataloader=text_dataloader,\n",
    "    model=model,\n",
    "    clip_model=clip_model,\n",
    "    modality=\"text\",\n",
    "    opt=None,\n",
    "    epoch_idx=-1,\n",
    "    eval=True,\n",
    "    verbose=True,\n",
    ")"
   ]
  },
  {
   "cell_type": "code",
   "execution_count": 14,
   "metadata": {},
   "outputs": [],
   "source": [
    "from torch.utils.data import TensorDataset, DataLoader\n",
    "\n",
    "text_features = text_metrics[\"features\"]\n",
    "text_labels = text_metrics[\"labels\"]\n",
    "text_dataset = TensorDataset(torch.tensor(text_features), torch.tensor(text_labels))\n",
    "text_dataloader = DataLoader(text_dataset, batch_size=32, shuffle=True)\n",
    "\n",
    "fields = [\"waterbird\", \"waterplace\"]"
   ]
  },
  {
   "cell_type": "code",
   "execution_count": 18,
   "metadata": {},
   "outputs": [
    {
     "name": "stderr",
     "output_type": "stream",
     "text": [
      "Epoch -1, Eval True: 100%|████████████████████████████████████████████████████████████████████████████████████████████████████████████████████████| 38/38 [00:02<00:00, 17.99it/s]\n"
     ]
    },
    {
     "name": "stdout",
     "output_type": "stream",
     "text": [
      "Epoch 0\n",
      "[((('waterbird', 1), ('waterplace', 0)), 0.5037593984962406),\n",
      " ((('waterbird', 1), ('waterplace', 1)), 0.8947368421052632),\n",
      " ((('waterbird', 0), ('waterplace', 1)), 0.9141630901287554),\n",
      " ((('waterbird', 0), ('waterplace', 0)), 0.9957173447537473)]\n",
      "0.8270941688710016\n",
      "\n"
     ]
    },
    {
     "name": "stderr",
     "output_type": "stream",
     "text": [
      "Epoch -1, Eval True: 100%|████████████████████████████████████████████████████████████████████████████████████████████████████████████████████████| 38/38 [00:02<00:00, 18.11it/s]\n"
     ]
    },
    {
     "name": "stdout",
     "output_type": "stream",
     "text": [
      "Epoch 1\n",
      "[((('waterbird', 1), ('waterplace', 0)), 0.556390977443609),\n",
      " ((('waterbird', 1), ('waterplace', 1)), 0.8270676691729323),\n",
      " ((('waterbird', 0), ('waterplace', 1)), 0.9699570815450643),\n",
      " ((('waterbird', 0), ('waterplace', 0)), 0.9892933618843683)]\n",
      "0.8356772725114935\n",
      "\n"
     ]
    },
    {
     "name": "stderr",
     "output_type": "stream",
     "text": [
      "Epoch -1, Eval True: 100%|████████████████████████████████████████████████████████████████████████████████████████████████████████████████████████| 38/38 [00:02<00:00, 18.27it/s]\n"
     ]
    },
    {
     "name": "stdout",
     "output_type": "stream",
     "text": [
      "Epoch 2\n",
      "[((('waterbird', 1), ('waterplace', 0)), 0.556390977443609),\n",
      " ((('waterbird', 1), ('waterplace', 1)), 0.6917293233082706),\n",
      " ((('waterbird', 0), ('waterplace', 1)), 0.9828326180257511),\n",
      " ((('waterbird', 0), ('waterplace', 0)), 0.987152034261242)]\n",
      "0.8045262382597183\n",
      "\n"
     ]
    },
    {
     "name": "stderr",
     "output_type": "stream",
     "text": [
      "Epoch -1, Eval True: 100%|████████████████████████████████████████████████████████████████████████████████████████████████████████████████████████| 38/38 [00:02<00:00, 18.20it/s]\n"
     ]
    },
    {
     "name": "stdout",
     "output_type": "stream",
     "text": [
      "Epoch 3\n",
      "[((('waterbird', 1), ('waterplace', 0)), 0.5639097744360902),\n",
      " ((('waterbird', 1), ('waterplace', 1)), 0.5864661654135338),\n",
      " ((('waterbird', 0), ('waterplace', 0)), 0.9828693790149893),\n",
      " ((('waterbird', 0), ('waterplace', 1)), 0.9849785407725322)]\n",
      "0.7795559649092864\n",
      "\n"
     ]
    },
    {
     "name": "stderr",
     "output_type": "stream",
     "text": [
      "Epoch -1, Eval True: 100%|████████████████████████████████████████████████████████████████████████████████████████████████████████████████████████| 38/38 [00:02<00:00, 16.88it/s]\n"
     ]
    },
    {
     "name": "stdout",
     "output_type": "stream",
     "text": [
      "Epoch 4\n",
      "[((('waterbird', 1), ('waterplace', 1)), 0.5037593984962406),\n",
      " ((('waterbird', 1), ('waterplace', 0)), 0.5789473684210527),\n",
      " ((('waterbird', 0), ('waterplace', 0)), 0.9785867237687366),\n",
      " ((('waterbird', 0), ('waterplace', 1)), 0.9892703862660944)]\n",
      "0.762640969238031\n",
      "\n"
     ]
    },
    {
     "name": "stderr",
     "output_type": "stream",
     "text": [
      "Epoch -1, Eval True: 100%|████████████████████████████████████████████████████████████████████████████████████████████████████████████████████████| 38/38 [00:02<00:00, 16.08it/s]\n"
     ]
    },
    {
     "name": "stdout",
     "output_type": "stream",
     "text": [
      "Epoch 5\n",
      "[((('waterbird', 1), ('waterplace', 1)), 0.42105263157894735),\n",
      " ((('waterbird', 1), ('waterplace', 0)), 0.5789473684210527),\n",
      " ((('waterbird', 0), ('waterplace', 0)), 0.9528907922912205),\n",
      " ((('waterbird', 0), ('waterplace', 1)), 0.9914163090128756)]\n",
      "0.736076775326024\n",
      "\n"
     ]
    },
    {
     "name": "stderr",
     "output_type": "stream",
     "text": [
      "Epoch -1, Eval True: 100%|████████████████████████████████████████████████████████████████████████████████████████████████████████████████████████| 38/38 [00:02<00:00, 17.99it/s]\n"
     ]
    },
    {
     "name": "stdout",
     "output_type": "stream",
     "text": [
      "Epoch 6\n",
      "[((('waterbird', 1), ('waterplace', 1)), 0.3383458646616541),\n",
      " ((('waterbird', 1), ('waterplace', 0)), 0.5789473684210527),\n",
      " ((('waterbird', 0), ('waterplace', 0)), 0.9507494646680942),\n",
      " ((('waterbird', 0), ('waterplace', 1)), 0.9935622317596566)]\n",
      "0.7154012323776144\n",
      "\n"
     ]
    },
    {
     "name": "stderr",
     "output_type": "stream",
     "text": [
      "Epoch -1, Eval True: 100%|████████████████████████████████████████████████████████████████████████████████████████████████████████████████████████| 38/38 [00:02<00:00, 18.31it/s]\n"
     ]
    },
    {
     "name": "stdout",
     "output_type": "stream",
     "text": [
      "Epoch 7\n",
      "[((('waterbird', 1), ('waterplace', 1)), 0.3383458646616541),\n",
      " ((('waterbird', 1), ('waterplace', 0)), 0.5789473684210527),\n",
      " ((('waterbird', 0), ('waterplace', 0)), 0.9507494646680942),\n",
      " ((('waterbird', 0), ('waterplace', 1)), 0.9935622317596566)]\n",
      "0.7154012323776144\n",
      "\n"
     ]
    },
    {
     "name": "stderr",
     "output_type": "stream",
     "text": [
      "Epoch -1, Eval True: 100%|████████████████████████████████████████████████████████████████████████████████████████████████████████████████████████| 38/38 [00:02<00:00, 18.08it/s]\n"
     ]
    },
    {
     "name": "stdout",
     "output_type": "stream",
     "text": [
      "Epoch 8\n",
      "[((('waterbird', 1), ('waterplace', 1)), 0.3157894736842105),\n",
      " ((('waterbird', 1), ('waterplace', 0)), 0.5939849624060151),\n",
      " ((('waterbird', 0), ('waterplace', 0)), 0.9400428265524625),\n",
      " ((('waterbird', 0), ('waterplace', 1)), 0.9935622317596566)]\n",
      "0.7108448736005862\n",
      "\n"
     ]
    },
    {
     "name": "stderr",
     "output_type": "stream",
     "text": [
      "Epoch -1, Eval True: 100%|████████████████████████████████████████████████████████████████████████████████████████████████████████████████████████| 38/38 [00:02<00:00, 17.42it/s]"
     ]
    },
    {
     "name": "stdout",
     "output_type": "stream",
     "text": [
      "Epoch 9\n",
      "[((('waterbird', 1), ('waterplace', 1)), 0.2857142857142857),\n",
      " ((('waterbird', 1), ('waterplace', 0)), 0.6090225563909775),\n",
      " ((('waterbird', 0), ('waterplace', 0)), 0.9229122055674518),\n",
      " ((('waterbird', 0), ('waterplace', 1)), 0.9935622317596566)]\n",
      "0.7028028198580929\n",
      "\n"
     ]
    },
    {
     "name": "stderr",
     "output_type": "stream",
     "text": [
      "\n"
     ]
    }
   ],
   "source": [
    "model = Linear(512, 2).cuda()\n",
    "state_dict = torch.load(LINEAR_MODEL)\n",
    "model.load_state_dict(state_dict)\n",
    "\n",
    "\n",
    "def train_one_epoch(dataloader, model, optimizer, device=\"cuda\"):\n",
    "    model.train()\n",
    "    for batch in dataloader:\n",
    "        x, y = batch\n",
    "        x, y = x.to(device), y.to(device)\n",
    "        logits = model(x)\n",
    "        loss = F.cross_entropy(logits, y)\n",
    "        optimizer.zero_grad()\n",
    "        loss.backward()\n",
    "        optimizer.step()\n",
    "\n",
    "\n",
    "opimizer = torch.optim.Adam(model.parameters(), lr=1e-3)\n",
    "for epoch in range(10):\n",
    "    train_one_epoch(text_dataloader, model, opimizer)\n",
    "\n",
    "    image_metrics = run_one_epoch(\n",
    "        dataloader=image_dataloader,\n",
    "        model=model,\n",
    "        clip_model=clip_model,\n",
    "        modality=\"image\",\n",
    "        opt=None,\n",
    "        epoch_idx=-1,\n",
    "        eval=True,\n",
    "        verbose=True,\n",
    "    )\n",
    "\n",
    "    print(f\"Epoch {epoch}\")\n",
    "    image_preds, image_labels = image_metrics[\"preds\"], image_metrics[\"labels\"]\n",
    "    image_subgroups = subgrouping(image_data, fields)\n",
    "    image_subgroup_metrics = computing_subgroup_metrics(\n",
    "        image_preds, image_labels, image_subgroups\n",
    "    )\n",
    "    pprint(sorted(image_subgroup_metrics.items(), key=lambda x: x[1]))\n",
    "    print(np.mean(list(image_subgroup_metrics.values())))\n",
    "    print()"
   ]
  },
  {
   "cell_type": "code",
   "execution_count": 20,
   "metadata": {},
   "outputs": [
    {
     "name": "stderr",
     "output_type": "stream",
     "text": [
      "Epoch -1, Eval True: 100%|████████████████████████████████████████████████████████████████████████████████████████████████████████████████████████| 38/38 [00:02<00:00, 18.29it/s]\n"
     ]
    },
    {
     "name": "stdout",
     "output_type": "stream",
     "text": [
      "Epoch 0\n",
      "[((('waterbird', 1), ('waterplace', 1)), 0.045112781954887216),\n",
      " ((('waterbird', 0), ('waterplace', 0)), 0.6531049250535332),\n",
      " ((('waterbird', 1), ('waterplace', 0)), 0.706766917293233),\n",
      " ((('waterbird', 0), ('waterplace', 1)), 0.9957081545064378)]\n",
      "0.6001731947020228\n",
      "\n"
     ]
    },
    {
     "name": "stderr",
     "output_type": "stream",
     "text": [
      "Epoch -1, Eval True: 100%|████████████████████████████████████████████████████████████████████████████████████████████████████████████████████████| 38/38 [00:02<00:00, 18.14it/s]\n"
     ]
    },
    {
     "name": "stdout",
     "output_type": "stream",
     "text": [
      "Epoch 1\n",
      "[((('waterbird', 1), ('waterplace', 1)), 0.045112781954887216),\n",
      " ((('waterbird', 0), ('waterplace', 0)), 0.582441113490364),\n",
      " ((('waterbird', 1), ('waterplace', 0)), 0.7443609022556391),\n",
      " ((('waterbird', 0), ('waterplace', 1)), 0.9978540772532188)]\n",
      "0.5924422187385272\n",
      "\n"
     ]
    },
    {
     "name": "stderr",
     "output_type": "stream",
     "text": [
      "Epoch -1, Eval True: 100%|████████████████████████████████████████████████████████████████████████████████████████████████████████████████████████| 38/38 [00:02<00:00, 17.91it/s]\n"
     ]
    },
    {
     "name": "stdout",
     "output_type": "stream",
     "text": [
      "Epoch 2\n",
      "[((('waterbird', 1), ('waterplace', 1)), 0.045112781954887216),\n",
      " ((('waterbird', 0), ('waterplace', 0)), 0.5353319057815846),\n",
      " ((('waterbird', 1), ('waterplace', 0)), 0.7744360902255639),\n",
      " ((('waterbird', 0), ('waterplace', 1)), 0.9957081545064378)]\n",
      "0.5876472331171184\n",
      "\n"
     ]
    },
    {
     "name": "stderr",
     "output_type": "stream",
     "text": [
      "Epoch -1, Eval True: 100%|████████████████████████████████████████████████████████████████████████████████████████████████████████████████████████| 38/38 [00:02<00:00, 18.67it/s]\n"
     ]
    },
    {
     "name": "stdout",
     "output_type": "stream",
     "text": [
      "Epoch 3\n",
      "[((('waterbird', 1), ('waterplace', 1)), 0.045112781954887216),\n",
      " ((('waterbird', 0), ('waterplace', 0)), 0.5203426124197003),\n",
      " ((('waterbird', 1), ('waterplace', 0)), 0.7669172932330827),\n",
      " ((('waterbird', 0), ('waterplace', 1)), 0.9957081545064378)]\n",
      "0.5820202105285269\n",
      "\n"
     ]
    },
    {
     "name": "stderr",
     "output_type": "stream",
     "text": [
      "Epoch -1, Eval True: 100%|████████████████████████████████████████████████████████████████████████████████████████████████████████████████████████| 38/38 [00:01<00:00, 19.27it/s]\n"
     ]
    },
    {
     "name": "stdout",
     "output_type": "stream",
     "text": [
      "Epoch 4\n",
      "[((('waterbird', 1), ('waterplace', 1)), 0.045112781954887216),\n",
      " ((('waterbird', 0), ('waterplace', 0)), 0.5053533190578159),\n",
      " ((('waterbird', 1), ('waterplace', 0)), 0.7744360902255639),\n",
      " ((('waterbird', 0), ('waterplace', 1)), 0.9957081545064378)]\n",
      "0.5801525864361762\n",
      "\n"
     ]
    },
    {
     "name": "stderr",
     "output_type": "stream",
     "text": [
      "Epoch -1, Eval True: 100%|████████████████████████████████████████████████████████████████████████████████████████████████████████████████████████| 38/38 [00:02<00:00, 18.27it/s]\n"
     ]
    },
    {
     "name": "stdout",
     "output_type": "stream",
     "text": [
      "Epoch 5\n",
      "[((('waterbird', 1), ('waterplace', 1)), 0.03759398496240601),\n",
      " ((('waterbird', 0), ('waterplace', 0)), 0.4925053533190578),\n",
      " ((('waterbird', 1), ('waterplace', 0)), 0.7669172932330827),\n",
      " ((('waterbird', 0), ('waterplace', 1)), 0.9957081545064378)]\n",
      "0.5731811965052461\n",
      "\n"
     ]
    },
    {
     "name": "stderr",
     "output_type": "stream",
     "text": [
      "Epoch -1, Eval True: 100%|████████████████████████████████████████████████████████████████████████████████████████████████████████████████████████| 38/38 [00:02<00:00, 16.88it/s]\n"
     ]
    },
    {
     "name": "stdout",
     "output_type": "stream",
     "text": [
      "Epoch 6\n",
      "[((('waterbird', 1), ('waterplace', 1)), 0.03007518796992481),\n",
      " ((('waterbird', 0), ('waterplace', 0)), 0.4925053533190578),\n",
      " ((('waterbird', 1), ('waterplace', 0)), 0.7593984962406015),\n",
      " ((('waterbird', 0), ('waterplace', 1)), 0.9957081545064378)]\n",
      "0.5694217980090055\n",
      "\n"
     ]
    },
    {
     "name": "stderr",
     "output_type": "stream",
     "text": [
      "Epoch -1, Eval True: 100%|████████████████████████████████████████████████████████████████████████████████████████████████████████████████████████| 38/38 [00:02<00:00, 18.50it/s]\n"
     ]
    },
    {
     "name": "stdout",
     "output_type": "stream",
     "text": [
      "Epoch 7\n",
      "[((('waterbird', 1), ('waterplace', 1)), 0.03007518796992481),\n",
      " ((('waterbird', 0), ('waterplace', 0)), 0.4796573875802998),\n",
      " ((('waterbird', 1), ('waterplace', 0)), 0.7744360902255639),\n",
      " ((('waterbird', 0), ('waterplace', 1)), 0.9957081545064378)]\n",
      "0.5699692050705565\n",
      "\n"
     ]
    },
    {
     "name": "stderr",
     "output_type": "stream",
     "text": [
      "Epoch -1, Eval True: 100%|████████████████████████████████████████████████████████████████████████████████████████████████████████████████████████| 38/38 [00:02<00:00, 17.18it/s]\n"
     ]
    },
    {
     "name": "stdout",
     "output_type": "stream",
     "text": [
      "Epoch 8\n",
      "[((('waterbird', 1), ('waterplace', 1)), 0.03007518796992481),\n",
      " ((('waterbird', 0), ('waterplace', 0)), 0.47751605995717344),\n",
      " ((('waterbird', 1), ('waterplace', 0)), 0.7744360902255639),\n",
      " ((('waterbird', 0), ('waterplace', 1)), 0.9957081545064378)]\n",
      "0.569433873164775\n",
      "\n"
     ]
    },
    {
     "name": "stderr",
     "output_type": "stream",
     "text": [
      "Epoch -1, Eval True: 100%|████████████████████████████████████████████████████████████████████████████████████████████████████████████████████████| 38/38 [00:02<00:00, 17.87it/s]"
     ]
    },
    {
     "name": "stdout",
     "output_type": "stream",
     "text": [
      "Epoch 9\n",
      "[((('waterbird', 1), ('waterplace', 1)), 0.03007518796992481),\n",
      " ((('waterbird', 0), ('waterplace', 0)), 0.4753747323340471),\n",
      " ((('waterbird', 1), ('waterplace', 0)), 0.7518796992481203),\n",
      " ((('waterbird', 0), ('waterplace', 1)), 0.9957081545064378)]\n",
      "0.5632594435146325\n",
      "\n"
     ]
    },
    {
     "name": "stderr",
     "output_type": "stream",
     "text": [
      "\n"
     ]
    }
   ],
   "source": [
    "model = Linear(512, 2).cuda()\n",
    "opimizer = torch.optim.Adam(model.parameters(), lr=1e-3)\n",
    "\n",
    "for epoch in range(10):\n",
    "    train_one_epoch(text_dataloader, model, opimizer)\n",
    "\n",
    "    image_metrics = run_one_epoch(\n",
    "        dataloader=image_dataloader,\n",
    "        model=model,\n",
    "        clip_model=clip_model,\n",
    "        modality=\"image\",\n",
    "        opt=None,\n",
    "        epoch_idx=-1,\n",
    "        eval=True,\n",
    "        verbose=True,\n",
    "    )\n",
    "\n",
    "    print(f\"Epoch {epoch}\")\n",
    "    image_preds, image_labels = image_metrics[\"preds\"], image_metrics[\"labels\"]\n",
    "    image_subgroups = subgrouping(image_data, fields)\n",
    "    image_subgroup_metrics = computing_subgroup_metrics(\n",
    "        image_preds, image_labels, image_subgroups\n",
    "    )\n",
    "    pprint(sorted(image_subgroup_metrics.items(), key=lambda x: x[1]))\n",
    "    print(np.mean(list(image_subgroup_metrics.values())))\n",
    "    print()"
   ]
  },
  {
   "cell_type": "code",
   "execution_count": null,
   "metadata": {},
   "outputs": [],
   "source": []
  }
 ],
 "metadata": {
  "kernelspec": {
   "display_name": "Python 3 (ipykernel)",
   "language": "python",
   "name": "python3"
  },
  "language_info": {
   "codemirror_mode": {
    "name": "ipython",
    "version": 3
   },
   "file_extension": ".py",
   "mimetype": "text/x-python",
   "name": "python",
   "nbconvert_exporter": "python",
   "pygments_lexer": "ipython3",
   "version": "3.8.12"
  },
  "orig_nbformat": 4,
  "vscode": {
   "interpreter": {
    "hash": "bf49421d02fb18daac2fe024769d7389ca36bccb970e26253e571efb021ca22f"
   }
  }
 },
 "nbformat": 4,
 "nbformat_minor": 2
}
