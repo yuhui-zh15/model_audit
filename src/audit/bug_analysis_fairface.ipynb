{
 "cells": [
  {
   "cell_type": "code",
   "execution_count": 1,
   "metadata": {},
   "outputs": [
    {
     "data": {
      "text/plain": [
       "<All keys matched successfully>"
      ]
     },
     "execution_count": 1,
     "metadata": {},
     "output_type": "execute_result"
    }
   ],
   "source": [
    "import sys\n",
    "import itertools\n",
    "import json\n",
    "from pprint import pprint\n",
    "from typing import List\n",
    "\n",
    "import clip  # type: ignore\n",
    "import torch\n",
    "import torch.nn.functional as F\n",
    "import numpy as np\n",
    "from scipy.stats import spearmanr, pearsonr\n",
    "\n",
    "from datasets import AttributeDataset, ImageDataset, TextDataset, create_dataloader\n",
    "from models import Linear\n",
    "from trainer import run_one_epoch\n",
    "from utils import computing_subgroup_metrics, subgrouping\n",
    "from matplotlib import pyplot as plt\n",
    "from utils import openai_imagenet_template, openai_imagenet_classes\n",
    "from collections import defaultdict\n",
    "\n",
    "\n",
    "CLIP_MODEL = \"ViT-B/32\"\n",
    "# LINEAR_MODEL = \"pytorch_cache/models/fairface_linear_model.pt\"\n",
    "LINEAR_MODEL = \"fairface_linear_model_gap=False.pt\"\n",
    "N_CLASS = 2\n",
    "clip_model, transform = clip.load(name=CLIP_MODEL, device=\"cuda\")\n",
    "clip_model = clip_model.float()\n",
    "model = Linear(clip_model.visual.output_dim, N_CLASS).cuda()\n",
    "state_dict = torch.load(LINEAR_MODEL)\n",
    "model.load_state_dict(state_dict)"
   ]
  },
  {
   "cell_type": "markdown",
   "metadata": {},
   "source": [
    "# Slice Analysis"
   ]
  },
  {
   "cell_type": "markdown",
   "metadata": {},
   "source": [
    "## [Preparation] Ground-truth image dataset and text cross-product performance"
   ]
  },
  {
   "cell_type": "code",
   "execution_count": 2,
   "metadata": {},
   "outputs": [
    {
     "name": "stderr",
     "output_type": "stream",
     "text": [
      "Epoch -1, Eval True: 100%|████████████████████████████████████████████████████████████████████████████████████████████████████████████████████████████| 343/343 [00:14<00:00, 23.87it/s]\n",
      "Epoch -1, Eval True: 100%|████████████████████████████████████████████████████████████████████████████████████████████████████████████████████████████| 315/315 [00:09<00:00, 33.16it/s]\n"
     ]
    }
   ],
   "source": [
    "image_data = [\n",
    "    json.loads(line)\n",
    "    for line in open(\"data/FairFace/processed_attribute_dataset/attributes.jsonl\")\n",
    "]\n",
    "\n",
    "\n",
    "def filter_fn(x):\n",
    "    return x[\"attributes\"][\"split\"] == \"val\"\n",
    "\n",
    "\n",
    "image_data = [x for x in image_data if filter_fn(x)]\n",
    "\n",
    "\n",
    "def label_fn(x):\n",
    "    return 1 if x[\"attributes\"][\"gender\"] == \"Female\" else 0\n",
    "\n",
    "\n",
    "for item in image_data:\n",
    "    item[\"label\"] = label_fn(item)\n",
    "\n",
    "image_dataset = ImageDataset(data=image_data)\n",
    "image_dataloader = create_dataloader(\n",
    "    dataset=image_dataset, modality=\"image\", transform=transform\n",
    ")\n",
    "image_metrics = run_one_epoch(\n",
    "    dataloader=image_dataloader,\n",
    "    model=model,\n",
    "    clip_model=clip_model,\n",
    "    modality=\"image\",\n",
    "    opt=None,\n",
    "    epoch_idx=-1,\n",
    "    eval=True,\n",
    "    verbose=True,\n",
    ")\n",
    "\n",
    "# Dataset attributes\n",
    "attributes = {\n",
    "    \"age\": set([x[\"attributes\"][\"age\"] for x in image_data]),\n",
    "    \"race\": set([x[\"attributes\"][\"race\"] for x in image_data]),\n",
    "    \"gender\": set([x[\"attributes\"][\"gender\"] for x in image_data]),\n",
    "}\n",
    "attributes_combinations = [\n",
    "    dict(zip(attributes, x)) for x in itertools.product(*attributes.values())\n",
    "]\n",
    "age_description = {\n",
    "    \"0-2\": [\"infant boy\", \"infant girl\"],\n",
    "    \"3-9\": [\"little boy\", \"little girl\"],\n",
    "    \"10-19\": [\"teenage boy\", \"teenage girl\"],\n",
    "    \"20-29\": [\"young man\", \"young woman\"],\n",
    "    \"30-39\": [\"adult man\", \"adult woman\"],\n",
    "    \"40-49\": [\"middle-aged man\", \"middle-aged woman\"],\n",
    "    \"50-59\": [\"senior man\", \"senior woman\"],\n",
    "    \"60-69\": [\"elderly man\", \"elderly woman\"],\n",
    "    \"more than 70\": [\"very old man\", \"very old woman\"],\n",
    "}\n",
    "gender_to_idx = {\n",
    "    \"Male\": 0,\n",
    "    \"Female\": 1,\n",
    "}\n",
    "\n",
    "################################ Raw ################################\n",
    "# text_data = [\n",
    "#     {\n",
    "#         \"text\": f\"{x['age']}, {x['race']}, {x['gender']}.\".lower().replace(\"_\", \" \"),\n",
    "#         \"label\": 1 if x[\"gender\"] == \"Female\" else 0,\n",
    "#         \"attributes\": {\n",
    "#             \"age\": x[\"age\"],\n",
    "#             \"race\": x[\"race\"],\n",
    "#             \"gender\": x[\"gender\"]\n",
    "#         },\n",
    "#     }\n",
    "#     for x in attributes_combinations\n",
    "# ]\n",
    "\n",
    "################################ Prompt Engineering ################################\n",
    "# text_data = [\n",
    "#     {\n",
    "#         \"text\": f\"a face of a {x['race']} {age_description[x['age']][gender_to_idx[x['gender']]]}.\".lower().replace(\"_\", \" \"),\n",
    "#         \"label\": 1 if x[\"gender\"] == \"Female\" else 0,\n",
    "#         \"attributes\": {\n",
    "#             \"age\": x[\"age\"],\n",
    "#             \"race\": x[\"race\"],\n",
    "#             \"gender\": x[\"gender\"]\n",
    "#         },\n",
    "#     }\n",
    "#     for x in attributes_combinations\n",
    "# ]\n",
    "\n",
    "################################ Prompt Ensemble ################################\n",
    "text_data = [\n",
    "    {\n",
    "        \"text\": prompt(\n",
    "            f\"face of a {x['race']} {age_description[x['age']][gender_to_idx[x['gender']]]}\"\n",
    "        )\n",
    "        .lower()\n",
    "        .replace(\"_\", \" \"),\n",
    "        \"label\": 1 if x[\"gender\"] == \"Female\" else 0,\n",
    "        \"attributes\": {\"age\": x[\"age\"], \"race\": x[\"race\"], \"gender\": x[\"gender\"]},\n",
    "    }\n",
    "    for x in attributes_combinations\n",
    "    for prompt in openai_imagenet_template\n",
    "]\n",
    "\n",
    "# TODO: select one from above\n",
    "\n",
    "text_dataset = TextDataset(data=text_data)\n",
    "text_dataloader = create_dataloader(dataset=text_dataset, modality=\"text\")\n",
    "text_metrics = run_one_epoch(\n",
    "    dataloader=text_dataloader,\n",
    "    model=model,\n",
    "    clip_model=clip_model,\n",
    "    modality=\"text\",\n",
    "    opt=None,\n",
    "    epoch_idx=-1,\n",
    "    eval=True,\n",
    "    verbose=True,\n",
    ")"
   ]
  },
  {
   "cell_type": "markdown",
   "metadata": {},
   "source": [
    "## Larger slice discovery"
   ]
  },
  {
   "cell_type": "code",
   "execution_count": 5,
   "metadata": {},
   "outputs": [
    {
     "name": "stdout",
     "output_type": "stream",
     "text": [
      "[((('race', 'Black'),), 0.8997429305912596),\n",
      " ((('race', 'Southeast Asian'),), 0.9342756183745583),\n",
      " ((('race', 'East Asian'),), 0.9419354838709677),\n",
      " ((('race', 'Indian'),), 0.9445910290237467),\n",
      " ((('race', 'Latino_Hispanic'),), 0.9537892791127541),\n",
      " ((('race', 'White'),), 0.9597122302158273),\n",
      " ((('race', 'Middle Eastern'),), 0.967741935483871)]\n",
      "\n",
      "[((('race', 'East Asian'),), 0.9916666666666667),\n",
      " ((('race', 'Indian'),), 0.99375),\n",
      " ((('race', 'Black'),), 0.9958333333333333),\n",
      " ((('race', 'White'),), 0.9965277777777778),\n",
      " ((('race', 'Southeast Asian'),), 0.9972222222222222),\n",
      " ((('race', 'Latino_Hispanic'),), 0.9979166666666667),\n",
      " ((('race', 'Middle Eastern'),), 0.9979166666666667)]\n",
      "\n",
      "[((('race', 'Black'),), 0.9133973119883901),\n",
      " ((('race', 'Indian'),), 0.926761427645882),\n",
      " ((('race', 'East Asian'),), 0.9277101089350052),\n",
      " ((('race', 'Southeast Asian'),), 0.9332894913024372),\n",
      " ((('race', 'White'),), 0.9427251905616787),\n",
      " ((('race', 'Latino_Hispanic'),), 0.9463455664614836),\n",
      " ((('race', 'Middle Eastern'),), 0.952625602670014)]\n",
      "\n"
     ]
    }
   ],
   "source": [
    "fields = [\"race\"]\n",
    "\n",
    "image_preds, image_labels = image_metrics[\"preds\"], image_metrics[\"labels\"]\n",
    "image_subgroups = subgrouping(image_data, fields)\n",
    "image_subgroup_metrics = computing_subgroup_metrics(\n",
    "    image_preds, image_labels, image_subgroups\n",
    ")\n",
    "pprint(sorted(image_subgroup_metrics.items(), key=lambda x: x[1]))\n",
    "print()\n",
    "\n",
    "text_preds, text_labels = text_metrics[\"preds\"], text_metrics[\"labels\"]\n",
    "text_subgroups = subgrouping(text_data, fields)\n",
    "text_subgroup_metrics = computing_subgroup_metrics(\n",
    "    text_preds, text_labels, text_subgroups\n",
    ")\n",
    "pprint(sorted(text_subgroup_metrics.items(), key=lambda x: x[1]))\n",
    "print()\n",
    "\n",
    "text_logits = text_metrics[\"logits\"]\n",
    "text_probs = torch.softmax(torch.tensor(text_logits), dim=1).numpy().tolist()\n",
    "text_subgroup_probs = defaultdict(list)\n",
    "for i, x in enumerate(text_data):\n",
    "    key = ((\"race\", x[\"attributes\"][\"race\"]),)\n",
    "    value = text_probs[i][x[\"label\"]]\n",
    "    text_subgroup_probs[key].append(value)\n",
    "text_subgroup_probs = {k: float(np.mean(v)) for k, v in text_subgroup_probs.items()}\n",
    "pprint(sorted(text_subgroup_probs.items(), key=lambda x: x[1]))\n",
    "print()"
   ]
  },
  {
   "cell_type": "markdown",
   "metadata": {},
   "source": [
    "## Atomic slice correlation"
   ]
  },
  {
   "cell_type": "code",
   "execution_count": 3,
   "metadata": {},
   "outputs": [],
   "source": [
    "def compute_correlation(data1_list: List, data2_list: List) -> None:\n",
    "    assert len(data1_list) == len(data2_list)\n",
    "    data1 = np.array(data1_list)\n",
    "    data2 = np.array(data2_list)\n",
    "    spearmanr_corr, spearmanr_pval = spearmanr(data1, data2)\n",
    "    pearsonr_corr, pearsonr_pval = pearsonr(data1, data2)\n",
    "    print(f\"Spearman correlation: {spearmanr_corr:.4f} (p-value: {spearmanr_pval:.4f})\")\n",
    "    print(f\"Pearson correlation: {pearsonr_corr:.4f} (p-value: {pearsonr_pval:.4f})\")\n",
    "    plt.figure()\n",
    "    plt.scatter(data1, data2, alpha=0.3, s=10)\n",
    "    plt.show()"
   ]
  },
  {
   "cell_type": "code",
   "execution_count": 4,
   "metadata": {},
   "outputs": [
    {
     "name": "stdout",
     "output_type": "stream",
     "text": [
      "Image accuracy: 0.9441\n",
      "Text accuracy: 0.9963\n"
     ]
    }
   ],
   "source": [
    "#################### Only run if closing gap!!! ####################\n",
    "\n",
    "image_features = F.normalize(torch.tensor(image_metrics[\"features\"]))\n",
    "text_features = F.normalize(torch.tensor(text_metrics[\"features\"]))\n",
    "\n",
    "coco_features = torch.load(\"mmdebug/src/pytorch_cache/features/coco_features_vitb32.pt\")\n",
    "coco_image_features = F.normalize(torch.tensor(coco_features[\"image_features\"]))\n",
    "coco_text_features = F.normalize(torch.tensor(coco_features[\"text_features\"]))\n",
    "\n",
    "image_features -= coco_image_features.mean(0)\n",
    "text_features -= coco_text_features.mean(0)\n",
    "\n",
    "image_metrics_old = image_metrics\n",
    "text_metrics_old = text_metrics\n",
    "\n",
    "image_logits = model(image_features.cuda()).detach().cpu()\n",
    "text_logits = model(text_features.cuda()).detach().cpu()\n",
    "image_metrics = {\n",
    "    \"logits\": image_logits.numpy().tolist(),\n",
    "    \"preds\": image_logits.argmax(dim=1).numpy().tolist(),\n",
    "    \"labels\": image_metrics_old[\"labels\"],\n",
    "}\n",
    "text_metrics = {\n",
    "    \"logits\": text_logits.numpy().tolist(),\n",
    "    \"preds\": text_logits.argmax(dim=1).numpy().tolist(),\n",
    "    \"labels\": text_metrics_old[\"labels\"],\n",
    "}\n",
    "image_acc = np.mean(\n",
    "    np.array(image_metrics[\"preds\"]) == np.array(image_metrics[\"labels\"])\n",
    ")\n",
    "text_acc = np.mean(np.array(text_metrics[\"preds\"]) == np.array(text_metrics[\"labels\"]))\n",
    "print(f\"Image accuracy: {image_acc:.4f}\")\n",
    "print(f\"Text accuracy: {text_acc:.4f}\")\n",
    "\n",
    "#################### Only if closing gap!!! ####################"
   ]
  },
  {
   "cell_type": "code",
   "execution_count": 5,
   "metadata": {},
   "outputs": [
    {
     "name": "stdout",
     "output_type": "stream",
     "text": [
      "[((('age', '0-2'), ('race', 'Southeast Asian'), ('gender', 'Female')), 0.6),\n",
      " ((('age', '0-2'), ('race', 'Black'), ('gender', 'Female')),\n",
      "  0.6666666666666666),\n",
      " ((('age', '3-9'), ('race', 'Black'), ('gender', 'Female')),\n",
      "  0.6990291262135923)]\n",
      "\n",
      "[((('age', 'more than 70'), ('race', 'East Asian'), ('gender', 'Male')), 0.95),\n",
      " ((('age', 'more than 70'), ('race', 'Indian'), ('gender', 'Male')), 0.95),\n",
      " ((('age', '0-2'), ('race', 'Black'), ('gender', 'Female')), 0.975)]\n",
      "\n",
      "[((('age', '3-9'), ('race', 'Black'), ('gender', 'Female')),\n",
      "  0.7401164403185249),\n",
      " ((('age', 'more than 70'), ('race', 'East Asian'), ('gender', 'Male')),\n",
      "  0.751735856756568),\n",
      " ((('age', '0-2'), ('race', 'Southeast Asian'), ('gender', 'Female')),\n",
      "  0.7524581350386143)]\n",
      "\n",
      "Spearman correlation: 0.3167 (p-value: 0.0003)\n",
      "Pearson correlation: 0.3709 (p-value: 0.0000)\n"
     ]
    },
    {
     "data": {
      "image/png": "[encoded data removed]",
      "text/plain": [
       "<Figure size 432x288 with 1 Axes>"
      ]
     },
     "metadata": {
      "needs_background": "light"
     },
     "output_type": "display_data"
    },
    {
     "name": "stdout",
     "output_type": "stream",
     "text": [
      "Spearman correlation: 0.5210 (p-value: 0.0000)\n",
      "Pearson correlation: 0.6721 (p-value: 0.0000)\n"
     ]
    },
    {
     "data": {
      "image/png": "[encoded data removed]",
      "text/plain": [
       "<Figure size 432x288 with 1 Axes>"
      ]
     },
     "metadata": {
      "needs_background": "light"
     },
     "output_type": "display_data"
    }
   ],
   "source": [
    "fields = [\"age\", \"race\", \"gender\"]\n",
    "\n",
    "image_preds, image_labels = image_metrics[\"preds\"], image_metrics[\"labels\"]\n",
    "image_subgroups = subgrouping(image_data, fields)\n",
    "image_subgroup_metrics = computing_subgroup_metrics(\n",
    "    image_preds, image_labels, image_subgroups\n",
    ")\n",
    "pprint(sorted(image_subgroup_metrics.items(), key=lambda x: x[1])[:3])\n",
    "print()\n",
    "\n",
    "text_preds, text_labels = text_metrics[\"preds\"], text_metrics[\"labels\"]\n",
    "text_subgroups = subgrouping(text_data, fields)\n",
    "text_subgroup_metrics = computing_subgroup_metrics(\n",
    "    text_preds, text_labels, text_subgroups\n",
    ")\n",
    "pprint(sorted(text_subgroup_metrics.items(), key=lambda x: x[1])[:3])\n",
    "print()\n",
    "\n",
    "text_logits = text_metrics[\"logits\"]\n",
    "text_probs = torch.softmax(torch.tensor(text_logits), dim=1).numpy().tolist()\n",
    "text_subgroup_probs = defaultdict(list)\n",
    "for i, x in enumerate(text_data):\n",
    "    key = (\n",
    "        (\"age\", x[\"attributes\"][\"age\"]),\n",
    "        (\"race\", x[\"attributes\"][\"race\"]),\n",
    "        (\"gender\", x[\"attributes\"][\"gender\"]),\n",
    "    )\n",
    "    value = text_probs[i][x[\"label\"]]\n",
    "    text_subgroup_probs[key].append(value)\n",
    "text_subgroup_probs = {k: float(np.mean(v)) for k, v in text_subgroup_probs.items()}\n",
    "pprint(sorted(text_subgroup_probs.items(), key=lambda x: x[1])[:3])\n",
    "print()\n",
    "\n",
    "compute_correlation(\n",
    "    [text_subgroup_metrics[x] for x in image_subgroup_metrics],\n",
    "    [image_subgroup_metrics[x] for x in image_subgroup_metrics],\n",
    ")\n",
    "compute_correlation(\n",
    "    [text_subgroup_probs[x] for x in image_subgroup_metrics],\n",
    "    [image_subgroup_metrics[x] for x in image_subgroup_metrics],\n",
    ")"
   ]
  },
  {
   "cell_type": "markdown",
   "metadata": {},
   "source": [
    "## Image Correlation Analysis"
   ]
  },
  {
   "cell_type": "code",
   "execution_count": 11,
   "metadata": {},
   "outputs": [
    {
     "name": "stderr",
     "output_type": "stream",
     "text": [
      "Epoch -1, Eval True: 100%|████████████████████████████████████████████████████████████████████████████████████████████████████████████████████████████████████████████████████████████████████| 79/79 [00:09<00:00,  8.58it/s]\n"
     ]
    },
    {
     "name": "stdout",
     "output_type": "stream",
     "text": [
      "[((('age', '0-2'), ('race', 'Black'), ('gender', 'Female')), 0.45),\n",
      " ((('age', '10-19'), ('race', 'White'), ('gender', 'Female')), 0.65),\n",
      " ((('age', '0-2'), ('race', 'Middle Eastern'), ('gender', 'Female')), 0.75)]\n",
      "\n",
      "[((('age', '0-2'), ('race', 'Black'), ('gender', 'Female')),\n",
      "  0.4875286865979433),\n",
      " ((('age', '0-2'), ('race', 'Middle Eastern'), ('gender', 'Female')),\n",
      "  0.6417300954461098),\n",
      " ((('age', '10-19'), ('race', 'White'), ('gender', 'Female')),\n",
      "  0.6592520819976926)]\n",
      "\n",
      "Spearman correlation: 0.3462 (p-value: 0.0001)\n",
      "Pearson correlation: 0.5447 (p-value: 0.0000)\n"
     ]
    },
    {
     "data": {
      "image/png": "[encoded data removed]",
      "text/plain": [
       "<Figure size 432x288 with 1 Axes>"
      ]
     },
     "metadata": {
      "needs_background": "light"
     },
     "output_type": "display_data"
    },
    {
     "name": "stdout",
     "output_type": "stream",
     "text": [
      "Spearman correlation: 0.4288 (p-value: 0.0000)\n",
      "Pearson correlation: 0.5411 (p-value: 0.0000)\n"
     ]
    },
    {
     "data": {
      "image/png": "[encoded data removed]",
      "text/plain": [
       "<Figure size 432x288 with 1 Axes>"
      ]
     },
     "metadata": {
      "needs_background": "light"
     },
     "output_type": "display_data"
    }
   ],
   "source": [
    "fields = [\"age\", \"race\", \"gender\"]\n",
    "\n",
    "image_generated_data = [\n",
    "    json.loads(line)\n",
    "    for line in open(\"fairface/fairface_text_data_generated_images.jsonl\")\n",
    "]\n",
    "\n",
    "for i, item in enumerate(image_generated_data):\n",
    "    item[\"image\"] = item[\"image\"].replace(\"19.png\", f\"{i % 20}.png\")  # bug fix\n",
    "    item[\"image\"] = item[\"image\"].replace(\"\", \"\")\n",
    "    if item[\"attributes\"][\"race\"] == \"Latino Hispanic\":\n",
    "        item[\"attributes\"][\"race\"] = \"Latino_Hispanic\"\n",
    "\n",
    "\n",
    "def filter_fn(x):\n",
    "    return True\n",
    "\n",
    "\n",
    "image_generated_data = [x for x in image_generated_data if filter_fn(x)]\n",
    "\n",
    "\n",
    "def label_fn(x):\n",
    "    return 1 if x[\"attributes\"][\"gender\"] == \"Female\" else 0\n",
    "\n",
    "\n",
    "for item in image_generated_data:\n",
    "    item[\"label\"] = label_fn(item)\n",
    "\n",
    "image_generated_dataset = ImageDataset(data=image_generated_data)\n",
    "image_generated_dataloader = create_dataloader(\n",
    "    dataset=image_generated_dataset, modality=\"image\", transform=transform\n",
    ")\n",
    "image_generated_metrics = run_one_epoch(\n",
    "    dataloader=image_generated_dataloader,\n",
    "    model=model,\n",
    "    clip_model=clip_model,\n",
    "    modality=\"image\",\n",
    "    opt=None,\n",
    "    epoch_idx=-1,\n",
    "    eval=True,\n",
    "    verbose=True,\n",
    ")\n",
    "image_generated_preds, image_generated_labels = (\n",
    "    image_generated_metrics[\"preds\"],\n",
    "    image_generated_metrics[\"labels\"],\n",
    ")\n",
    "image_generated_subgroups = subgrouping(image_generated_data, fields)\n",
    "image_generated_subgroup_metrics = computing_subgroup_metrics(\n",
    "    image_generated_preds, image_generated_labels, image_generated_subgroups\n",
    ")\n",
    "pprint(sorted(image_generated_subgroup_metrics.items(), key=lambda x: x[1])[:3])\n",
    "print()\n",
    "\n",
    "image_generated_logits = image_generated_metrics[\"logits\"]\n",
    "image_generated_probs = (\n",
    "    torch.softmax(torch.tensor(image_generated_logits), dim=1).numpy().tolist()\n",
    ")\n",
    "image_generated_subgroup_probs = defaultdict(list)\n",
    "for i, x in enumerate(image_generated_data):\n",
    "    key = (\n",
    "        (\"age\", x[\"attributes\"][\"age\"]),\n",
    "        (\"race\", x[\"attributes\"][\"race\"]),\n",
    "        (\"gender\", x[\"attributes\"][\"gender\"]),\n",
    "    )\n",
    "    value = image_generated_probs[i][x[\"label\"]]\n",
    "    image_generated_subgroup_probs[key].append(value)\n",
    "image_generated_subgroup_probs = {\n",
    "    # k: v[0] for k, v in image_generated_subgroup_probs.items()\n",
    "    k: float(np.mean(v))\n",
    "    for k, v in image_generated_subgroup_probs.items()  # 1 image correlation\n",
    "}\n",
    "pprint(sorted(image_generated_subgroup_probs.items(), key=lambda x: x[1])[:3])\n",
    "print()\n",
    "\n",
    "compute_correlation(\n",
    "    [image_generated_subgroup_metrics[x] for x in image_subgroup_metrics],\n",
    "    [image_subgroup_metrics[x] for x in image_subgroup_metrics],\n",
    ")  # Accuracy-Accuracy Correlation\n",
    "compute_correlation(\n",
    "    [image_generated_subgroup_probs[x] for x in image_subgroup_metrics],\n",
    "    [image_subgroup_metrics[x] for x in image_subgroup_metrics],\n",
    ")  # Prob-Accuracy Correlation"
   ]
  },
  {
   "cell_type": "markdown",
   "metadata": {},
   "source": [
    "# Attribute-based Interpretation"
   ]
  },
  {
   "cell_type": "code",
   "execution_count": 6,
   "metadata": {},
   "outputs": [],
   "source": [
    "image_data = [\n",
    "    json.loads(line)\n",
    "    for line in open(\"data/FairFace/processed_attribute_dataset/attributes.jsonl\")\n",
    "]\n",
    "\n",
    "\n",
    "def filter_fn(x):\n",
    "    return x[\"attributes\"][\"split\"] == \"val\"\n",
    "\n",
    "\n",
    "image_data = [x for x in image_data if filter_fn(x)]\n",
    "\n",
    "age_description = {\n",
    "    \"0-2\": \"infant\",\n",
    "    \"3-9\": \"little\",\n",
    "    \"10-19\": \"teenage\",\n",
    "    \"20-29\": \"young\",\n",
    "    \"30-39\": \"adult\",\n",
    "    \"40-49\": \"middle-aged\",\n",
    "    \"50-59\": \"senior\",\n",
    "    \"60-69\": \"elderly\",\n",
    "    \"more than 70\": \"very old\",\n",
    "}\n",
    "\n",
    "attributes = {\n",
    "    \"race\": set(\n",
    "        [x[\"attributes\"][\"race\"].lower().replace(\"_\", \" \") for x in image_data]\n",
    "    ),\n",
    "    \"age\": set([age_description[x[\"attributes\"][\"age\"]] for x in image_data]),\n",
    "}"
   ]
  },
  {
   "cell_type": "markdown",
   "metadata": {},
   "source": [
    "## Direct influence"
   ]
  },
  {
   "cell_type": "code",
   "execution_count": 7,
   "metadata": {},
   "outputs": [
    {
     "name": "stdout",
     "output_type": "stream",
     "text": [
      "If we care about gender (label = female), the most similar attributes are:\n",
      "[('indian', 0.6278384923934937), ('white', 0.6146937608718872), ('southeast asian', 0.4372418522834778), ('east asian', 0.3901500105857849), ('black', 0.37779057025909424), ('middle eastern', 0.3335767984390259), ('latino hispanic', 0.18446621298789978)]\n"
     ]
    }
   ],
   "source": [
    "attribute_list = list(attributes[\"race\"])\n",
    "\n",
    "attribute_embeddings = F.normalize(\n",
    "    clip_model.encode_text(clip.tokenize(attribute_list).cuda())\n",
    ")\n",
    "probs = torch.softmax(model(attribute_embeddings), dim=1)\n",
    "\n",
    "attribute_scores = {\n",
    "    attribute_list[i]: float(probs[i, 1]) for i in range(len(attribute_list))\n",
    "}\n",
    "\n",
    "print(\"If we care about gender (label = female), the most similar attributes are:\")\n",
    "print(sorted(attribute_scores.items(), key=lambda x: x[1], reverse=True)[:10])"
   ]
  },
  {
   "cell_type": "markdown",
   "metadata": {},
   "source": [
    "## Aggregated Influence: Shapley Value s(a) = E_{S subset {F \\ a}} [f(S, a) - f(S)]"
   ]
  },
  {
   "cell_type": "code",
   "execution_count": 10,
   "metadata": {},
   "outputs": [
    {
     "name": "stdout",
     "output_type": "stream",
     "text": [
      "If we care about gender (label = 1 female), the most influential attributes are (reported Shapley value):\n",
      "[('east asian', tensor(0.0266)),\n",
      " ('southeast asian', tensor(0.0119)),\n",
      " ('indian', tensor(0.0116)),\n",
      " ('latino hispanic', tensor(0.0046)),\n",
      " ('white', tensor(0.0040)),\n",
      " ('middle eastern', tensor(3.8449e-05)),\n",
      " ('black', tensor(-0.0327))]\n"
     ]
    }
   ],
   "source": [
    "race_list = list(attributes[\"race\"])\n",
    "age_list = list(attributes[\"age\"])\n",
    "\n",
    "attribute_shapley = {}\n",
    "print(\n",
    "    \"If we care about gender (label = 1 female), the most influential attributes are (reported Shapley value):\"\n",
    ")\n",
    "for race in race_list:\n",
    "    prompts = (\n",
    "        [f\"a face of a {age} man.\" for age in age_list]\n",
    "        + [f\"a face of a {age} woman.\" for age in age_list]\n",
    "        + [f\"a face of a {race} {age} man.\" for age in age_list]\n",
    "        + [f\"a face of a {race} {age} woman.\" for age in age_list]\n",
    "    )\n",
    "    with torch.no_grad():\n",
    "        inputs = clip.tokenize(prompts).cuda()\n",
    "        embeddings = F.normalize(clip_model.encode_text(inputs))\n",
    "        probs = torch.softmax(model(embeddings), dim=1).cpu()\n",
    "\n",
    "    shapley = (probs[len(age_list) * 2 :, 1] - probs[: 2 * len(age_list), 1]).mean()\n",
    "    attribute_shapley[race] = shapley\n",
    "\n",
    "pprint(sorted(attribute_shapley.items(), key=lambda x: x[1], reverse=True)[:10])"
   ]
  },
  {
   "cell_type": "code",
   "execution_count": 9,
   "metadata": {},
   "outputs": [
    {
     "name": "stdout",
     "output_type": "stream",
     "text": [
      "If we care about gender (label = 1 female), the most influential attributes are (reported Shapley value):\n",
      "[('very old', tensor(0.0229)),\n",
      " ('young', tensor(0.0161)),\n",
      " ('senior', tensor(0.0161)),\n",
      " ('teenage', tensor(0.0147)),\n",
      " ('elderly', tensor(0.0117)),\n",
      " ('middle-aged', tensor(0.0079)),\n",
      " ('adult', tensor(0.0068)),\n",
      " ('little', tensor(-0.0079)),\n",
      " ('infant', tensor(-0.0171))]\n"
     ]
    }
   ],
   "source": [
    "race_list = list(attributes[\"race\"])\n",
    "age_list = list(attributes[\"age\"])\n",
    "\n",
    "attribute_shapley = {}\n",
    "print(\n",
    "    \"If we care about gender (label = 1 female), the most influential attributes are (reported Shapley value):\"\n",
    ")\n",
    "for age in age_list:\n",
    "    prompts = (\n",
    "        [f\"a face of a {race} man.\" for race in race_list]\n",
    "        + [f\"a face of a {race} woman.\" for race in race_list]\n",
    "        + [f\"a face of a {race} {age} man.\" for race in race_list]\n",
    "        + [f\"a face of a {race} {age} woman.\" for race in race_list]\n",
    "    )\n",
    "    with torch.no_grad():\n",
    "        inputs = clip.tokenize(prompts).cuda()\n",
    "        embeddings = F.normalize(clip_model.encode_text(inputs))\n",
    "        probs = torch.softmax(model(embeddings), dim=1).cpu()\n",
    "\n",
    "    shapley = (probs[len(race_list) * 2 :, 1] - probs[: 2 * len(race_list), 1]).mean()\n",
    "    attribute_shapley[age] = shapley\n",
    "\n",
    "pprint(sorted(attribute_shapley.items(), key=lambda x: x[1], reverse=True)[:10])"
   ]
  },
  {
   "cell_type": "markdown",
   "metadata": {},
   "source": [
    "# Continue Training"
   ]
  },
  {
   "cell_type": "code",
   "execution_count": 20,
   "metadata": {},
   "outputs": [
    {
     "name": "stdout",
     "output_type": "stream",
     "text": [
      "10080\n",
      "1440\n"
     ]
    },
    {
     "name": "stderr",
     "output_type": "stream",
     "text": [
      "Epoch -1, Eval True: 100%|███████████████████████████████████████████████| 45/45 [00:01<00:00, 26.70it/s]\n"
     ]
    }
   ],
   "source": [
    "text_data = [\n",
    "    {\n",
    "        \"text\": prompt(\n",
    "            f\"face of a {x['race']} {age_description[x['age']][gender_to_idx[x['gender']]]}\"\n",
    "        )\n",
    "        .lower()\n",
    "        .replace(\"_\", \" \"),\n",
    "        \"label\": 1 if x[\"gender\"] == \"Female\" else 0,\n",
    "        \"attributes\": {\"age\": x[\"age\"], \"race\": x[\"race\"], \"gender\": x[\"gender\"]},\n",
    "    }\n",
    "    for x in attributes_combinations\n",
    "    for prompt in openai_imagenet_template\n",
    "]\n",
    "print(len(text_data))\n",
    "text_data = [item for item in text_data if item[\"attributes\"][\"race\"] == \"Black\"]\n",
    "print(len(text_data))\n",
    "\n",
    "# TODO: select one from above\n",
    "\n",
    "text_dataset = TextDataset(data=text_data)\n",
    "text_dataloader = create_dataloader(dataset=text_dataset, modality=\"text\")\n",
    "text_metrics = run_one_epoch(\n",
    "    dataloader=text_dataloader,\n",
    "    model=model,\n",
    "    clip_model=clip_model,\n",
    "    modality=\"text\",\n",
    "    opt=None,\n",
    "    epoch_idx=-1,\n",
    "    eval=True,\n",
    "    verbose=True,\n",
    ")"
   ]
  },
  {
   "cell_type": "code",
   "execution_count": 21,
   "metadata": {},
   "outputs": [],
   "source": [
    "from torch.utils.data import TensorDataset, DataLoader\n",
    "\n",
    "text_features = text_metrics[\"features\"]\n",
    "text_labels = text_metrics[\"labels\"]\n",
    "text_dataset = TensorDataset(torch.tensor(text_features), torch.tensor(text_labels))\n",
    "text_dataloader = DataLoader(text_dataset, batch_size=32, shuffle=True)\n",
    "\n",
    "fields = [\"race\"]"
   ]
  },
  {
   "cell_type": "code",
   "execution_count": 23,
   "metadata": {},
   "outputs": [
    {
     "name": "stderr",
     "output_type": "stream",
     "text": [
      "Epoch 0, Eval True: 100%|█████████████████████████████████████████████████████████████████████████████████████████████████████████████████████████████| 343/343 [00:14<00:00, 23.87it/s]\n"
     ]
    },
    {
     "name": "stdout",
     "output_type": "stream",
     "text": [
      "[((('race', 'Black'),), 0.9042416452442159),\n",
      " ((('race', 'Southeast Asian'),), 0.9307420494699646),\n",
      " ((('race', 'East Asian'),), 0.9438709677419355),\n",
      " ((('race', 'Indian'),), 0.9452506596306068),\n",
      " ((('race', 'Latino_Hispanic'),), 0.9550215650030807),\n",
      " ((('race', 'White'),), 0.9601918465227818),\n",
      " ((('race', 'Middle Eastern'),), 0.9685690653432589)]\n",
      "0.9439839712794064\n",
      "\n"
     ]
    },
    {
     "name": "stderr",
     "output_type": "stream",
     "text": [
      "Epoch 1, Eval True: 100%|█████████████████████████████████████████████████████████████████████████████████████████████████████████████████████████████| 343/343 [00:14<00:00, 23.46it/s]\n"
     ]
    },
    {
     "name": "stdout",
     "output_type": "stream",
     "text": [
      "[((('race', 'Black'),), 0.9061696658097687),\n",
      " ((('race', 'Southeast Asian'),), 0.9321554770318021),\n",
      " ((('race', 'Indian'),), 0.9432717678100264),\n",
      " ((('race', 'East Asian'),), 0.944516129032258),\n",
      " ((('race', 'Latino_Hispanic'),), 0.9531731361675909),\n",
      " ((('race', 'White'),), 0.9601918465227818),\n",
      " ((('race', 'Middle Eastern'),), 0.967741935483871)]\n",
      "0.9438885654082999\n",
      "\n"
     ]
    },
    {
     "name": "stderr",
     "output_type": "stream",
     "text": [
      "Epoch 2, Eval True: 100%|█████████████████████████████████████████████████████████████████████████████████████████████████████████████████████████████| 343/343 [00:14<00:00, 23.75it/s]\n"
     ]
    },
    {
     "name": "stdout",
     "output_type": "stream",
     "text": [
      "[((('race', 'Black'),), 0.9074550128534704),\n",
      " ((('race', 'Southeast Asian'),), 0.9314487632508834),\n",
      " ((('race', 'Indian'),), 0.9439313984168866),\n",
      " ((('race', 'East Asian'),), 0.944516129032258),\n",
      " ((('race', 'Latino_Hispanic'),), 0.9525569932224276),\n",
      " ((('race', 'White'),), 0.9611510791366906),\n",
      " ((('race', 'Middle Eastern'),), 0.967741935483871)]\n",
      "0.944114473056641\n",
      "\n"
     ]
    },
    {
     "name": "stderr",
     "output_type": "stream",
     "text": [
      "Epoch 3, Eval True: 100%|█████████████████████████████████████████████████████████████████████████████████████████████████████████████████████████████| 343/343 [00:14<00:00, 23.75it/s]\n"
     ]
    },
    {
     "name": "stdout",
     "output_type": "stream",
     "text": [
      "[((('race', 'Black'),), 0.9074550128534704),\n",
      " ((('race', 'Southeast Asian'),), 0.9321554770318021),\n",
      " ((('race', 'Indian'),), 0.9439313984168866),\n",
      " ((('race', 'East Asian'),), 0.944516129032258),\n",
      " ((('race', 'Latino_Hispanic'),), 0.9525569932224276),\n",
      " ((('race', 'White'),), 0.9616306954436451),\n",
      " ((('race', 'Middle Eastern'),), 0.9669148056244831)]\n",
      "0.9441657873749961\n",
      "\n"
     ]
    },
    {
     "name": "stderr",
     "output_type": "stream",
     "text": [
      "Epoch 4, Eval True: 100%|█████████████████████████████████████████████████████████████████████████████████████████████████████████████████████████████| 343/343 [00:14<00:00, 23.72it/s]\n"
     ]
    },
    {
     "name": "stdout",
     "output_type": "stream",
     "text": [
      "[((('race', 'Black'),), 0.9074550128534704),\n",
      " ((('race', 'Southeast Asian'),), 0.9328621908127208),\n",
      " ((('race', 'Indian'),), 0.9439313984168866),\n",
      " ((('race', 'East Asian'),), 0.9451612903225807),\n",
      " ((('race', 'Latino_Hispanic'),), 0.9513247073321011),\n",
      " ((('race', 'White'),), 0.962589928057554),\n",
      " ((('race', 'Middle Eastern'),), 0.9669148056244831)]\n",
      "0.9443199047742566\n",
      "\n"
     ]
    },
    {
     "name": "stderr",
     "output_type": "stream",
     "text": [
      "Epoch 5, Eval True: 100%|█████████████████████████████████████████████████████████████████████████████████████████████████████████████████████████████| 343/343 [00:14<00:00, 23.14it/s]\n"
     ]
    },
    {
     "name": "stdout",
     "output_type": "stream",
     "text": [
      "[((('race', 'Black'),), 0.9074550128534704),\n",
      " ((('race', 'Southeast Asian'),), 0.9321554770318021),\n",
      " ((('race', 'East Asian'),), 0.9438709677419355),\n",
      " ((('race', 'Indian'),), 0.9445910290237467),\n",
      " ((('race', 'Latino_Hispanic'),), 0.9513247073321011),\n",
      " ((('race', 'White'),), 0.962589928057554),\n",
      " ((('race', 'Middle Eastern'),), 0.967741935483871)]\n",
      "0.944247008217783\n",
      "\n"
     ]
    },
    {
     "name": "stderr",
     "output_type": "stream",
     "text": [
      "Epoch 6, Eval True: 100%|█████████████████████████████████████████████████████████████████████████████████████████████████████████████████████████████| 343/343 [00:14<00:00, 23.72it/s]\n"
     ]
    },
    {
     "name": "stdout",
     "output_type": "stream",
     "text": [
      "[((('race', 'Black'),), 0.9068123393316195),\n",
      " ((('race', 'Southeast Asian'),), 0.9314487632508834),\n",
      " ((('race', 'East Asian'),), 0.9438709677419355),\n",
      " ((('race', 'Indian'),), 0.9452506596306068),\n",
      " ((('race', 'Latino_Hispanic'),), 0.9513247073321011),\n",
      " ((('race', 'White'),), 0.9630695443645084),\n",
      " ((('race', 'Middle Eastern'),), 0.9669148056244831)]\n",
      "0.9440988267537339\n",
      "\n"
     ]
    },
    {
     "name": "stderr",
     "output_type": "stream",
     "text": [
      "Epoch 7, Eval True: 100%|█████████████████████████████████████████████████████████████████████████████████████████████████████████████████████████████| 343/343 [00:14<00:00, 23.62it/s]\n"
     ]
    },
    {
     "name": "stdout",
     "output_type": "stream",
     "text": [
      "[((('race', 'Black'),), 0.9061696658097687),\n",
      " ((('race', 'Southeast Asian'),), 0.9314487632508834),\n",
      " ((('race', 'East Asian'),), 0.9438709677419355),\n",
      " ((('race', 'Indian'),), 0.945910290237467),\n",
      " ((('race', 'Latino_Hispanic'),), 0.9507085643869377),\n",
      " ((('race', 'White'),), 0.9630695443645084),\n",
      " ((('race', 'Middle Eastern'),), 0.9669148056244831)]\n",
      "0.9440132287737119\n",
      "\n"
     ]
    },
    {
     "name": "stderr",
     "output_type": "stream",
     "text": [
      "Epoch 8, Eval True: 100%|█████████████████████████████████████████████████████████████████████████████████████████████████████████████████████████████| 343/343 [00:14<00:00, 23.74it/s]\n"
     ]
    },
    {
     "name": "stdout",
     "output_type": "stream",
     "text": [
      "[((('race', 'Black'),), 0.9055269922879178),\n",
      " ((('race', 'Southeast Asian'),), 0.9314487632508834),\n",
      " ((('race', 'East Asian'),), 0.9438709677419355),\n",
      " ((('race', 'Indian'),), 0.9445910290237467),\n",
      " ((('race', 'Latino_Hispanic'),), 0.9500924214417745),\n",
      " ((('race', 'White'),), 0.9635491606714628),\n",
      " ((('race', 'Middle Eastern'),), 0.9669148056244831)]\n",
      "0.9437134485774575\n",
      "\n"
     ]
    },
    {
     "name": "stderr",
     "output_type": "stream",
     "text": [
      "Epoch 9, Eval True: 100%|█████████████████████████████████████████████████████████████████████████████████████████████████████████████████████████████| 343/343 [00:14<00:00, 23.00it/s]\n"
     ]
    },
    {
     "name": "stdout",
     "output_type": "stream",
     "text": [
      "[((('race', 'Black'),), 0.9048843187660668),\n",
      " ((('race', 'Southeast Asian'),), 0.9314487632508834),\n",
      " ((('race', 'East Asian'),), 0.9432258064516129),\n",
      " ((('race', 'Indian'),), 0.945910290237467),\n",
      " ((('race', 'Latino_Hispanic'),), 0.9500924214417745),\n",
      " ((('race', 'White'),), 0.9635491606714628),\n",
      " ((('race', 'Middle Eastern'),), 0.9669148056244831)]\n",
      "0.9437179380633928\n",
      "\n"
     ]
    }
   ],
   "source": [
    "model = Linear(512, 2).cuda()\n",
    "state_dict = torch.load(LINEAR_MODEL)\n",
    "model.load_state_dict(state_dict)\n",
    "\n",
    "\n",
    "def train_one_epoch(dataloader, model, optimizer, device=\"cuda\"):\n",
    "    model.train()\n",
    "    for batch in dataloader:\n",
    "        x, y = batch\n",
    "        x, y = x.to(device), y.to(device)\n",
    "        logits = model(x)\n",
    "        loss = F.cross_entropy(logits, y)\n",
    "        optimizer.zero_grad()\n",
    "        loss.backward()\n",
    "        optimizer.step()\n",
    "\n",
    "\n",
    "opimizer = torch.optim.Adam(model.parameters(), lr=1e-3)\n",
    "for epoch in range(10):\n",
    "    train_one_epoch(text_dataloader, model, opimizer)\n",
    "\n",
    "    image_metrics = run_one_epoch(\n",
    "        dataloader=image_dataloader,\n",
    "        model=model,\n",
    "        clip_model=clip_model,\n",
    "        modality=\"image\",\n",
    "        opt=None,\n",
    "        epoch_idx=epoch,\n",
    "        eval=True,\n",
    "        verbose=True,\n",
    "    )\n",
    "\n",
    "    image_preds, image_labels = image_metrics[\"preds\"], image_metrics[\"labels\"]\n",
    "    image_subgroups = subgrouping(image_data, fields)\n",
    "    image_subgroup_metrics = computing_subgroup_metrics(\n",
    "        image_preds, image_labels, image_subgroups\n",
    "    )\n",
    "    pprint(sorted(image_subgroup_metrics.items(), key=lambda x: x[1]))\n",
    "    print(np.mean(list(image_subgroup_metrics.values())))\n",
    "    print()"
   ]
  },
  {
   "cell_type": "code",
   "execution_count": 24,
   "metadata": {},
   "outputs": [
    {
     "name": "stderr",
     "output_type": "stream",
     "text": [
      "Epoch 0, Eval True: 100%|█████████████████████████████████████████████████████████████████████████████████████████████████████████████████████████████| 343/343 [00:14<00:00, 23.93it/s]\n"
     ]
    },
    {
     "name": "stdout",
     "output_type": "stream",
     "text": [
      "[((('race', 'White'),), 0.8292565947242206),\n",
      " ((('race', 'Black'),), 0.8701799485861182),\n",
      " ((('race', 'Southeast Asian'),), 0.8904593639575972),\n",
      " ((('race', 'Latino_Hispanic'),), 0.8964879852125693),\n",
      " ((('race', 'East Asian'),), 0.896774193548387),\n",
      " ((('race', 'Indian'),), 0.9109498680738787),\n",
      " ((('race', 'Middle Eastern'),), 0.9255583126550868)]\n",
      "0.8885237523939796\n",
      "\n"
     ]
    },
    {
     "name": "stderr",
     "output_type": "stream",
     "text": [
      "Epoch 1, Eval True: 100%|█████████████████████████████████████████████████████████████████████████████████████████████████████████████████████████████| 343/343 [00:14<00:00, 23.66it/s]\n"
     ]
    },
    {
     "name": "stdout",
     "output_type": "stream",
     "text": [
      "[((('race', 'Black'),), 0.8817480719794345),\n",
      " ((('race', 'White'),), 0.9016786570743405),\n",
      " ((('race', 'Southeast Asian'),), 0.9102473498233216),\n",
      " ((('race', 'East Asian'),), 0.92),\n",
      " ((('race', 'Indian'),), 0.9274406332453826),\n",
      " ((('race', 'Latino_Hispanic'),), 0.9309919901417129),\n",
      " ((('race', 'Middle Eastern'),), 0.9578163771712159)]\n",
      "0.9185604399193439\n",
      "\n"
     ]
    },
    {
     "name": "stderr",
     "output_type": "stream",
     "text": [
      "Epoch 2, Eval True: 100%|█████████████████████████████████████████████████████████████████████████████████████████████████████████████████████████████| 343/343 [00:14<00:00, 23.59it/s]\n"
     ]
    },
    {
     "name": "stdout",
     "output_type": "stream",
     "text": [
      "[((('race', 'Black'),), 0.8888174807197944),\n",
      " ((('race', 'Southeast Asian'),), 0.9095406360424029),\n",
      " ((('race', 'White'),), 0.9251798561151079),\n",
      " ((('race', 'East Asian'),), 0.9290322580645162),\n",
      " ((('race', 'Indian'),), 0.9340369393139841),\n",
      " ((('race', 'Latino_Hispanic'),), 0.9451632778804683),\n",
      " ((('race', 'Middle Eastern'),), 0.9627791563275434)]\n",
      "0.9277928006376881\n",
      "\n"
     ]
    },
    {
     "name": "stderr",
     "output_type": "stream",
     "text": [
      "Epoch 3, Eval True: 100%|█████████████████████████████████████████████████████████████████████████████████████████████████████████████████████████████| 343/343 [00:14<00:00, 23.51it/s]\n"
     ]
    },
    {
     "name": "stdout",
     "output_type": "stream",
     "text": [
      "[((('race', 'Black'),), 0.8894601542416453),\n",
      " ((('race', 'Southeast Asian'),), 0.9102473498233216),\n",
      " ((('race', 'East Asian'),), 0.927741935483871),\n",
      " ((('race', 'White'),), 0.9280575539568345),\n",
      " ((('race', 'Indian'),), 0.9320580474934037),\n",
      " ((('race', 'Latino_Hispanic'),), 0.9457794208256316),\n",
      " ((('race', 'Middle Eastern'),), 0.9627791563275434)]\n",
      "0.928017659736036\n",
      "\n"
     ]
    },
    {
     "name": "stderr",
     "output_type": "stream",
     "text": [
      "Epoch 4, Eval True: 100%|█████████████████████████████████████████████████████████████████████████████████████████████████████████████████████████████| 343/343 [00:14<00:00, 23.34it/s]\n"
     ]
    },
    {
     "name": "stdout",
     "output_type": "stream",
     "text": [
      "[((('race', 'Black'),), 0.8888174807197944),\n",
      " ((('race', 'Southeast Asian'),), 0.9060070671378092),\n",
      " ((('race', 'East Asian'),), 0.927741935483871),\n",
      " ((('race', 'White'),), 0.9333333333333333),\n",
      " ((('race', 'Indian'),), 0.9340369393139841),\n",
      " ((('race', 'Latino_Hispanic'),), 0.9488601355514479),\n",
      " ((('race', 'Middle Eastern'),), 0.9644334160463193)]\n",
      "0.9290329010837942\n",
      "\n"
     ]
    },
    {
     "name": "stderr",
     "output_type": "stream",
     "text": [
      "Epoch 5, Eval True: 100%|█████████████████████████████████████████████████████████████████████████████████████████████████████████████████████████████| 343/343 [00:14<00:00, 23.41it/s]\n"
     ]
    },
    {
     "name": "stdout",
     "output_type": "stream",
     "text": [
      "[((('race', 'Black'),), 0.8862467866323908),\n",
      " ((('race', 'Southeast Asian'),), 0.9081272084805654),\n",
      " ((('race', 'East Asian'),), 0.927741935483871),\n",
      " ((('race', 'White'),), 0.93189448441247),\n",
      " ((('race', 'Indian'),), 0.9346965699208444),\n",
      " ((('race', 'Latino_Hispanic'),), 0.9476278496611213),\n",
      " ((('race', 'Middle Eastern'),), 0.9652605459057072)]\n",
      "0.9287993400709957\n",
      "\n"
     ]
    },
    {
     "name": "stderr",
     "output_type": "stream",
     "text": [
      "Epoch 6, Eval True: 100%|█████████████████████████████████████████████████████████████████████████████████████████████████████████████████████████████| 343/343 [00:14<00:00, 23.72it/s]\n"
     ]
    },
    {
     "name": "stdout",
     "output_type": "stream",
     "text": [
      "[((('race', 'Black'),), 0.8856041131105399),\n",
      " ((('race', 'Southeast Asian'),), 0.9074204946996467),\n",
      " ((('race', 'East Asian'),), 0.927741935483871),\n",
      " ((('race', 'White'),), 0.9323741007194245),\n",
      " ((('race', 'Indian'),), 0.9353562005277045),\n",
      " ((('race', 'Latino_Hispanic'),), 0.9482439926062847),\n",
      " ((('race', 'Middle Eastern'),), 0.9652605459057072)]\n",
      "0.9288573404361683\n",
      "\n"
     ]
    },
    {
     "name": "stderr",
     "output_type": "stream",
     "text": [
      "Epoch 7, Eval True: 100%|█████████████████████████████████████████████████████████████████████████████████████████████████████████████████████████████| 343/343 [00:14<00:00, 23.50it/s]\n"
     ]
    },
    {
     "name": "stdout",
     "output_type": "stream",
     "text": [
      "[((('race', 'Black'),), 0.8862467866323908),\n",
      " ((('race', 'Southeast Asian'),), 0.9060070671378092),\n",
      " ((('race', 'East Asian'),), 0.9283870967741935),\n",
      " ((('race', 'Indian'),), 0.9353562005277045),\n",
      " ((('race', 'White'),), 0.93621103117506),\n",
      " ((('race', 'Latino_Hispanic'),), 0.9488601355514479),\n",
      " ((('race', 'Middle Eastern'),), 0.9636062861869313)]\n",
      "0.9292392291407909\n",
      "\n"
     ]
    },
    {
     "name": "stderr",
     "output_type": "stream",
     "text": [
      "Epoch 8, Eval True: 100%|█████████████████████████████████████████████████████████████████████████████████████████████████████████████████████████████| 343/343 [00:14<00:00, 23.04it/s]\n"
     ]
    },
    {
     "name": "stdout",
     "output_type": "stream",
     "text": [
      "[((('race', 'Black'),), 0.8875321336760925),\n",
      " ((('race', 'Southeast Asian'),), 0.9060070671378092),\n",
      " ((('race', 'East Asian'),), 0.9283870967741935),\n",
      " ((('race', 'Indian'),), 0.9353562005277045),\n",
      " ((('race', 'White'),), 0.93621103117506),\n",
      " ((('race', 'Latino_Hispanic'),), 0.9494762784966112),\n",
      " ((('race', 'Middle Eastern'),), 0.9636062861869313)]\n",
      "0.9295108705677718\n",
      "\n"
     ]
    },
    {
     "name": "stderr",
     "output_type": "stream",
     "text": [
      "Epoch 9, Eval True: 100%|█████████████████████████████████████████████████████████████████████████████████████████████████████████████████████████████| 343/343 [00:14<00:00, 23.48it/s]"
     ]
    },
    {
     "name": "stdout",
     "output_type": "stream",
     "text": [
      "[((('race', 'Black'),), 0.8856041131105399),\n",
      " ((('race', 'Southeast Asian'),), 0.9045936395759717),\n",
      " ((('race', 'East Asian'),), 0.9283870967741935),\n",
      " ((('race', 'Indian'),), 0.9353562005277045),\n",
      " ((('race', 'White'),), 0.9366906474820144),\n",
      " ((('race', 'Latino_Hispanic'),), 0.9507085643869377),\n",
      " ((('race', 'Middle Eastern'),), 0.9636062861869313)]\n",
      "0.9292780782920419\n",
      "\n"
     ]
    },
    {
     "name": "stderr",
     "output_type": "stream",
     "text": [
      "\n"
     ]
    }
   ],
   "source": [
    "model = Linear(512, 2).cuda()\n",
    "\n",
    "\n",
    "def train_one_epoch(dataloader, model, optimizer, device=\"cuda\"):\n",
    "    model.train()\n",
    "    for batch in dataloader:\n",
    "        x, y = batch\n",
    "        x, y = x.to(device), y.to(device)\n",
    "        logits = model(x)\n",
    "        loss = F.cross_entropy(logits, y)\n",
    "        optimizer.zero_grad()\n",
    "        loss.backward()\n",
    "        optimizer.step()\n",
    "\n",
    "\n",
    "opimizer = torch.optim.Adam(model.parameters(), lr=1e-3)\n",
    "for epoch in range(10):\n",
    "    train_one_epoch(text_dataloader, model, opimizer)\n",
    "\n",
    "    image_metrics = run_one_epoch(\n",
    "        dataloader=image_dataloader,\n",
    "        model=model,\n",
    "        clip_model=clip_model,\n",
    "        modality=\"image\",\n",
    "        opt=None,\n",
    "        epoch_idx=epoch,\n",
    "        eval=True,\n",
    "        verbose=True,\n",
    "    )\n",
    "\n",
    "    image_preds, image_labels = image_metrics[\"preds\"], image_metrics[\"labels\"]\n",
    "    image_subgroups = subgrouping(image_data, fields)\n",
    "    image_subgroup_metrics = computing_subgroup_metrics(\n",
    "        image_preds, image_labels, image_subgroups\n",
    "    )\n",
    "    pprint(sorted(image_subgroup_metrics.items(), key=lambda x: x[1]))\n",
    "    print(np.mean(list(image_subgroup_metrics.values())))\n",
    "    print()"
   ]
  },
  {
   "cell_type": "code",
   "execution_count": null,
   "metadata": {},
   "outputs": [],
   "source": []
  }
 ],
 "metadata": {
  "kernelspec": {
   "display_name": "Python 3 (ipykernel)",
   "language": "python",
   "name": "python3"
  },
  "language_info": {
   "codemirror_mode": {
    "name": "ipython",
    "version": 3
   },
   "file_extension": ".py",
   "mimetype": "text/x-python",
   "name": "python",
   "nbconvert_exporter": "python",
   "pygments_lexer": "ipython3",
   "version": "3.8.12"
  },
  "orig_nbformat": 4,
  "vscode": {
   "interpreter": {
    "hash": "bf49421d02fb18daac2fe024769d7389ca36bccb970e26253e571efb021ca22f"
   }
  }
 },
 "nbformat": 4,
 "nbformat_minor": 2
}
