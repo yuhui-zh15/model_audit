{
 "cells": [
  {
   "cell_type": "code",
   "execution_count": 1,
   "metadata": {},
   "outputs": [
    {
     "data": {
      "text/plain": [
       "<All keys matched successfully>"
      ]
     },
     "execution_count": 1,
     "metadata": {},
     "output_type": "execute_result"
    }
   ],
   "source": [
    "import sys\n",
    "\n",
    "sys.path.append(\"/pastuer/u/yuhuiz/develop/mmdebug\")\n",
    "\n",
    "import itertools\n",
    "import json\n",
    "from pprint import pprint\n",
    "from typing import List\n",
    "\n",
    "import clip  # type: ignore\n",
    "import torch\n",
    "import torch.nn.functional as F\n",
    "import numpy as np\n",
    "from scipy.stats import spearmanr, pearsonr\n",
    "\n",
    "from datasets import AttributeDataset, ImageDataset, TextDataset, create_dataloader\n",
    "from models import Linear\n",
    "from trainer import run_one_epoch\n",
    "from utils import computing_subgroup_metrics, subgrouping\n",
    "from matplotlib import pyplot as plt\n",
    "from utils import openai_imagenet_template, openai_imagenet_classes\n",
    "from collections import defaultdict\n",
    "\n",
    "\n",
    "CLIP_MODEL = \"ViT-B/32\"\n",
    "LINEAR_MODEL = \"fairface_linear_model.pt\"\n",
    "N_CLASS = 2\n",
    "clip_model, transform = clip.load(name=CLIP_MODEL, device=\"cuda\")\n",
    "clip_model = clip_model.float()\n",
    "model = Linear(clip_model.visual.output_dim, N_CLASS).cuda()\n",
    "state_dict = torch.load(LINEAR_MODEL)\n",
    "model.load_state_dict(state_dict)"
   ]
  },
  {
   "cell_type": "markdown",
   "metadata": {},
   "source": [
    "# Slice Analysis"
   ]
  },
  {
   "cell_type": "markdown",
   "metadata": {},
   "source": [
    "## [Preparation] Ground-truth image dataset and text cross-product performance"
   ]
  },
  {
   "cell_type": "code",
   "execution_count": 2,
   "metadata": {},
   "outputs": [
    {
     "name": "stderr",
     "output_type": "stream",
     "text": [
      "Epoch -1, Eval True: 100%|███████████████████████████████████████████████████████████████████████████████| 343/343 [00:14<00:00, 23.60it/s]\n",
      "Epoch -1, Eval True: 100%|███████████████████████████████████████████████████████████████████████████████| 315/315 [00:09<00:00, 33.64it/s]\n"
     ]
    }
   ],
   "source": [
    "image_data = [\n",
    "    json.loads(line)\n",
    "    for line in open(\n",
    "        \"/pasteur/u/yuhuiz/data/FairFace/processed_attribute_dataset/attributes.jsonl\"\n",
    "    )\n",
    "]\n",
    "\n",
    "\n",
    "def filter_fn(x):\n",
    "    return x[\"attributes\"][\"split\"] == \"val\"\n",
    "\n",
    "\n",
    "image_data = [x for x in image_data if filter_fn(x)]\n",
    "\n",
    "\n",
    "def label_fn(x):\n",
    "    return 1 if x[\"attributes\"][\"gender\"] == \"Female\" else 0\n",
    "\n",
    "\n",
    "for item in image_data:\n",
    "    item[\"label\"] = label_fn(item)\n",
    "\n",
    "image_dataset = ImageDataset(data=image_data)\n",
    "image_dataloader = create_dataloader(\n",
    "    dataset=image_dataset, modality=\"image\", transform=transform\n",
    ")\n",
    "image_metrics = run_one_epoch(\n",
    "    dataloader=image_dataloader,\n",
    "    model=model,\n",
    "    clip_model=clip_model,\n",
    "    modality=\"image\",\n",
    "    opt=None,\n",
    "    epoch_idx=-1,\n",
    "    eval=True,\n",
    "    verbose=True,\n",
    ")\n",
    "\n",
    "# Dataset attributes\n",
    "attributes = {\n",
    "    \"age\": set([x[\"attributes\"][\"age\"] for x in image_data]),\n",
    "    \"race\": set([x[\"attributes\"][\"race\"] for x in image_data]),\n",
    "    \"gender\": set([x[\"attributes\"][\"gender\"] for x in image_data]),\n",
    "}\n",
    "attributes_combinations = [\n",
    "    dict(zip(attributes, x)) for x in itertools.product(*attributes.values())\n",
    "]\n",
    "age_description = {\n",
    "    \"0-2\": [\"infant boy\", \"infant girl\"],\n",
    "    \"3-9\": [\"little boy\", \"little girl\"],\n",
    "    \"10-19\": [\"teenage boy\", \"teenage girl\"],\n",
    "    \"20-29\": [\"young man\", \"young woman\"],\n",
    "    \"30-39\": [\"adult man\", \"adult woman\"],\n",
    "    \"40-49\": [\"middle-aged man\", \"middle-aged woman\"],\n",
    "    \"50-59\": [\"senior man\", \"senior woman\"],\n",
    "    \"60-69\": [\"elderly man\", \"elderly woman\"],\n",
    "    \"more than 70\": [\"very old man\", \"very old woman\"],\n",
    "}\n",
    "gender_to_idx = {\n",
    "    \"Male\": 0,\n",
    "    \"Female\": 1,\n",
    "}\n",
    "\n",
    "################################ Raw ################################\n",
    "# text_data = [\n",
    "#     {\n",
    "#         \"text\": f\"{x['age']}, {x['race']}, {x['gender']}.\".lower().replace(\"_\", \" \"),\n",
    "#         \"label\": 1 if x[\"gender\"] == \"Female\" else 0,\n",
    "#         \"attributes\": {\n",
    "#             \"age\": x[\"age\"],\n",
    "#             \"race\": x[\"race\"],\n",
    "#             \"gender\": x[\"gender\"]\n",
    "#         },\n",
    "#     }\n",
    "#     for x in attributes_combinations\n",
    "# ]\n",
    "\n",
    "################################ Prompt Engineering ################################\n",
    "# text_data = [\n",
    "#     {\n",
    "#         \"text\": f\"a face of a {x['race']} {age_description[x['age']][gender_to_idx[x['gender']]]}.\".lower().replace(\"_\", \" \"),\n",
    "#         \"label\": 1 if x[\"gender\"] == \"Female\" else 0,\n",
    "#         \"attributes\": {\n",
    "#             \"age\": x[\"age\"],\n",
    "#             \"race\": x[\"race\"],\n",
    "#             \"gender\": x[\"gender\"]\n",
    "#         },\n",
    "#     }\n",
    "#     for x in attributes_combinations\n",
    "# ]\n",
    "\n",
    "################################ Prompt Ensemble ################################\n",
    "text_data = [\n",
    "    {\n",
    "        \"text\": prompt(\n",
    "            f\"face of a {x['race']} {age_description[x['age']][gender_to_idx[x['gender']]]}\"\n",
    "        )\n",
    "        .lower()\n",
    "        .replace(\"_\", \" \"),\n",
    "        \"label\": 1 if x[\"gender\"] == \"Female\" else 0,\n",
    "        \"attributes\": {\"age\": x[\"age\"], \"race\": x[\"race\"], \"gender\": x[\"gender\"]},\n",
    "    }\n",
    "    for x in attributes_combinations\n",
    "    for prompt in openai_imagenet_template\n",
    "]\n",
    "\n",
    "# TODO: select one from above\n",
    "\n",
    "text_dataset = TextDataset(data=text_data)\n",
    "text_dataloader = create_dataloader(dataset=text_dataset, modality=\"text\")\n",
    "text_metrics = run_one_epoch(\n",
    "    dataloader=text_dataloader,\n",
    "    model=model,\n",
    "    clip_model=clip_model,\n",
    "    modality=\"text\",\n",
    "    opt=None,\n",
    "    epoch_idx=-1,\n",
    "    eval=True,\n",
    "    verbose=True,\n",
    ")"
   ]
  },
  {
   "cell_type": "markdown",
   "metadata": {},
   "source": [
    "## Larger slice discovery"
   ]
  },
  {
   "cell_type": "code",
   "execution_count": 3,
   "metadata": {},
   "outputs": [
    {
     "name": "stdout",
     "output_type": "stream",
     "text": [
      "[((('race', 'Black'),), 0.8997429305912596),\n",
      " ((('race', 'Southeast Asian'),), 0.9342756183745583),\n",
      " ((('race', 'East Asian'),), 0.9419354838709677),\n",
      " ((('race', 'Indian'),), 0.9445910290237467),\n",
      " ((('race', 'Latino_Hispanic'),), 0.9537892791127541),\n",
      " ((('race', 'White'),), 0.9597122302158273),\n",
      " ((('race', 'Middle Eastern'),), 0.967741935483871)]\n",
      "\n",
      "[((('race', 'East Asian'),), 0.9916666666666667),\n",
      " ((('race', 'Indian'),), 0.99375),\n",
      " ((('race', 'Black'),), 0.9958333333333333),\n",
      " ((('race', 'White'),), 0.9965277777777778),\n",
      " ((('race', 'Southeast Asian'),), 0.9972222222222222),\n",
      " ((('race', 'Latino_Hispanic'),), 0.9979166666666667),\n",
      " ((('race', 'Middle Eastern'),), 0.9979166666666667)]\n",
      "\n",
      "[((('race', 'Black'),), 0.9133973119883901),\n",
      " ((('race', 'Indian'),), 0.926761427645882),\n",
      " ((('race', 'East Asian'),), 0.9277101089350052),\n",
      " ((('race', 'Southeast Asian'),), 0.9332894913024372),\n",
      " ((('race', 'White'),), 0.9427251905616787),\n",
      " ((('race', 'Latino_Hispanic'),), 0.9463455664614836),\n",
      " ((('race', 'Middle Eastern'),), 0.952625602670014)]\n",
      "\n"
     ]
    }
   ],
   "source": [
    "fields = [\"race\"]\n",
    "\n",
    "image_preds, image_labels = image_metrics[\"preds\"], image_metrics[\"labels\"]\n",
    "image_subgroups = subgrouping(image_data, fields)\n",
    "image_subgroup_metrics = computing_subgroup_metrics(\n",
    "    image_preds, image_labels, image_subgroups\n",
    ")\n",
    "pprint(sorted(image_subgroup_metrics.items(), key=lambda x: x[1]))\n",
    "print()\n",
    "\n",
    "text_preds, text_labels = text_metrics[\"preds\"], text_metrics[\"labels\"]\n",
    "text_subgroups = subgrouping(text_data, fields)\n",
    "text_subgroup_metrics = computing_subgroup_metrics(\n",
    "    text_preds, text_labels, text_subgroups\n",
    ")\n",
    "pprint(sorted(text_subgroup_metrics.items(), key=lambda x: x[1]))\n",
    "print()\n",
    "\n",
    "text_logits = text_metrics[\"logits\"]\n",
    "text_probs = torch.softmax(torch.tensor(text_logits), dim=1).numpy().tolist()\n",
    "text_subgroup_probs = defaultdict(list)\n",
    "for i, x in enumerate(text_data):\n",
    "    key = ((\"race\", x[\"attributes\"][\"race\"]),)\n",
    "    value = text_probs[i][x[\"label\"]]\n",
    "    text_subgroup_probs[key].append(value)\n",
    "text_subgroup_probs = {k: float(np.mean(v)) for k, v in text_subgroup_probs.items()}\n",
    "pprint(sorted(text_subgroup_probs.items(), key=lambda x: x[1]))\n",
    "print()"
   ]
  },
  {
   "cell_type": "markdown",
   "metadata": {},
   "source": [
    "## Atomic slice correlation"
   ]
  },
  {
   "cell_type": "code",
   "execution_count": 4,
   "metadata": {},
   "outputs": [],
   "source": [
    "def compute_correlation(data1_list: List, data2_list: List) -> None:\n",
    "    assert len(data1_list) == len(data2_list)\n",
    "    data1 = np.array(data1_list)\n",
    "    data2 = np.array(data2_list)\n",
    "    spearmanr_corr, spearmanr_pval = spearmanr(data1, data2)\n",
    "    pearsonr_corr, pearsonr_pval = pearsonr(data1, data2)\n",
    "    print(f\"Spearman correlation: {spearmanr_corr:.4f} (p-value: {spearmanr_pval:.4f})\")\n",
    "    print(f\"Pearson correlation: {pearsonr_corr:.4f} (p-value: {pearsonr_pval:.4f})\")\n",
    "    plt.figure()\n",
    "    plt.scatter(data1, data2, alpha=0.3, s=10)\n",
    "    plt.show()"
   ]
  },
  {
   "cell_type": "code",
   "execution_count": 5,
   "metadata": {},
   "outputs": [
    {
     "name": "stdout",
     "output_type": "stream",
     "text": [
      "[((('age', '0-2'), ('race', 'Black'), ('gender', 'Female')),\n",
      "  0.3333333333333333),\n",
      " ((('age', '0-2'), ('race', 'Southeast Asian'), ('gender', 'Female')), 0.6),\n",
      " ((('age', '3-9'), ('race', 'Black'), ('gender', 'Female')),\n",
      "  0.6601941747572816)]\n",
      "\n",
      "[((('age', 'more than 70'), ('race', 'East Asian'), ('gender', 'Male')), 0.95),\n",
      " ((('age', 'more than 70'), ('race', 'Indian'), ('gender', 'Male')), 0.95),\n",
      " ((('age', '0-2'), ('race', 'Black'), ('gender', 'Female')), 0.975)]\n",
      "\n",
      "[((('age', '3-9'), ('race', 'Black'), ('gender', 'Female')),\n",
      "  0.6850505130365491),\n",
      " ((('age', '0-2'), ('race', 'Southeast Asian'), ('gender', 'Female')),\n",
      "  0.7269403524696827),\n",
      " ((('age', '0-2'), ('race', 'Black'), ('gender', 'Female')),\n",
      "  0.7347903911024332)]\n",
      "\n",
      "Spearman correlation: 0.3548 (p-value: 0.0000)\n",
      "Pearson correlation: 0.4141 (p-value: 0.0000)\n"
     ]
    },
    {
     "data": {
      "image/png": "[encoded data removed]",
      "text/plain": [
       "<Figure size 432x288 with 1 Axes>"
      ]
     },
     "metadata": {
      "needs_background": "light"
     },
     "output_type": "display_data"
    },
    {
     "name": "stdout",
     "output_type": "stream",
     "text": [
      "Spearman correlation: 0.5614 (p-value: 0.0000)\n",
      "Pearson correlation: 0.7227 (p-value: 0.0000)\n"
     ]
    },
    {
     "data": {
      "image/png": "[encoded data removed]",
      "text/plain": [
       "<Figure size 432x288 with 1 Axes>"
      ]
     },
     "metadata": {
      "needs_background": "light"
     },
     "output_type": "display_data"
    }
   ],
   "source": [
    "fields = [\"age\", \"race\", \"gender\"]\n",
    "\n",
    "image_preds, image_labels = image_metrics[\"preds\"], image_metrics[\"labels\"]\n",
    "image_subgroups = subgrouping(image_data, fields)\n",
    "image_subgroup_metrics = computing_subgroup_metrics(\n",
    "    image_preds, image_labels, image_subgroups\n",
    ")\n",
    "pprint(sorted(image_subgroup_metrics.items(), key=lambda x: x[1])[:3])\n",
    "print()\n",
    "\n",
    "text_preds, text_labels = text_metrics[\"preds\"], text_metrics[\"labels\"]\n",
    "text_subgroups = subgrouping(text_data, fields)\n",
    "text_subgroup_metrics = computing_subgroup_metrics(\n",
    "    text_preds, text_labels, text_subgroups\n",
    ")\n",
    "pprint(sorted(text_subgroup_metrics.items(), key=lambda x: x[1])[:3])\n",
    "print()\n",
    "\n",
    "text_logits = text_metrics[\"logits\"]\n",
    "text_probs = torch.softmax(torch.tensor(text_logits), dim=1).numpy().tolist()\n",
    "text_subgroup_probs = defaultdict(list)\n",
    "for i, x in enumerate(text_data):\n",
    "    key = (\n",
    "        (\"age\", x[\"attributes\"][\"age\"]),\n",
    "        (\"race\", x[\"attributes\"][\"race\"]),\n",
    "        (\"gender\", x[\"attributes\"][\"gender\"]),\n",
    "    )\n",
    "    value = text_probs[i][x[\"label\"]]\n",
    "    text_subgroup_probs[key].append(value)\n",
    "text_subgroup_probs = {k: float(np.mean(v)) for k, v in text_subgroup_probs.items()}\n",
    "pprint(sorted(text_subgroup_probs.items(), key=lambda x: x[1])[:3])\n",
    "print()\n",
    "\n",
    "compute_correlation(\n",
    "    [text_subgroup_metrics[x] for x in image_subgroup_metrics],\n",
    "    [image_subgroup_metrics[x] for x in image_subgroup_metrics],\n",
    ")\n",
    "compute_correlation(\n",
    "    [text_subgroup_probs[x] for x in image_subgroup_metrics],\n",
    "    [image_subgroup_metrics[x] for x in image_subgroup_metrics],\n",
    ")"
   ]
  },
  {
   "cell_type": "markdown",
   "metadata": {},
   "source": [
    "## Image Correlation Analysis"
   ]
  },
  {
   "cell_type": "code",
   "execution_count": 16,
   "metadata": {},
   "outputs": [
    {
     "name": "stderr",
     "output_type": "stream",
     "text": [
      "Epoch -1, Eval True: 100%|█████████████████████████████████████████████████████████████████████████████████| 79/79 [00:09<00:00,  8.07it/s]"
     ]
    },
    {
     "name": "stdout",
     "output_type": "stream",
     "text": [
      "[((('age', '0-2'), ('race', 'Black'), ('gender', 'Female')), 0.0),\n",
      " ((('age', '0-2'), ('race', 'Middle Eastern'), ('gender', 'Female')), 0.0),\n",
      " ((('age', '3-9'), ('race', 'Black'), ('gender', 'Male')), 0.0)]\n",
      "\n",
      "[((('age', '20-29'), ('race', 'Middle Eastern'), ('gender', 'Male')),\n",
      "  0.00465531786903739),\n",
      " ((('age', '40-49'), ('race', 'East Asian'), ('gender', 'Female')),\n",
      "  0.0048574176616966724),\n",
      " ((('age', '60-69'), ('race', 'Latino_Hispanic'), ('gender', 'Female')),\n",
      "  0.006033725570887327)]\n",
      "\n",
      "Spearman correlation: 0.0954 (p-value: 0.2879)\n",
      "Pearson correlation: 0.3158 (p-value: 0.0003)\n"
     ]
    },
    {
     "name": "stderr",
     "output_type": "stream",
     "text": [
      "\n"
     ]
    },
    {
     "data": {
      "image/png": "[encoded data removed]",
      "text/plain": [
       "<Figure size 432x288 with 1 Axes>"
      ]
     },
     "metadata": {
      "needs_background": "light"
     },
     "output_type": "display_data"
    },
    {
     "name": "stdout",
     "output_type": "stream",
     "text": [
      "Spearman correlation: -0.0658 (p-value: 0.4643)\n",
      "Pearson correlation: 0.0393 (p-value: 0.6619)\n"
     ]
    },
    {
     "data": {
      "image/png": "[encoded data removed]",
      "text/plain": [
       "<Figure size 432x288 with 1 Axes>"
      ]
     },
     "metadata": {
      "needs_background": "light"
     },
     "output_type": "display_data"
    }
   ],
   "source": [
    "fields = [\"age\", \"race\", \"gender\"]\n",
    "\n",
    "image_generated_data = [\n",
    "    json.loads(line)\n",
    "    for line in open(\n",
    "        \"/pasteur/u/yuhuiz/mars_develop/fairface/fairface_text_data_generated_images.jsonl\"\n",
    "    )\n",
    "]\n",
    "\n",
    "for item in image_generated_data:\n",
    "    item[\"image\"] = item[\"image\"].replace(\n",
    "        \"/sailhome/marshuang80/mars/\", \"/pasteur/u/yuhuiz/mars_develop/\"\n",
    "    )\n",
    "    if item[\"attributes\"][\"race\"] == \"Latino Hispanic\":\n",
    "        item[\"attributes\"][\"race\"] = \"Latino_Hispanic\"\n",
    "\n",
    "\n",
    "def filter_fn(x):\n",
    "    return True\n",
    "\n",
    "\n",
    "image_generated_data = [x for x in image_generated_data if filter_fn(x)]\n",
    "\n",
    "\n",
    "def label_fn(x):\n",
    "    return 1 if x[\"attributes\"][\"gender\"] == \"Female\" else 0\n",
    "\n",
    "\n",
    "for item in image_generated_data:\n",
    "    item[\"label\"] = label_fn(item)\n",
    "\n",
    "image_generated_dataset = ImageDataset(data=image_generated_data)\n",
    "image_generated_dataloader = create_dataloader(\n",
    "    dataset=image_generated_dataset, modality=\"image\", transform=transform\n",
    ")\n",
    "image_generated_metrics = run_one_epoch(\n",
    "    dataloader=image_generated_dataloader,\n",
    "    model=model,\n",
    "    clip_model=clip_model,\n",
    "    modality=\"image\",\n",
    "    opt=None,\n",
    "    epoch_idx=-1,\n",
    "    eval=True,\n",
    "    verbose=True,\n",
    ")\n",
    "image_generated_preds, image_generated_labels = (\n",
    "    image_generated_metrics[\"preds\"],\n",
    "    image_generated_metrics[\"labels\"],\n",
    ")\n",
    "image_generated_subgroups = subgrouping(image_generated_data, fields)\n",
    "image_generated_subgroup_metrics = computing_subgroup_metrics(\n",
    "    image_generated_preds, image_generated_labels, image_generated_subgroups\n",
    ")\n",
    "pprint(sorted(image_generated_subgroup_metrics.items(), key=lambda x: x[1])[:3])\n",
    "print()\n",
    "\n",
    "image_generated_logits = image_generated_metrics[\"logits\"]\n",
    "image_generated_probs = (\n",
    "    torch.softmax(torch.tensor(image_generated_logits), dim=1).numpy().tolist()\n",
    ")\n",
    "image_generated_subgroup_probs = defaultdict(list)\n",
    "for i, x in enumerate(image_generated_data):\n",
    "    key = (\n",
    "        (\"age\", x[\"attributes\"][\"age\"]),\n",
    "        (\"race\", x[\"attributes\"][\"race\"]),\n",
    "        (\"gender\", x[\"attributes\"][\"gender\"]),\n",
    "    )\n",
    "    value = text_probs[i][x[\"label\"]]\n",
    "    image_generated_subgroup_probs[key].append(value)\n",
    "image_generated_subgroup_probs = {\n",
    "    # k: v[0] for k, v in image_generated_subgroup_probs.items()\n",
    "    k: float(np.mean(v))\n",
    "    for k, v in image_generated_subgroup_probs.items()  # 1 image correlation\n",
    "}\n",
    "pprint(sorted(image_generated_subgroup_probs.items(), key=lambda x: x[1])[:3])\n",
    "print()\n",
    "\n",
    "compute_correlation(\n",
    "    [image_generated_subgroup_metrics[x] for x in image_subgroup_metrics],\n",
    "    [image_subgroup_metrics[x] for x in image_subgroup_metrics],\n",
    ")  # Accuracy-Accuracy Correlation\n",
    "compute_correlation(\n",
    "    [image_generated_subgroup_probs[x] for x in image_subgroup_metrics],\n",
    "    [image_subgroup_metrics[x] for x in image_subgroup_metrics],\n",
    ")  # Prob-Accuracy Correlation"
   ]
  },
  {
   "cell_type": "markdown",
   "metadata": {},
   "source": [
    "# Attribute-based Interpretation"
   ]
  },
  {
   "cell_type": "code",
   "execution_count": 6,
   "metadata": {},
   "outputs": [],
   "source": [
    "image_data = [\n",
    "    json.loads(line)\n",
    "    for line in open(\n",
    "        \"/pasteur/u/yuhuiz/data/FairFace/processed_attribute_dataset/attributes.jsonl\"\n",
    "    )\n",
    "]\n",
    "\n",
    "\n",
    "def filter_fn(x):\n",
    "    return x[\"attributes\"][\"split\"] == \"val\"\n",
    "\n",
    "\n",
    "image_data = [x for x in image_data if filter_fn(x)]\n",
    "\n",
    "age_description = {\n",
    "    \"0-2\": \"infant\",\n",
    "    \"3-9\": \"little\",\n",
    "    \"10-19\": \"teenage\",\n",
    "    \"20-29\": \"young\",\n",
    "    \"30-39\": \"adult\",\n",
    "    \"40-49\": \"middle-aged\",\n",
    "    \"50-59\": \"senior\",\n",
    "    \"60-69\": \"elderly\",\n",
    "    \"more than 70\": \"very old\",\n",
    "}\n",
    "\n",
    "attributes = {\n",
    "    \"race\": set(\n",
    "        [x[\"attributes\"][\"race\"].lower().replace(\"_\", \" \") for x in image_data]\n",
    "    ),\n",
    "    \"age\": set([age_description[x[\"attributes\"][\"age\"]] for x in image_data]),\n",
    "}"
   ]
  },
  {
   "cell_type": "markdown",
   "metadata": {},
   "source": [
    "## Direct influence"
   ]
  },
  {
   "cell_type": "code",
   "execution_count": 7,
   "metadata": {},
   "outputs": [
    {
     "name": "stdout",
     "output_type": "stream",
     "text": [
      "If we care about gender (label = female), the most similar attributes are:\n",
      "[('indian', 0.6278384923934937), ('white', 0.6146937608718872), ('southeast asian', 0.4372418522834778), ('east asian', 0.3901500105857849), ('black', 0.37779057025909424), ('middle eastern', 0.3335767984390259), ('latino hispanic', 0.18446621298789978)]\n"
     ]
    }
   ],
   "source": [
    "attribute_list = list(attributes[\"race\"])\n",
    "\n",
    "attribute_embeddings = F.normalize(\n",
    "    clip_model.encode_text(clip.tokenize(attribute_list).cuda())\n",
    ")\n",
    "probs = torch.softmax(model(attribute_embeddings), dim=1)\n",
    "\n",
    "attribute_scores = {\n",
    "    attribute_list[i]: float(probs[i, 1]) for i in range(len(attribute_list))\n",
    "}\n",
    "\n",
    "print(\"If we care about gender (label = female), the most similar attributes are:\")\n",
    "print(sorted(attribute_scores.items(), key=lambda x: x[1], reverse=True)[:10])"
   ]
  },
  {
   "cell_type": "markdown",
   "metadata": {},
   "source": [
    "## Aggregated Influence: Shapley Value s(a) = E_{S subset {F \\ a}} [f(S, a) - f(S)]"
   ]
  },
  {
   "cell_type": "code",
   "execution_count": 10,
   "metadata": {},
   "outputs": [
    {
     "name": "stdout",
     "output_type": "stream",
     "text": [
      "If we care about gender (label = 1 female), the most influential attributes are (reported Shapley value):\n",
      "[('east asian', tensor(0.0266)),\n",
      " ('southeast asian', tensor(0.0119)),\n",
      " ('indian', tensor(0.0116)),\n",
      " ('latino hispanic', tensor(0.0046)),\n",
      " ('white', tensor(0.0040)),\n",
      " ('middle eastern', tensor(3.8449e-05)),\n",
      " ('black', tensor(-0.0327))]\n"
     ]
    }
   ],
   "source": [
    "race_list = list(attributes[\"race\"])\n",
    "age_list = list(attributes[\"age\"])\n",
    "\n",
    "attribute_shapley = {}\n",
    "print(\n",
    "    \"If we care about gender (label = 1 female), the most influential attributes are (reported Shapley value):\"\n",
    ")\n",
    "for race in race_list:\n",
    "    prompts = (\n",
    "        [f\"a face of a {age} man.\" for age in age_list]\n",
    "        + [f\"a face of a {age} woman.\" for age in age_list]\n",
    "        + [f\"a face of a {race} {age} man.\" for age in age_list]\n",
    "        + [f\"a face of a {race} {age} woman.\" for age in age_list]\n",
    "    )\n",
    "    with torch.no_grad():\n",
    "        inputs = clip.tokenize(prompts).cuda()\n",
    "        embeddings = F.normalize(clip_model.encode_text(inputs))\n",
    "        probs = torch.softmax(model(embeddings), dim=1).cpu()\n",
    "\n",
    "    shapley = (probs[len(age_list) * 2 :, 1] - probs[: 2 * len(age_list), 1]).mean()\n",
    "    attribute_shapley[race] = shapley\n",
    "\n",
    "pprint(sorted(attribute_shapley.items(), key=lambda x: x[1], reverse=True)[:10])"
   ]
  },
  {
   "cell_type": "code",
   "execution_count": 9,
   "metadata": {},
   "outputs": [
    {
     "name": "stdout",
     "output_type": "stream",
     "text": [
      "If we care about gender (label = 1 female), the most influential attributes are (reported Shapley value):\n",
      "[('very old', tensor(0.0229)),\n",
      " ('young', tensor(0.0161)),\n",
      " ('senior', tensor(0.0161)),\n",
      " ('teenage', tensor(0.0147)),\n",
      " ('elderly', tensor(0.0117)),\n",
      " ('middle-aged', tensor(0.0079)),\n",
      " ('adult', tensor(0.0068)),\n",
      " ('little', tensor(-0.0079)),\n",
      " ('infant', tensor(-0.0171))]\n"
     ]
    }
   ],
   "source": [
    "race_list = list(attributes[\"race\"])\n",
    "age_list = list(attributes[\"age\"])\n",
    "\n",
    "attribute_shapley = {}\n",
    "print(\n",
    "    \"If we care about gender (label = 1 female), the most influential attributes are (reported Shapley value):\"\n",
    ")\n",
    "for age in age_list:\n",
    "    prompts = (\n",
    "        [f\"a face of a {race} man.\" for race in race_list]\n",
    "        + [f\"a face of a {race} woman.\" for race in race_list]\n",
    "        + [f\"a face of a {race} {age} man.\" for race in race_list]\n",
    "        + [f\"a face of a {race} {age} woman.\" for race in race_list]\n",
    "    )\n",
    "    with torch.no_grad():\n",
    "        inputs = clip.tokenize(prompts).cuda()\n",
    "        embeddings = F.normalize(clip_model.encode_text(inputs))\n",
    "        probs = torch.softmax(model(embeddings), dim=1).cpu()\n",
    "\n",
    "    shapley = (probs[len(race_list) * 2 :, 1] - probs[: 2 * len(race_list), 1]).mean()\n",
    "    attribute_shapley[age] = shapley\n",
    "\n",
    "pprint(sorted(attribute_shapley.items(), key=lambda x: x[1], reverse=True)[:10])"
   ]
  },
  {
   "cell_type": "code",
   "execution_count": null,
   "metadata": {},
   "outputs": [],
   "source": []
  }
 ],
 "metadata": {
  "kernelspec": {
   "display_name": "Python 3 (ipykernel)",
   "language": "python",
   "name": "python3"
  },
  "language_info": {
   "codemirror_mode": {
    "name": "ipython",
    "version": 3
   },
   "file_extension": ".py",
   "mimetype": "text/x-python",
   "name": "python",
   "nbconvert_exporter": "python",
   "pygments_lexer": "ipython3",
   "version": "3.8.12"
  },
  "orig_nbformat": 4,
  "vscode": {
   "interpreter": {
    "hash": "bf49421d02fb18daac2fe024769d7389ca36bccb970e26253e571efb021ca22f"
   }
  }
 },
 "nbformat": 4,
 "nbformat_minor": 2
}
