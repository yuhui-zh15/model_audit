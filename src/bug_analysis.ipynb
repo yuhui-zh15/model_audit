{
 "cells": [
  {
   "cell_type": "code",
   "execution_count": 1,
   "metadata": {},
   "outputs": [
    {
     "data": {
      "text/plain": [
       "<All keys matched successfully>"
      ]
     },
     "execution_count": 1,
     "metadata": {},
     "output_type": "execute_result"
    }
   ],
   "source": [
    "import itertools\n",
    "import json\n",
    "from pprint import pprint\n",
    "from typing import List\n",
    "\n",
    "import clip  # type: ignore\n",
    "import torch\n",
    "import torch.nn.functional as F\n",
    "import numpy as np\n",
    "from scipy.stats import spearmanr, pearsonr\n",
    "\n",
    "from datasets import AttributeDataset, ImageDataset, TextDataset, create_dataloader\n",
    "from models import Linear\n",
    "from trainer import run_one_epoch\n",
    "from utils import computing_subgroup_metrics, subgrouping\n",
    "from matplotlib import pyplot as plt\n",
    "from utils import openai_imagenet_template, openai_imagenet_classes\n",
    "from collections import defaultdict\n",
    "\n",
    "\n",
    "CLIP_MODEL = \"ViT-B/32\"\n",
    "LINEAR_MODEL = \"waterbird_linear_model.pt\"\n",
    "N_CLASS = 2\n",
    "clip_model, transform = clip.load(name=CLIP_MODEL, device=\"cuda\")\n",
    "clip_model = clip_model.float()\n",
    "model = Linear(clip_model.visual.output_dim, N_CLASS).cuda()\n",
    "state_dict = torch.load(LINEAR_MODEL)\n",
    "model.load_state_dict(state_dict)"
   ]
  },
  {
   "cell_type": "markdown",
   "metadata": {},
   "source": [
    "# Slice Analysis"
   ]
  },
  {
   "cell_type": "markdown",
   "metadata": {},
   "source": [
    "## [Preparation] Ground-truth image dataset and text cross-product performance"
   ]
  },
  {
   "cell_type": "code",
   "execution_count": 2,
   "metadata": {},
   "outputs": [
    {
     "name": "stderr",
     "output_type": "stream",
     "text": [
      "Epoch -1, Eval True: 100%|████████████████████████████████████████████████████████████████████████████████████████████████████████████████████████████████████████████████████████████| 38/38 [00:02<00:00, 15.08it/s]\n",
      "Epoch -1, Eval True: 100%|████████████████████████████████████████████████████████████████████████████████████████████████████████████████████████████████████████████████████████| 2000/2000 [00:54<00:00, 36.43it/s]\n"
     ]
    }
   ],
   "source": [
    "image_data = [\n",
    "    json.loads(line)\n",
    "    for line in open(\n",
    "        \"/pasteur/u/yuhuiz/data/Waterbird/processed_attribute_dataset/attributes.jsonl\"\n",
    "    )\n",
    "]\n",
    "\n",
    "\n",
    "def filter_fn(x):\n",
    "    return x[\"attributes\"][\"split\"] == \"val\"\n",
    "\n",
    "\n",
    "image_data = [x for x in image_data if filter_fn(x)]\n",
    "\n",
    "\n",
    "def label_fn(x):\n",
    "    return x[\"attributes\"][\"waterbird\"]\n",
    "\n",
    "\n",
    "for item in image_data:\n",
    "    item[\"label\"] = label_fn(item)\n",
    "\n",
    "image_dataset = ImageDataset(data=image_data)\n",
    "image_dataloader = create_dataloader(\n",
    "    dataset=image_dataset, modality=\"image\", transform=transform\n",
    ")\n",
    "image_metrics = run_one_epoch(\n",
    "    dataloader=image_dataloader,\n",
    "    model=model,\n",
    "    clip_model=clip_model,\n",
    "    modality=\"image\",\n",
    "    opt=None,\n",
    "    epoch_idx=-1,\n",
    "    eval=True,\n",
    "    verbose=True,\n",
    ")\n",
    "\n",
    "# Dataset attributes\n",
    "attributes = {\n",
    "    \"place\": set([x[\"attributes\"][\"place\"] for x in image_data]),\n",
    "    \"species\": set([x[\"attributes\"][\"species\"] for x in image_data]),\n",
    "}\n",
    "attributes_combinations = [\n",
    "    dict(zip(attributes, x)) for x in itertools.product(*attributes.values())\n",
    "]\n",
    "species_to_label = {\n",
    "    x[\"attributes\"][\"species\"]: x[\"attributes\"][\"waterbird\"] for x in image_data\n",
    "}\n",
    "places_to_label = {\n",
    "    x[\"attributes\"][\"place\"]: x[\"attributes\"][\"waterplace\"] for x in image_data\n",
    "}\n",
    "\n",
    "################################ Raw ################################\n",
    "# text_data = [\n",
    "#     {\n",
    "#         \"text\": f\"{x['species']}, {x['place']}.\",\n",
    "#         \"label\": species_to_label[x[\"species\"]],\n",
    "#         \"attributes\": {\n",
    "#             \"waterbird\": species_to_label[x[\"species\"]],\n",
    "#             \"waterplace\": places_to_label[x[\"place\"]],\n",
    "#             \"species\": x[\"species\"],\n",
    "#             \"place\": x[\"place\"],\n",
    "#         },\n",
    "#     }\n",
    "#     for x in attributes_combinations\n",
    "# ]\n",
    "\n",
    "################################ Prompt Engineering ################################\n",
    "# text_data = [\n",
    "#     {\n",
    "#         \"text\": f\"a photo of a {x['species']} in the {x['place']}.\",\n",
    "#         \"label\": species_to_label[x[\"species\"]],\n",
    "#         \"attributes\": {\n",
    "#             \"waterbird\": species_to_label[x[\"species\"]],\n",
    "#             \"waterplace\": places_to_label[x[\"place\"]],\n",
    "#             \"species\": x[\"species\"],\n",
    "#             \"place\": x[\"place\"],\n",
    "#         },\n",
    "#     }\n",
    "#     for x in attributes_combinations\n",
    "# ]\n",
    "\n",
    "################################ Prompt Ensemble ################################\n",
    "text_data = [\n",
    "    {\n",
    "        \"text\": prompt(f\"{x['species']} in the {x['place']}\"),\n",
    "        \"label\": species_to_label[x[\"species\"]],\n",
    "        \"attributes\": {\n",
    "            \"waterbird\": species_to_label[x[\"species\"]],\n",
    "            \"waterplace\": places_to_label[x[\"place\"]],\n",
    "            \"species\": x[\"species\"],\n",
    "            \"place\": x[\"place\"],\n",
    "        },\n",
    "    }\n",
    "    for x in attributes_combinations\n",
    "    for prompt in openai_imagenet_template\n",
    "]\n",
    "\n",
    "# TODO: select one from above\n",
    "\n",
    "text_dataset = TextDataset(data=text_data)\n",
    "text_dataloader = create_dataloader(dataset=text_dataset, modality=\"text\")\n",
    "text_metrics = run_one_epoch(\n",
    "    dataloader=text_dataloader,\n",
    "    model=model,\n",
    "    clip_model=clip_model,\n",
    "    modality=\"text\",\n",
    "    opt=None,\n",
    "    epoch_idx=-1,\n",
    "    eval=True,\n",
    "    verbose=True,\n",
    ")"
   ]
  },
  {
   "cell_type": "markdown",
   "metadata": {},
   "source": [
    "## Larger slice discovery"
   ]
  },
  {
   "cell_type": "code",
   "execution_count": 3,
   "metadata": {},
   "outputs": [
    {
     "name": "stdout",
     "output_type": "stream",
     "text": [
      "[((('waterbird', 1), ('waterplace', 0)), 0.49624060150375937),\n",
      " ((('waterbird', 0), ('waterplace', 1)), 0.6459227467811158),\n",
      " ((('waterbird', 1), ('waterplace', 1)), 0.9473684210526315),\n",
      " ((('waterbird', 0), ('waterplace', 0)), 0.9957173447537473)]\n",
      "\n",
      "[((('waterbird', 1), ('waterplace', 0)), 0.38967391304347826),\n",
      " ((('waterbird', 0), ('waterplace', 1)), 0.7395292207792208),\n",
      " ((('waterbird', 1), ('waterplace', 1)), 0.9601902173913044),\n",
      " ((('waterbird', 0), ('waterplace', 0)), 1.0)]\n",
      "\n"
     ]
    }
   ],
   "source": [
    "fields = [\"waterbird\", \"waterplace\"]\n",
    "\n",
    "image_preds, image_labels = image_metrics[\"preds\"], image_metrics[\"labels\"]\n",
    "image_subgroups = subgrouping(image_data, fields)\n",
    "image_subgroup_metrics = computing_subgroup_metrics(\n",
    "    image_preds, image_labels, image_subgroups\n",
    ")\n",
    "pprint(sorted(image_subgroup_metrics.items(), key=lambda x: x[1]))\n",
    "print()\n",
    "\n",
    "text_preds, text_labels = text_metrics[\"preds\"], text_metrics[\"labels\"]\n",
    "text_subgroups = subgrouping(text_data, fields)\n",
    "text_subgroup_metrics = computing_subgroup_metrics(\n",
    "    text_preds, text_labels, text_subgroups\n",
    ")\n",
    "pprint(sorted(text_subgroup_metrics.items(), key=lambda x: x[1]))\n",
    "print()"
   ]
  },
  {
   "cell_type": "markdown",
   "metadata": {},
   "source": [
    "## Atomic slice correlation"
   ]
  },
  {
   "cell_type": "code",
   "execution_count": 4,
   "metadata": {},
   "outputs": [],
   "source": [
    "def compute_correlation(data1_list: List, data2_list: List) -> None:\n",
    "    assert len(data1_list) == len(data2_list)\n",
    "    data1 = np.array(data1_list)\n",
    "    data2 = np.array(data2_list)\n",
    "    spearmanr_corr, spearmanr_pval = spearmanr(data1, data2)\n",
    "    pearsonr_corr, pearsonr_pval = pearsonr(data1, data2)\n",
    "    print(f\"Spearman correlation: {spearmanr_corr:.4f} (p-value: {spearmanr_pval:.4f})\")\n",
    "    print(f\"Pearson correlation: {pearsonr_corr:.4f} (p-value: {pearsonr_pval:.4f})\")\n",
    "    plt.figure()\n",
    "    plt.scatter(data1, data2, alpha=0.3, s=10)\n",
    "    plt.show()"
   ]
  },
  {
   "cell_type": "code",
   "execution_count": 5,
   "metadata": {},
   "outputs": [
    {
     "name": "stdout",
     "output_type": "stream",
     "text": [
      "[((('species', 'American Crow'), ('place', 'lake natural')), 0.0),\n",
      " ((('species', 'American Crow'), ('place', 'ocean')), 0.0),\n",
      " ((('species', 'American Redstart'), ('place', 'ocean')), 0.0)]\n",
      "\n",
      "[((('species', 'American Crow'), ('place', 'ocean')), 0.0),\n",
      " ((('species', 'Baltimore Oriole'), ('place', 'ocean')), 0.0),\n",
      " ((('species', 'Belted Kingfisher'), ('place', 'lake natural')), 0.0)]\n",
      "\n",
      "[((('species', 'Western Wood Pewee'), ('place', 'bamboo forest')),\n",
      "  0.0031716938727186063),\n",
      " ((('species', 'Western Wood Pewee'), ('place', 'forest broadleaf')),\n",
      "  0.0032063519895018542),\n",
      " ((('species', 'Eastern Towhee'), ('place', 'bamboo forest')),\n",
      "  0.010085816623177379)]\n",
      "\n",
      "Spearman correlation: 0.6393 (p-value: 0.0000)\n",
      "Pearson correlation: 0.5838 (p-value: 0.0000)\n"
     ]
    },
    {
     "data": {
      "image/png": "[encoded data removed]",
      "text/plain": [
       "<Figure size 432x288 with 1 Axes>"
      ]
     },
     "metadata": {
      "needs_background": "light"
     },
     "output_type": "display_data"
    },
    {
     "name": "stdout",
     "output_type": "stream",
     "text": [
      "Spearman correlation: 0.6262 (p-value: 0.0000)\n",
      "Pearson correlation: 0.6486 (p-value: 0.0000)\n"
     ]
    },
    {
     "data": {
      "image/png": "[encoded data removed]",
      "text/plain": [
       "<Figure size 432x288 with 1 Axes>"
      ]
     },
     "metadata": {
      "needs_background": "light"
     },
     "output_type": "display_data"
    }
   ],
   "source": [
    "fields = [\"species\", \"place\"]\n",
    "\n",
    "image_preds, image_labels = image_metrics[\"preds\"], image_metrics[\"labels\"]\n",
    "image_subgroups = subgrouping(image_data, fields)\n",
    "image_subgroup_metrics = computing_subgroup_metrics(\n",
    "    image_preds, image_labels, image_subgroups\n",
    ")\n",
    "pprint(sorted(image_subgroup_metrics.items(), key=lambda x: x[1])[:3])\n",
    "print()\n",
    "\n",
    "text_preds, text_labels = text_metrics[\"preds\"], text_metrics[\"labels\"]\n",
    "text_subgroups = subgrouping(text_data, fields)\n",
    "text_subgroup_metrics = computing_subgroup_metrics(\n",
    "    text_preds, text_labels, text_subgroups\n",
    ")\n",
    "pprint(sorted(text_subgroup_metrics.items(), key=lambda x: x[1])[:3])\n",
    "print()\n",
    "\n",
    "text_logits = text_metrics[\"logits\"]\n",
    "text_probs = torch.softmax(torch.tensor(text_logits), dim=1).numpy().tolist()\n",
    "text_subgroup_probs = defaultdict(list)\n",
    "for i, x in enumerate(text_data):\n",
    "    key = ((\"species\", x[\"attributes\"][\"species\"]), (\"place\", x[\"attributes\"][\"place\"]))\n",
    "    value = text_probs[i][x[\"attributes\"][\"waterbird\"]]\n",
    "    text_subgroup_probs[key].append(value)\n",
    "text_subgroup_probs = {k: float(np.mean(v)) for k, v in text_subgroup_probs.items()}\n",
    "pprint(sorted(text_subgroup_probs.items(), key=lambda x: x[1])[:3])\n",
    "print()\n",
    "\n",
    "compute_correlation(\n",
    "    [text_subgroup_metrics[x] for x in image_subgroup_metrics],\n",
    "    [image_subgroup_metrics[x] for x in image_subgroup_metrics],\n",
    ")\n",
    "compute_correlation(\n",
    "    [text_subgroup_probs[x] for x in image_subgroup_metrics],\n",
    "    [image_subgroup_metrics[x] for x in image_subgroup_metrics],\n",
    ")"
   ]
  },
  {
   "cell_type": "markdown",
   "metadata": {},
   "source": [
    "## Image Correlation Analysis"
   ]
  },
  {
   "cell_type": "code",
   "execution_count": 6,
   "metadata": {},
   "outputs": [
    {
     "name": "stderr",
     "output_type": "stream",
     "text": [
      "Epoch -1, Eval True: 100%|██████████████████████████████████████████████████████████████████████████████████████████████████████████████████████████████████████████████████████████| 500/500 [00:53<00:00,  9.37it/s]\n"
     ]
    },
    {
     "name": "stdout",
     "output_type": "stream",
     "text": [
      "[((('species', 'American Crow'), ('place', 'ocean')), 0.0),\n",
      " ((('species', 'American Redstart'), ('place', 'ocean')), 0.0),\n",
      " ((('species', 'Anna Hummingbird'), ('place', 'ocean')), 0.0)]\n",
      "\n",
      "[((('species', 'Parakeet Auklet'), ('place', 'forest broadleaf')),\n",
      "  0.0008562970906496048),\n",
      " ((('species', 'Frigatebird'), ('place', 'forest broadleaf')),\n",
      "  0.001073575229384005),\n",
      " ((('species', 'Scissor tailed Flycatcher'), ('place', 'ocean')),\n",
      "  0.0012265233090147376)]\n",
      "\n",
      "Spearman correlation: 0.4611 (p-value: 0.0000)\n",
      "Pearson correlation: 0.4559 (p-value: 0.0000)\n"
     ]
    },
    {
     "data": {
      "image/png": "[encoded data removed]",
      "text/plain": [
       "<Figure size 432x288 with 1 Axes>"
      ]
     },
     "metadata": {
      "needs_background": "light"
     },
     "output_type": "display_data"
    },
    {
     "name": "stdout",
     "output_type": "stream",
     "text": [
      "Spearman correlation: 0.5448 (p-value: 0.0000)\n",
      "Pearson correlation: 0.5307 (p-value: 0.0000)\n"
     ]
    },
    {
     "data": {
      "image/png": "[encoded data removed]",
      "text/plain": [
       "<Figure size 432x288 with 1 Axes>"
      ]
     },
     "metadata": {
      "needs_background": "light"
     },
     "output_type": "display_data"
    }
   ],
   "source": [
    "fields = [\"species\", \"place\"]\n",
    "\n",
    "image_generated_data = [\n",
    "    json.loads(line)\n",
    "    for line in open(\n",
    "        \"/pasteur/u/yuhuiz/data/GeneratedWaterBird/waterbird_text_data_generated_images_n=20.jsonl\"\n",
    "    )\n",
    "]\n",
    "\n",
    "\n",
    "def filter_fn(x):\n",
    "    return True\n",
    "\n",
    "\n",
    "image_generated_data = [x for x in image_generated_data if filter_fn(x)]\n",
    "\n",
    "\n",
    "def label_fn(x):\n",
    "    return x[\"attributes\"][\"waterbird\"]\n",
    "\n",
    "\n",
    "for item in image_generated_data:\n",
    "    item[\"label\"] = label_fn(item)\n",
    "\n",
    "image_generated_dataset = ImageDataset(data=image_generated_data)\n",
    "image_generated_dataloader = create_dataloader(\n",
    "    dataset=image_generated_dataset, modality=\"image\", transform=transform\n",
    ")\n",
    "image_generated_metrics = run_one_epoch(\n",
    "    dataloader=image_generated_dataloader,\n",
    "    model=model,\n",
    "    clip_model=clip_model,\n",
    "    modality=\"image\",\n",
    "    opt=None,\n",
    "    epoch_idx=-1,\n",
    "    eval=True,\n",
    "    verbose=True,\n",
    ")\n",
    "image_generated_preds, image_generated_labels = (\n",
    "    image_generated_metrics[\"preds\"],\n",
    "    image_generated_metrics[\"labels\"],\n",
    ")\n",
    "image_generated_subgroups = subgrouping(image_generated_data, fields)\n",
    "image_generated_subgroup_metrics = computing_subgroup_metrics(\n",
    "    image_generated_preds, image_generated_labels, image_generated_subgroups\n",
    ")\n",
    "pprint(sorted(image_generated_subgroup_metrics.items(), key=lambda x: x[1])[:3])\n",
    "print()\n",
    "\n",
    "image_generated_logits = image_generated_metrics[\"logits\"]\n",
    "image_generated_probs = (\n",
    "    torch.softmax(torch.tensor(image_generated_logits), dim=1).numpy().tolist()\n",
    ")\n",
    "image_generated_subgroup_probs = defaultdict(list)\n",
    "for i, x in enumerate(image_generated_data):\n",
    "    key = ((\"species\", x[\"attributes\"][\"species\"]), (\"place\", x[\"attributes\"][\"place\"]))\n",
    "    value = image_generated_probs[i][x[\"attributes\"][\"waterbird\"]]\n",
    "    image_generated_subgroup_probs[key].append(value)\n",
    "image_generated_subgroup_probs = {\n",
    "    k: float(np.mean(v)) for k, v in image_generated_subgroup_probs.items()\n",
    "}\n",
    "pprint(sorted(image_generated_subgroup_probs.items(), key=lambda x: x[1])[:3])\n",
    "print()\n",
    "\n",
    "compute_correlation(\n",
    "    [image_generated_subgroup_metrics[x] for x in image_subgroup_metrics],\n",
    "    [image_subgroup_metrics[x] for x in image_subgroup_metrics],\n",
    ")  # Accuracy-Accuracy Correlation\n",
    "compute_correlation(\n",
    "    [image_generated_subgroup_probs[x] for x in image_subgroup_metrics],\n",
    "    [image_subgroup_metrics[x] for x in image_subgroup_metrics],\n",
    ")  # Prob-Accuracy Correlation"
   ]
  },
  {
   "cell_type": "markdown",
   "metadata": {},
   "source": [
    "# Attribute-based Interpretation"
   ]
  },
  {
   "cell_type": "code",
   "execution_count": 7,
   "metadata": {},
   "outputs": [],
   "source": [
    "image_data = [\n",
    "    json.loads(line)\n",
    "    for line in open(\n",
    "        \"/pasteur/u/yuhuiz/data/Waterbird/processed_attribute_dataset/attributes.jsonl\"\n",
    "    )\n",
    "]\n",
    "\n",
    "\n",
    "def filter_fn(x):\n",
    "    return x[\"attributes\"][\"split\"] == \"val\"\n",
    "\n",
    "\n",
    "image_data = [x for x in image_data if filter_fn(x)]\n",
    "\n",
    "attributes = {\n",
    "    \"place\": set([x[\"attributes\"][\"place\"] for x in image_data]),\n",
    "    \"species\": set([x[\"attributes\"][\"species\"] for x in image_data]),\n",
    "}"
   ]
  },
  {
   "cell_type": "markdown",
   "metadata": {},
   "source": [
    "## Direct influence"
   ]
  },
  {
   "cell_type": "code",
   "execution_count": 8,
   "metadata": {},
   "outputs": [
    {
     "name": "stdout",
     "output_type": "stream",
     "text": [
      "If we care about waterbird (label = 1), the most similar attributes are:\n",
      "[('ocean', 0.5517702102661133), ('lake natural', 0.5469737648963928), ('forest broadleaf', 0.3656281530857086), ('bamboo forest', 0.3377529978752136)]\n"
     ]
    }
   ],
   "source": [
    "attribute_list = list(attributes[\"place\"])\n",
    "\n",
    "attribute_embeddings = F.normalize(\n",
    "    clip_model.encode_text(clip.tokenize(attribute_list).cuda())\n",
    ")\n",
    "probs = torch.softmax(model(attribute_embeddings), dim=1)\n",
    "\n",
    "attribute_scores = {\n",
    "    attribute_list[i]: float(probs[i, 1]) for i in range(len(attribute_list))\n",
    "}\n",
    "\n",
    "print(\"If we care about waterbird (label = 1), the most similar attributes are:\")\n",
    "print(sorted(attribute_scores.items(), key=lambda x: x[1], reverse=True)[:10])"
   ]
  },
  {
   "cell_type": "markdown",
   "metadata": {},
   "source": [
    "## Aggregated Influence: Shapley Value s(a) = E_{S subset {F \\ a}} [f(S, a) - f(S)]"
   ]
  },
  {
   "cell_type": "code",
   "execution_count": 9,
   "metadata": {},
   "outputs": [
    {
     "name": "stdout",
     "output_type": "stream",
     "text": [
      "If we care about waterbird (label = 1), the most influential attributes are (reported Shapley value):\n",
      "[('ocean', tensor(0.1020)),\n",
      " ('lake natural', tensor(0.0381)),\n",
      " ('forest broadleaf', tensor(-0.0877)),\n",
      " ('bamboo forest', tensor(-0.1029))]\n"
     ]
    }
   ],
   "source": [
    "place_list = list(attributes[\"place\"])\n",
    "species_list = list(attributes[\"species\"])\n",
    "\n",
    "attribute_shapley = {}\n",
    "print(\n",
    "    \"If we care about waterbird (label = 1), the most influential attributes are (reported Shapley value):\"\n",
    ")\n",
    "for place in place_list:\n",
    "    prompts = [f\"a photo of a {species}.\" for species in species_list] + [\n",
    "        f\"a photo of a {species} in the {place}.\" for species in species_list\n",
    "    ]\n",
    "    with torch.no_grad():\n",
    "        inputs = clip.tokenize(prompts).cuda()\n",
    "        embeddings = F.normalize(clip_model.encode_text(inputs))\n",
    "        probs = torch.softmax(model(embeddings), dim=1).cpu()\n",
    "\n",
    "    shapley = (probs[len(species_list) :, 1] - probs[: len(species_list), 1]).mean()\n",
    "    attribute_shapley[place] = shapley\n",
    "\n",
    "pprint(sorted(attribute_shapley.items(), key=lambda x: x[1], reverse=True)[:10])"
   ]
  },
  {
   "cell_type": "code",
   "execution_count": 10,
   "metadata": {},
   "outputs": [
    {
     "name": "stdout",
     "output_type": "stream",
     "text": [
      "If we care about waterbird (label = 1), the most influential attributes are (reported Shapley value):\n",
      "[('Glaucous winged Gull', tensor(0.1992)),\n",
      " ('Sooty Albatross', tensor(0.1895)),\n",
      " ('Caspian Tern', tensor(0.1849)),\n",
      " ('Black footed Albatross', tensor(0.1793)),\n",
      " ('California Gull', tensor(0.1644)),\n",
      " ('Laysan Albatross', tensor(0.1617)),\n",
      " ('Ring billed Gull', tensor(0.1616)),\n",
      " ('Slaty backed Gull', tensor(0.1560)),\n",
      " ('Western Grebe', tensor(0.1548)),\n",
      " ('Herring Gull', tensor(0.1537))]\n"
     ]
    }
   ],
   "source": [
    "place_list = list(attributes[\"place\"])\n",
    "species_list = list(attributes[\"species\"])\n",
    "\n",
    "attribute_shapley = {}\n",
    "print(\n",
    "    \"If we care about waterbird (label = 1), the most influential attributes are (reported Shapley value):\"\n",
    ")\n",
    "for species in species_list:\n",
    "    prompts = [f\"a photo of the {place}.\" for place in place_list] + [\n",
    "        f\"a photo of a {species} in the {place}.\" for place in place_list\n",
    "    ]\n",
    "    with torch.no_grad():\n",
    "        inputs = clip.tokenize(prompts).cuda()\n",
    "        embeddings = F.normalize(clip_model.encode_text(inputs))\n",
    "        probs = torch.softmax(model(embeddings), dim=1).cpu()\n",
    "\n",
    "    shapley = (probs[len(place_list) :, 1] - probs[: len(place_list), 1]).mean()\n",
    "    attribute_shapley[species] = shapley\n",
    "\n",
    "pprint(sorted(attribute_shapley.items(), key=lambda x: x[1], reverse=True)[:10])"
   ]
  }
 ],
 "metadata": {
  "kernelspec": {
   "display_name": "Python 3 (ipykernel)",
   "language": "python",
   "name": "python3"
  },
  "language_info": {
   "codemirror_mode": {
    "name": "ipython",
    "version": 3
   },
   "file_extension": ".py",
   "mimetype": "text/x-python",
   "name": "python",
   "nbconvert_exporter": "python",
   "pygments_lexer": "ipython3",
   "version": "3.8.12"
  },
  "orig_nbformat": 4,
  "vscode": {
   "interpreter": {
    "hash": "bf49421d02fb18daac2fe024769d7389ca36bccb970e26253e571efb021ca22f"
   }
  }
 },
 "nbformat": 4,
 "nbformat_minor": 2
}
