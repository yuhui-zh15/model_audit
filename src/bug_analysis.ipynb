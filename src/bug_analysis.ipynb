{
 "cells": [
  {
   "cell_type": "code",
   "execution_count": 4,
   "metadata": {},
   "outputs": [],
   "source": [
    "import itertools\n",
    "import json\n",
    "from pprint import pprint\n",
    "\n",
    "import clip  # type: ignore\n",
    "import torch\n",
    "import torch.nn.functional as F\n",
    "import numpy as np\n",
    "from scipy.stats import spearmanr, pearsonr\n",
    "\n",
    "from datasets import AttributeDataset, ImageDataset, TextDataset, create_dataloader\n",
    "from models import Linear\n",
    "from trainer import run_one_epoch\n",
    "from utils import computing_subgroup_metrics, subgrouping\n",
    "from matplotlib import pyplot as plt\n",
    "from utils import openai_imagenet_template, openai_imagenet_classes\n",
    "from collections import defaultdict\n",
    "\n",
    "\n",
    "CLIP_MODEL = \"ViT-B/32\""
   ]
  },
  {
   "cell_type": "markdown",
   "metadata": {},
   "source": [
    "# Group Performance"
   ]
  },
  {
   "cell_type": "code",
   "execution_count": 2,
   "metadata": {},
   "outputs": [
    {
     "name": "stderr",
     "output_type": "stream",
     "text": [
      "Epoch -1, Eval True: 100%|████████████████████████████████████████████████████████████████████████████████████████████████████████████████████████████████████████████████████████████| 38/38 [00:02<00:00, 15.74it/s]\n"
     ]
    },
    {
     "name": "stdout",
     "output_type": "stream",
     "text": [
      "[((('waterbird', 1), ('waterplace', 0)), 0.49624060150375937),\n",
      " ((('waterbird', 0), ('waterplace', 1)), 0.6459227467811158),\n",
      " ((('waterbird', 1), ('waterplace', 1)), 0.9473684210526315),\n",
      " ((('waterbird', 0), ('waterplace', 0)), 0.9957173447537473)]\n",
      "'\\n'\n"
     ]
    },
    {
     "name": "stderr",
     "output_type": "stream",
     "text": [
      "Epoch -1, Eval True: 100%|████████████████████████████████████████████████████████████████████████████████████████████████████████████████████████████████████████████████████████████| 25/25 [00:00<00:00, 26.37it/s]"
     ]
    },
    {
     "name": "stdout",
     "output_type": "stream",
     "text": [
      "[((('waterbird', 1), ('waterplace', 0)), 0.3695652173913043),\n",
      " ((('waterbird', 0), ('waterplace', 1)), 0.775974025974026),\n",
      " ((('waterbird', 1), ('waterplace', 1)), 0.9565217391304348),\n",
      " ((('waterbird', 0), ('waterplace', 0)), 1.0)]\n",
      "'\\n'\n"
     ]
    },
    {
     "name": "stderr",
     "output_type": "stream",
     "text": [
      "\n"
     ]
    }
   ],
   "source": [
    "clip_model, transform = clip.load(name=CLIP_MODEL, device=\"cuda\")\n",
    "clip_model = clip_model.float()\n",
    "model = Linear(clip_model.visual.output_dim, 2).cuda()\n",
    "state_dict = torch.load(\"waterbird_linear_model.pt\")\n",
    "model.load_state_dict(state_dict)\n",
    "\n",
    "fields = [\"waterbird\", \"waterplace\"]\n",
    "\n",
    "image_data = [\n",
    "    json.loads(line)\n",
    "    for line in open(\n",
    "        \"/pasteur/u/yuhuiz/data/Waterbird/processed_attribute_dataset/attributes.jsonl\"\n",
    "    )\n",
    "]\n",
    "\n",
    "def filter_fn(x):\n",
    "    return x[\"attributes\"][\"split\"] == \"val\"\n",
    "\n",
    "image_data = [x for x in image_data if filter_fn(x)]\n",
    "\n",
    "def label_fn(x):\n",
    "    return x[\"attributes\"][\"waterbird\"]\n",
    "\n",
    "for item in image_data:\n",
    "    item[\"label\"] = label_fn(item)\n",
    "\n",
    "image_dataset = ImageDataset(data=image_data)\n",
    "image_dataloader = create_dataloader(\n",
    "    dataset=image_dataset, modality=\"image\", transform=transform\n",
    ")\n",
    "image_metrics = run_one_epoch(\n",
    "    dataloader=image_dataloader,\n",
    "    model=model,\n",
    "    clip_model=clip_model,\n",
    "    modality=\"image\",\n",
    "    opt=None,\n",
    "    epoch_idx=-1,\n",
    "    eval=True,\n",
    "    verbose=True,\n",
    ")\n",
    "image_preds, image_labels = image_metrics[\"preds\"], image_metrics[\"labels\"]\n",
    "image_subgroups = subgrouping(image_data, fields)\n",
    "image_subgroup_metrics = computing_subgroup_metrics(\n",
    "    image_preds, image_labels, image_subgroups\n",
    ")\n",
    "pprint(sorted(image_subgroup_metrics.items(), key=lambda x: x[1]))\n",
    "pprint(\"\\n\")\n",
    "\n",
    "attributes = {\n",
    "    \"place\": set([x[\"attributes\"][\"place\"] for x in image_data]),\n",
    "    \"species\": set([x[\"attributes\"][\"species\"] for x in image_data]),\n",
    "}\n",
    "attributes_combinations = [\n",
    "    dict(zip(attributes, x)) for x in itertools.product(*attributes.values())\n",
    "]\n",
    "species_to_label = {\n",
    "    x[\"attributes\"][\"species\"]: x[\"attributes\"][\"waterbird\"] for x in image_data\n",
    "}\n",
    "places_to_label = {\n",
    "    x[\"attributes\"][\"place\"]: x[\"attributes\"][\"waterplace\"] for x in image_data\n",
    "}\n",
    "text_data = [\n",
    "    {\n",
    "        \"text\": f\"a photo of a {x['species']} in the {x['place']}.\",\n",
    "        \"label\": species_to_label[x[\"species\"]],\n",
    "        \"attributes\": {\n",
    "            \"waterbird\": species_to_label[x[\"species\"]],\n",
    "            \"waterplace\": places_to_label[x[\"place\"]],\n",
    "            \"species\": x[\"species\"],\n",
    "            \"place\": x[\"place\"],\n",
    "        },\n",
    "    }\n",
    "    for x in attributes_combinations\n",
    "]\n",
    "text_dataset = TextDataset(data=text_data)\n",
    "text_dataloader = create_dataloader(dataset=text_dataset, modality=\"text\")\n",
    "text_metrics = run_one_epoch(\n",
    "    dataloader=text_dataloader,\n",
    "    model=model,\n",
    "    clip_model=clip_model,\n",
    "    modality=\"text\",\n",
    "    opt=None,\n",
    "    epoch_idx=-1,\n",
    "    eval=True,\n",
    "    verbose=True,\n",
    ")\n",
    "text_preds, text_labels = text_metrics[\"preds\"], text_metrics[\"labels\"]\n",
    "text_subgroups = subgrouping(text_data, fields)\n",
    "text_subgroup_metrics = computing_subgroup_metrics(\n",
    "    text_preds, text_labels, text_subgroups\n",
    ")\n",
    "pprint(sorted(text_subgroup_metrics.items(), key=lambda x: x[1]))\n",
    "pprint(\"\\n\")\n"
   ]
  },
  {
   "cell_type": "code",
   "execution_count": 3,
   "metadata": {},
   "outputs": [
    {
     "name": "stderr",
     "output_type": "stream",
     "text": [
      "Epoch -1, Eval True: 100%|████████████████████████████████████████████████████████████████████████████████████████████████████████████████████████████████████████████████████████████| 38/38 [00:02<00:00, 17.28it/s]\n"
     ]
    },
    {
     "name": "stdout",
     "output_type": "stream",
     "text": [
      "[((('species', 'American Crow'), ('place', 'lake natural')), 0.0),\n",
      " ((('species', 'American Crow'), ('place', 'ocean')), 0.0),\n",
      " ((('species', 'American Redstart'), ('place', 'ocean')), 0.0),\n",
      " ((('species', 'American Three toed Woodpecker'), ('place', 'lake natural')),\n",
      "  0.0),\n",
      " ((('species', 'Anna Hummingbird'), ('place', 'ocean')), 0.0),\n",
      " ((('species', 'Bay breasted Warbler'), ('place', 'lake natural')), 0.0),\n",
      " ((('species', 'Bay breasted Warbler'), ('place', 'ocean')), 0.0),\n",
      " ((('species', 'Black Tern'), ('place', 'bamboo forest')), 0.0),\n",
      " ((('species', 'Black Tern'), ('place', 'forest broadleaf')), 0.0),\n",
      " ((('species', 'Black billed Cuckoo'), ('place', 'ocean')), 0.0)]\n",
      "'\\n'\n",
      "{'text': 'a photo of a Evening Grosbeak in the ocean.', 'label': 0, 'attributes': {'waterbird': 0, 'waterplace': 1, 'species': 'Evening Grosbeak', 'place': 'ocean'}}\n"
     ]
    },
    {
     "name": "stderr",
     "output_type": "stream",
     "text": [
      "Epoch -1, Eval True: 100%|████████████████████████████████████████████████████████████████████████████████████████████████████████████████████████████████████████████████████████████| 25/25 [00:00<00:00, 25.97it/s]\n"
     ]
    },
    {
     "name": "stdout",
     "output_type": "stream",
     "text": [
      "[((('species', 'American Crow'), ('place', 'ocean')), 0.0),\n",
      " ((('species', 'American Goldfinch'), ('place', 'ocean')), 0.0),\n",
      " ((('species', 'Anna Hummingbird'), ('place', 'ocean')), 0.0),\n",
      " ((('species', 'Artic Tern'), ('place', 'bamboo forest')), 0.0),\n",
      " ((('species', 'Baltimore Oriole'), ('place', 'ocean')), 0.0),\n",
      " ((('species', 'Bank Swallow'), ('place', 'ocean')), 0.0),\n",
      " ((('species', 'Barn Swallow'), ('place', 'ocean')), 0.0),\n",
      " ((('species', 'Belted Kingfisher'), ('place', 'lake natural')), 0.0),\n",
      " ((('species', 'Belted Kingfisher'), ('place', 'ocean')), 0.0),\n",
      " ((('species', 'Bewick Wren'), ('place', 'ocean')), 0.0)]\n",
      "'\\n'\n",
      "Spearman correlation:  SpearmanrResult(correlation=0.48572289762956605, pvalue=2.5850273059367234e-38)\n",
      "Pearson correlation:  (0.5083876069785447, 2.206227512240958e-42)\n"
     ]
    },
    {
     "data": {
      "image/png": "[encoded data removed]",
      "text/plain": [
       "<Figure size 432x288 with 1 Axes>"
      ]
     },
     "metadata": {
      "needs_background": "light"
     },
     "output_type": "display_data"
    },
    {
     "name": "stdout",
     "output_type": "stream",
     "text": [
      "Spearman correlation:  SpearmanrResult(correlation=0.621828247990028, pvalue=3.770684380635237e-68)\n",
      "Pearson correlation:  (0.6337425493184892, 1.6895155125640227e-71)\n"
     ]
    },
    {
     "data": {
      "image/png": "[encoded data removed]",
      "text/plain": [
       "<Figure size 432x288 with 1 Axes>"
      ]
     },
     "metadata": {
      "needs_background": "light"
     },
     "output_type": "display_data"
    }
   ],
   "source": [
    "fields = [\"species\", \"place\"]\n",
    "\n",
    "image_data = [\n",
    "    json.loads(line)\n",
    "    for line in open(\n",
    "        \"/pasteur/u/yuhuiz/data/Waterbird/processed_attribute_dataset/attributes.jsonl\"\n",
    "    )\n",
    "]\n",
    "\n",
    "def filter_fn(x):\n",
    "    return x[\"attributes\"][\"split\"] == \"val\"\n",
    "\n",
    "image_data = [x for x in image_data if filter_fn(x)]\n",
    "\n",
    "def label_fn(x):\n",
    "    return x[\"attributes\"][\"waterbird\"]\n",
    "\n",
    "for item in image_data:\n",
    "    item[\"label\"] = label_fn(item)\n",
    "\n",
    "image_dataset = ImageDataset(data=image_data)\n",
    "image_dataloader = create_dataloader(\n",
    "    dataset=image_dataset, modality=\"image\", transform=transform\n",
    ")\n",
    "image_metrics = run_one_epoch(\n",
    "    dataloader=image_dataloader,\n",
    "    model=model,\n",
    "    clip_model=clip_model,\n",
    "    modality=\"image\",\n",
    "    opt=None,\n",
    "    epoch_idx=-1,\n",
    "    eval=True,\n",
    "    verbose=True,\n",
    ")\n",
    "image_preds, image_labels = image_metrics[\"preds\"], image_metrics[\"labels\"]\n",
    "image_subgroups = subgrouping(image_data, fields)\n",
    "image_subgroup_metrics = computing_subgroup_metrics(\n",
    "    image_preds, image_labels, image_subgroups\n",
    ")\n",
    "pprint(sorted(image_subgroup_metrics.items(), key=lambda x: x[1])[:10])\n",
    "pprint(\"\\n\")\n",
    "\n",
    "attributes = {\n",
    "    \"place\": set([x[\"attributes\"][\"place\"] for x in image_data]),\n",
    "    \"species\": set([x[\"attributes\"][\"species\"] for x in image_data]),\n",
    "}\n",
    "attributes_combinations = [\n",
    "    dict(zip(attributes, x)) for x in itertools.product(*attributes.values())\n",
    "]\n",
    "species_to_label = {\n",
    "    x[\"attributes\"][\"species\"]: x[\"attributes\"][\"waterbird\"] for x in image_data\n",
    "}\n",
    "places_to_label = {\n",
    "    x[\"attributes\"][\"place\"]: x[\"attributes\"][\"waterplace\"] for x in image_data\n",
    "}\n",
    "text_data = [\n",
    "    {\n",
    "        \"text\": f\"a photo of a {x['species']} in the {x['place']}.\",\n",
    "        # \"text\": f\"{x['species']}, {x['place']}.\",\n",
    "        \"label\": species_to_label[x[\"species\"]],\n",
    "        \"attributes\": {\n",
    "            \"waterbird\": species_to_label[x[\"species\"]],\n",
    "            \"waterplace\": places_to_label[x[\"place\"]],\n",
    "            \"species\": x[\"species\"],\n",
    "            \"place\": x[\"place\"],\n",
    "        },\n",
    "    }\n",
    "    for x in attributes_combinations\n",
    "]\n",
    "print(text_data[0])\n",
    "text_dataset = TextDataset(data=text_data)\n",
    "text_dataloader = create_dataloader(dataset=text_dataset, modality=\"text\")\n",
    "text_metrics = run_one_epoch(\n",
    "    dataloader=text_dataloader,\n",
    "    model=model,\n",
    "    clip_model=clip_model,\n",
    "    modality=\"text\",\n",
    "    opt=None,\n",
    "    epoch_idx=-1,\n",
    "    eval=True,\n",
    "    verbose=True,\n",
    ")\n",
    "text_preds, text_labels = text_metrics[\"preds\"], text_metrics[\"labels\"]\n",
    "text_subgroups = subgrouping(text_data, fields)\n",
    "text_subgroup_metrics = computing_subgroup_metrics(\n",
    "    text_preds, text_labels, text_subgroups\n",
    ")\n",
    "pprint(sorted(text_subgroup_metrics.items(), key=lambda x: x[1])[:10])\n",
    "pprint(\"\\n\")\n",
    "\n",
    "\n",
    "# compute pearson and spearman correlation between image_subgroup_metrics and text_subgroup_metrics\n",
    "accs = [(text_subgroup_metrics[x], image_subgroup_metrics[x]) for x in image_subgroup_metrics]\n",
    "accs = np.array(accs)\n",
    "print(\"Spearman correlation: \", spearmanr(accs[:, 0], accs[:, 1]))\n",
    "print(\"Pearson correlation: \", pearsonr(accs[:, 0], accs[:, 1]))\n",
    "plt.scatter(accs[:, 0], accs[:, 1], alpha=0.3, s=10)\n",
    "plt.show()\n",
    "###################################################################### probs ######################################################################\n",
    "\n",
    "text_logits = text_metrics[\"logits\"]\n",
    "text_probs = torch.softmax(torch.tensor(text_logits), dim=1).numpy().tolist()\n",
    "text_subgroup_probs = {((\"species\", x[\"attributes\"][\"species\"]), (\"place\", x[\"attributes\"][\"place\"])): text_probs[i][x[\"attributes\"][\"waterbird\"]] for i, x in enumerate(text_data)}\n",
    "probs = [(text_subgroup_probs[x], image_subgroup_metrics[x]) for x in image_subgroup_metrics]\n",
    "probs = np.array(probs)\n",
    "print(\"Spearman correlation: \", spearmanr(probs[:, 0], probs[:, 1]))\n",
    "print(\"Pearson correlation: \", pearsonr(probs[:, 0], probs[:, 1]))\n",
    "plt.scatter(probs[:, 0], probs[:, 1], alpha=0.3, s=10)\n",
    "plt.show()"
   ]
  },
  {
   "cell_type": "code",
   "execution_count": 6,
   "metadata": {},
   "outputs": [
    {
     "name": "stdout",
     "output_type": "stream",
     "text": [
      "{'text': 'a bad photo of a Evening Grosbeak in the ocean.', 'label': 0, 'attributes': {'waterbird': 0, 'waterplace': 1, 'species': 'Evening Grosbeak', 'place': 'ocean'}}\n"
     ]
    },
    {
     "name": "stderr",
     "output_type": "stream",
     "text": [
      "Epoch -1, Eval True: 100%|████████████████████████████████████████████████████████████████████████████████████████████████████████████████████████████████████████████████████████| 2000/2000 [00:55<00:00, 35.92it/s]\n"
     ]
    },
    {
     "name": "stdout",
     "output_type": "stream",
     "text": [
      "Spearman correlation:  SpearmanrResult(correlation=0.626205511872194, pvalue=2.3068881873743448e-69)\n",
      "Pearson correlation:  (0.648633774263138, 6.760844055394617e-76)\n"
     ]
    },
    {
     "data": {
      "image/png": "[encoded data removed]",
      "text/plain": [
       "<Figure size 432x288 with 1 Axes>"
      ]
     },
     "metadata": {
      "needs_background": "light"
     },
     "output_type": "display_data"
    }
   ],
   "source": [
    "# Prompt Ensemble\n",
    "\n",
    "text_data = [\n",
    "    {\n",
    "        \"text\": prompt(f\"{x['species']} in the {x['place']}\"),\n",
    "        \"label\": species_to_label[x[\"species\"]],\n",
    "        \"attributes\": {\n",
    "            \"waterbird\": species_to_label[x[\"species\"]],\n",
    "            \"waterplace\": places_to_label[x[\"place\"]],\n",
    "            \"species\": x[\"species\"],\n",
    "            \"place\": x[\"place\"],\n",
    "        },\n",
    "    }\n",
    "    for x in attributes_combinations for prompt in openai_imagenet_template\n",
    "]\n",
    "print(text_data[0])\n",
    "text_dataset = TextDataset(data=text_data)\n",
    "text_dataloader = create_dataloader(dataset=text_dataset, modality=\"text\")\n",
    "text_metrics = run_one_epoch(\n",
    "    dataloader=text_dataloader,\n",
    "    model=model,\n",
    "    clip_model=clip_model,\n",
    "    modality=\"text\",\n",
    "    opt=None,\n",
    "    epoch_idx=-1,\n",
    "    eval=True,\n",
    "    verbose=True,\n",
    ")\n",
    "\n",
    "text_logits = text_metrics[\"logits\"]\n",
    "text_probs = torch.softmax(torch.tensor(text_logits), dim=1).numpy().tolist()\n",
    "text_subgroup_probs = defaultdict(list)\n",
    "for i, x in enumerate(text_data):\n",
    "    key = ((\"species\", x[\"attributes\"][\"species\"]), (\"place\", x[\"attributes\"][\"place\"]))\n",
    "    value = text_probs[i][x[\"attributes\"][\"waterbird\"]]\n",
    "    text_subgroup_probs[key].append(value)\n",
    "text_subgroup_probs = {k: float(np.mean(v)) for k, v in text_subgroup_probs.items()}\n",
    "\n",
    "probs = [(text_subgroup_probs[x], image_subgroup_metrics[x]) for x in image_subgroup_metrics]\n",
    "probs = np.array(probs)\n",
    "print(\"Spearman correlation: \", spearmanr(probs[:, 0], probs[:, 1]))\n",
    "print(\"Pearson correlation: \", pearsonr(probs[:, 0], probs[:, 1]))\n",
    "plt.scatter(probs[:, 0], probs[:, 1], alpha=0.3, s=10)\n",
    "plt.show()"
   ]
  },
  {
   "cell_type": "markdown",
   "metadata": {},
   "source": [
    "# Attribute-based Interpretation"
   ]
  },
  {
   "cell_type": "code",
   "execution_count": 2,
   "metadata": {},
   "outputs": [
    {
     "data": {
      "text/plain": [
       "<All keys matched successfully>"
      ]
     },
     "execution_count": 2,
     "metadata": {},
     "output_type": "execute_result"
    }
   ],
   "source": [
    "image_data = [\n",
    "    json.loads(line)\n",
    "    for line in open(\n",
    "        \"/pasteur/u/yuhuiz/data/Waterbird/processed_attribute_dataset/attributes.jsonl\"\n",
    "    )\n",
    "]\n",
    "\n",
    "def filter_fn(x):\n",
    "    return x[\"attributes\"][\"split\"] == \"val\"\n",
    "\n",
    "image_data = [x for x in image_data if filter_fn(x)]\n",
    "\n",
    "attributes = {\n",
    "    \"place\": set([x[\"attributes\"][\"place\"] for x in image_data]),\n",
    "    \"species\": set([x[\"attributes\"][\"species\"] for x in image_data]),\n",
    "}\n",
    "\n",
    "clip_model, transform = clip.load(name=CLIP_MODEL, device=\"cuda\")\n",
    "clip_model = clip_model.float().eval()\n",
    "model = Linear(clip_model.visual.output_dim, 2).cuda().eval()\n",
    "state_dict = torch.load(\"waterbird_linear_model.pt\")\n",
    "model.load_state_dict(state_dict)"
   ]
  },
  {
   "cell_type": "markdown",
   "metadata": {},
   "source": [
    "## Direct inflence"
   ]
  },
  {
   "cell_type": "code",
   "execution_count": 3,
   "metadata": {},
   "outputs": [
    {
     "name": "stdout",
     "output_type": "stream",
     "text": [
      "['bamboo forest', 'lake natural', 'ocean', 'forest broadleaf']\n",
      "If we care about waterbird (label = 1), the most similar attributes are:\n",
      "[('ocean', 0.5517702102661133), ('lake natural', 0.5469737648963928), ('forest broadleaf', 0.3656281530857086), ('bamboo forest', 0.3377529978752136)]\n"
     ]
    }
   ],
   "source": [
    "attribute_list = list(attributes[\"place\"])\n",
    "print(attribute_list)\n",
    "\n",
    "attribute_embeddings = F.normalize(clip_model.encode_text(clip.tokenize(attribute_list).cuda()))\n",
    "probs = torch.softmax(model(attribute_embeddings), dim=1)\n",
    "\n",
    "print(\"If we care about waterbird (label = 1), the most similar attributes are:\")\n",
    "print(sorted(zip(attribute_list, probs[:, 1].tolist()), key=lambda x: x[1], reverse=True))"
   ]
  },
  {
   "cell_type": "markdown",
   "metadata": {},
   "source": [
    "## Aggregated Influence: Shapley Value s(a) = E_{S subset {F \\ a}} [f(S, a) - f(S)]"
   ]
  },
  {
   "cell_type": "code",
   "execution_count": 25,
   "metadata": {},
   "outputs": [
    {
     "name": "stdout",
     "output_type": "stream",
     "text": [
      "Shapley value of forest broadleaf for waterbird = -0.08774338662624359\n",
      "Shapley value of lake natural for waterbird = 0.03814539313316345\n",
      "Shapley value of ocean for waterbird = 0.1020495593547821\n",
      "Shapley value of bamboo forest for waterbird = -0.10287291556596756\n"
     ]
    }
   ],
   "source": [
    "place_list = list(attributes[\"place\"])\n",
    "species_list = list(attributes[\"species\"])\n",
    "\n",
    "for place in place_list:\n",
    "    prompts = [f\"a photo of a {species}.\" for species in species_list] + [f\"a photo of a {species} in the {place}.\" for species in species_list]\n",
    "    with torch.no_grad():\n",
    "        inputs = clip.tokenize(prompts).cuda()\n",
    "        embeddings = F.normalize(clip_model.encode_text(inputs))\n",
    "        probs = torch.softmax(model(embeddings), dim=1).cpu()\n",
    "\n",
    "    print(f\"Shapley value of {place} for waterbird = {(probs[len(species_list):, 1] - probs[:len(species_list), 1]).mean()}\")"
   ]
  },
  {
   "cell_type": "code",
   "execution_count": null,
   "metadata": {},
   "outputs": [],
   "source": [
    "place_list = list(attributes[\"place\"])\n",
    "species_list = list(attributes[\"species\"])\n",
    "\n",
    "for place in place_list:\n",
    "    prompts = [f\"a photo of a {species}.\" for species in species_list] + [f\"a photo of a {species} in the {place}.\" for species in species_list]\n",
    "    with torch.no_grad():\n",
    "        inputs = clip.tokenize(prompts).cuda()\n",
    "        embeddings = F.normalize(clip_model.encode_text(inputs))\n",
    "        probs = torch.softmax(model(embeddings), dim=1).cpu()\n",
    "\n",
    "    print(f\"Shapley value of {place} for waterbird = {(probs[len(species_list):, 1] - probs[:len(species_list), 1]).mean()}\")"
   ]
  }
 ],
 "metadata": {
  "kernelspec": {
   "display_name": "Python 3 (ipykernel)",
   "language": "python",
   "name": "python3"
  },
  "language_info": {
   "codemirror_mode": {
    "name": "ipython",
    "version": 3
   },
   "file_extension": ".py",
   "mimetype": "text/x-python",
   "name": "python",
   "nbconvert_exporter": "python",
   "pygments_lexer": "ipython3",
   "version": "3.8.12"
  },
  "orig_nbformat": 4,
  "vscode": {
   "interpreter": {
    "hash": "bf49421d02fb18daac2fe024769d7389ca36bccb970e26253e571efb021ca22f"
   }
  }
 },
 "nbformat": 4,
 "nbformat_minor": 2
}
